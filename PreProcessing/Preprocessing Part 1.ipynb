{
 "cells": [
  {
   "cell_type": "code",
   "execution_count": 1,
   "id": "452b4202",
   "metadata": {
    "colab": {
     "base_uri": "https://localhost:8080/"
    },
    "executionInfo": {
     "elapsed": 24359,
     "status": "ok",
     "timestamp": 1635447682934,
     "user": {
      "displayName": "Aakash Patel",
      "photoUrl": "https://lh3.googleusercontent.com/a/default-user=s64",
      "userId": "14941999474250825199"
     },
     "user_tz": 240
    },
    "id": "452b4202",
    "outputId": "951a5559-fd2c-4516-c6ae-9b34766e10d4"
   },
   "outputs": [],
   "source": [
    "import pandas as pd\n",
    "import numpy as np\n",
    "import matplotlib.pyplot as plt\n",
    "from pandas_profiling import ProfileReport\n",
    "import seaborn as sns\n"
   ]
  },
  {
   "cell_type": "code",
   "execution_count": 2,
   "id": "61556e73",
   "metadata": {
    "executionInfo": {
     "elapsed": 633,
     "status": "ok",
     "timestamp": 1635447694384,
     "user": {
      "displayName": "Aakash Patel",
      "photoUrl": "https://lh3.googleusercontent.com/a/default-user=s64",
      "userId": "14941999474250825199"
     },
     "user_tz": 240
    },
    "id": "61556e73"
   },
   "outputs": [],
   "source": [
    "df = pd.read_csv(\"adult.csv\")"
   ]
  },
  {
   "cell_type": "code",
   "execution_count": 3,
   "id": "41cb67c2",
   "metadata": {
    "colab": {
     "base_uri": "https://localhost:8080/",
     "height": 320
    },
    "executionInfo": {
     "elapsed": 1623,
     "status": "error",
     "timestamp": 1635447705132,
     "user": {
      "displayName": "Aakash Patel",
      "photoUrl": "https://lh3.googleusercontent.com/a/default-user=s64",
      "userId": "14941999474250825199"
     },
     "user_tz": 240
    },
    "id": "41cb67c2",
    "outputId": "e4a0029c-506e-49e9-9b0c-e6df1fbf6b7f"
   },
   "outputs": [],
   "source": [
    "profile = ProfileReport(df)"
   ]
  },
  {
   "cell_type": "markdown",
   "id": "4ecdb495",
   "metadata": {
    "id": "4ecdb495"
   },
   "source": [
    "# EDA\n"
   ]
  },
  {
   "cell_type": "code",
   "execution_count": 4,
   "id": "61db0ad4",
   "metadata": {
    "colab": {
     "referenced_widgets": [
      "4c9f308a8650467abae50af192392162",
      "72068410485c49c5a62ad608f084bf00",
      "",
      "496511a455f240619db5b3d8bef5ddef"
     ]
    },
    "id": "61db0ad4",
    "outputId": "197e7c5b-9b00-4468-8429-97a555f87bb5"
   },
   "outputs": [
    {
     "data": {
      "application/vnd.jupyter.widget-view+json": {
       "model_id": "9fc858a4b67f43e0bdf4c2dc5fcdce0b",
       "version_major": 2,
       "version_minor": 0
      },
      "text/plain": [
       "Summarize dataset:   0%|          | 0/28 [00:00<?, ?it/s]"
      ]
     },
     "metadata": {},
     "output_type": "display_data"
    },
    {
     "data": {
      "application/vnd.jupyter.widget-view+json": {
       "model_id": "5cd1d88a581a44aba73909cfeaf8bd08",
       "version_major": 2,
       "version_minor": 0
      },
      "text/plain": [
       "Generate report structure:   0%|          | 0/1 [00:00<?, ?it/s]"
      ]
     },
     "metadata": {},
     "output_type": "display_data"
    },
    {
     "data": {
      "application/vnd.jupyter.widget-view+json": {
       "model_id": "",
       "version_major": 2,
       "version_minor": 0
      },
      "text/plain": [
       "Render widgets:   0%|          | 0/1 [00:00<?, ?it/s]"
      ]
     },
     "metadata": {},
     "output_type": "display_data"
    },
    {
     "data": {
      "application/vnd.jupyter.widget-view+json": {
       "model_id": "967dfd27e9f9408994cdc48483f42039",
       "version_major": 2,
       "version_minor": 0
      },
      "text/plain": [
       "VBox(children=(Tab(children=(Tab(children=(GridBox(children=(VBox(children=(GridspecLayout(children=(HTML(valu…"
      ]
     },
     "metadata": {},
     "output_type": "display_data"
    }
   ],
   "source": [
    "profile.to_widgets()"
   ]
  },
  {
   "cell_type": "markdown",
   "id": "394f2b10",
   "metadata": {
    "id": "394f2b10"
   },
   "source": [
    "So as from the profile report we can observe that.. there are no missing values, there are 6 numerical and 9 categorical varaibles. Also there are 23 duplicate entries.. which we need to drop. Also the capital gain and capital loss columns have 91 and 95 percent of the values as 0. So we can drop those two columns. Also the country and the workclass column has some garbage entries in the form of '?' , which accounts for 583 and 1836 entries respectively."
   ]
  },
  {
   "cell_type": "code",
   "execution_count": 5,
   "id": "3ab415d2",
   "metadata": {
    "executionInfo": {
     "elapsed": 70061,
     "status": "ok",
     "timestamp": 1635447797987,
     "user": {
      "displayName": "Aakash Patel",
      "photoUrl": "https://lh3.googleusercontent.com/a/default-user=s64",
      "userId": "14941999474250825199"
     },
     "user_tz": 240
    },
    "id": "3ab415d2"
   },
   "outputs": [],
   "source": [
    "question_mark = set()\n",
    "for i in range(32561):\n",
    "    for j in range(15):\n",
    "        if df.iloc[i][j] == \" ?\":\n",
    "            question_mark.add(df.index[i])"
   ]
  },
  {
   "cell_type": "code",
   "execution_count": 6,
   "id": "934122b0",
   "metadata": {
    "colab": {
     "base_uri": "https://localhost:8080/"
    },
    "executionInfo": {
     "elapsed": 176,
     "status": "ok",
     "timestamp": 1635447801223,
     "user": {
      "displayName": "Aakash Patel",
      "photoUrl": "https://lh3.googleusercontent.com/a/default-user=s64",
      "userId": "14941999474250825199"
     },
     "user_tz": 240
    },
    "id": "934122b0",
    "outputId": "ba7abeb0-6e1c-4b37-87d6-d71c7e9a9d03"
   },
   "outputs": [
    {
     "data": {
      "text/plain": [
       "2399"
      ]
     },
     "execution_count": 6,
     "metadata": {},
     "output_type": "execute_result"
    }
   ],
   "source": [
    "len(question_mark)"
   ]
  },
  {
   "cell_type": "markdown",
   "id": "ba2927cd",
   "metadata": {
    "id": "ba2927cd"
   },
   "source": [
    "Now as we have got the indexes of the places where ? is present. So now we can drop those entries."
   ]
  },
  {
   "cell_type": "code",
   "execution_count": 7,
   "id": "0be4be72",
   "metadata": {
    "executionInfo": {
     "elapsed": 194,
     "status": "ok",
     "timestamp": 1635447803819,
     "user": {
      "displayName": "Aakash Patel",
      "photoUrl": "https://lh3.googleusercontent.com/a/default-user=s64",
      "userId": "14941999474250825199"
     },
     "user_tz": 240
    },
    "id": "0be4be72"
   },
   "outputs": [],
   "source": [
    "df.drop(index=question_mark , inplace = True)"
   ]
  },
  {
   "cell_type": "code",
   "execution_count": 8,
   "id": "21b2fa68",
   "metadata": {
    "executionInfo": {
     "elapsed": 135,
     "status": "ok",
     "timestamp": 1635447804895,
     "user": {
      "displayName": "Aakash Patel",
      "photoUrl": "https://lh3.googleusercontent.com/a/default-user=s64",
      "userId": "14941999474250825199"
     },
     "user_tz": 240
    },
    "id": "21b2fa68"
   },
   "outputs": [],
   "source": [
    "df.reset_index(drop=True , inplace=True)"
   ]
  },
  {
   "cell_type": "code",
   "execution_count": 9,
   "id": "1cb70a26",
   "metadata": {
    "colab": {
     "base_uri": "https://localhost:8080/"
    },
    "executionInfo": {
     "elapsed": 10,
     "status": "ok",
     "timestamp": 1635447805800,
     "user": {
      "displayName": "Aakash Patel",
      "photoUrl": "https://lh3.googleusercontent.com/a/default-user=s64",
      "userId": "14941999474250825199"
     },
     "user_tz": 240
    },
    "id": "1cb70a26",
    "outputId": "4c7a6324-f0a4-4e61-c0aa-97907d5714fc"
   },
   "outputs": [
    {
     "data": {
      "text/plain": [
       "(30162, 15)"
      ]
     },
     "execution_count": 9,
     "metadata": {},
     "output_type": "execute_result"
    }
   ],
   "source": [
    "df.shape"
   ]
  },
  {
   "cell_type": "code",
   "execution_count": 10,
   "id": "d3913d58",
   "metadata": {
    "colab": {
     "base_uri": "https://localhost:8080/"
    },
    "executionInfo": {
     "elapsed": 8,
     "status": "ok",
     "timestamp": 1635447806738,
     "user": {
      "displayName": "Aakash Patel",
      "photoUrl": "https://lh3.googleusercontent.com/a/default-user=s64",
      "userId": "14941999474250825199"
     },
     "user_tz": 240
    },
    "id": "d3913d58",
    "outputId": "58945f01-4ee2-47d8-f49c-3a4c7584cdff"
   },
   "outputs": [
    {
     "name": "stdout",
     "output_type": "stream",
     "text": [
      "Unique categories in age feature is:\n",
      "[39 50 38 53 28 37 49 52 31 42 30 23 32 34 25 43 40 54 35 59 56 19 20 45\n",
      " 22 48 21 24 57 44 41 29 47 46 36 79 27 18 33 76 55 61 70 64 71 66 51 58\n",
      " 26 17 60 90 75 65 77 62 63 67 74 72 69 68 73 81 78 88 80 84 83 85 82 86]\n",
      "\n",
      "\n",
      "Unique categories in workclass feature is:\n",
      "[' State-gov' ' Self-emp-not-inc' ' Private' ' Federal-gov' ' Local-gov'\n",
      " ' Self-emp-inc' ' Without-pay']\n",
      "\n",
      "\n",
      "Unique categories in fnlwgt feature is:\n",
      "[ 77516  83311 215646 ...  84661 257302 201490]\n",
      "\n",
      "\n",
      "Unique categories in education feature is:\n",
      "[' Bachelors' ' HS-grad' ' 11th' ' Masters' ' 9th' ' Some-college'\n",
      " ' Assoc-acdm' ' 7th-8th' ' Doctorate' ' Assoc-voc' ' Prof-school'\n",
      " ' 5th-6th' ' 10th' ' Preschool' ' 12th' ' 1st-4th']\n",
      "\n",
      "\n",
      "Unique categories in education-num feature is:\n",
      "[13  9  7 14  5 10 12  4 16 11 15  3  6  1  8  2]\n",
      "\n",
      "\n",
      "Unique categories in marital-status feature is:\n",
      "[' Never-married' ' Married-civ-spouse' ' Divorced'\n",
      " ' Married-spouse-absent' ' Separated' ' Married-AF-spouse' ' Widowed']\n",
      "\n",
      "\n",
      "Unique categories in occupation feature is:\n",
      "[' Adm-clerical' ' Exec-managerial' ' Handlers-cleaners' ' Prof-specialty'\n",
      " ' Other-service' ' Sales' ' Transport-moving' ' Farming-fishing'\n",
      " ' Machine-op-inspct' ' Tech-support' ' Craft-repair' ' Protective-serv'\n",
      " ' Armed-Forces' ' Priv-house-serv']\n",
      "\n",
      "\n",
      "Unique categories in relationship feature is:\n",
      "[' Not-in-family' ' Husband' ' Wife' ' Own-child' ' Unmarried'\n",
      " ' Other-relative']\n",
      "\n",
      "\n",
      "Unique categories in race feature is:\n",
      "[' White' ' Black' ' Asian-Pac-Islander' ' Amer-Indian-Eskimo' ' Other']\n",
      "\n",
      "\n",
      "Unique categories in sex feature is:\n",
      "[' Male' ' Female']\n",
      "\n",
      "\n",
      "Unique categories in capital-gain feature is:\n",
      "[ 2174     0 14084  5178  5013  2407 14344 15024  7688  4064  4386  7298\n",
      "  1409  3674  1055  2050  2176   594 20051  6849  4101  8614  3411  2597\n",
      " 25236  4650  2463  3103 10605  2964  3325  2580  3471  4865 99999  6514\n",
      "  1471  2329  2105  2885 10520  2202  2961 27828  6767  2228  1506 13550\n",
      "  2635  5556  4787  3781  3137  3818   914   401  2829  2977  4934  2062\n",
      "  2354  3464  5455 15020  1424  3273 22040  4416 10566  4931  7430 34095\n",
      "  6497  3908   114  2346  2907  1151  9386  2414  2290  3418 15831 41310\n",
      "  4508  2538  3456  1848  3887  7896  5721  9562  6418  1455  2036  3942\n",
      "  1831 11678  2936  2993  7443  6360  4687  1797  6723  2009  3432  6097\n",
      "  1639  2653 18481 25124  7978   991  1173  2387  5060  1086]\n",
      "\n",
      "\n",
      "Unique categories in capital-loss feature is:\n",
      "[   0 2042 1408 1902 1887 1719 1762 1564 2179 1816 1980 1977 1876 1340\n",
      " 2206 1741 1485 2339 2415 1380 1721 2051 2377 1669 2352 1672  653 2392\n",
      " 1504 1590 1651 1628 1848 2001 1740 2002 1579 2258 1602 2547 2205 1726\n",
      " 2444 1138 2238  625  213 1539  880 1668 1092 1594 2231 1844  810 2824\n",
      " 2559 2057 1573 1974  974 2174 2149 1735 1258 2603 2282  323 2246 1617\n",
      " 1648 1825 3770 1755 3683 2129 4356 2267 2080 2457  419  155 3900 2201\n",
      " 1944 2467 2754 2472 3004 1411]\n",
      "\n",
      "\n",
      "Unique categories in hours-per-week feature is:\n",
      "[40 13 16 45 50 80 30 35 60 20 52 44 15 25 43 38 55 48 58 32 70 22 56 41\n",
      " 28 36 24 46  2 42 12 65  1 34 75 98 33 54 10  6 64 19 18 72  8  9 47 37\n",
      " 21 26 14  5  7 99 53 39 62 59 57 78 90 66 11 49 84 17 68  3 27 85 31 51\n",
      " 77 63 23  4 87 88 73 89 97 94 29 96 67 82 86 91 81 76 92 61 74 95]\n",
      "\n",
      "\n",
      "Unique categories in country feature is:\n",
      "[' United-States' ' Cuba' ' Jamaica' ' India' ' Mexico' ' Puerto-Rico'\n",
      " ' Honduras' ' England' ' Canada' ' Germany' ' Iran' ' Philippines'\n",
      " ' Poland' ' Columbia' ' Cambodia' ' Thailand' ' Ecuador' ' Laos'\n",
      " ' Taiwan' ' Haiti' ' Portugal' ' Dominican-Republic' ' El-Salvador'\n",
      " ' France' ' Guatemala' ' Italy' ' China' ' South' ' Japan' ' Yugoslavia'\n",
      " ' Peru' ' Outlying-US(Guam-USVI-etc)' ' Scotland' ' Trinadad&Tobago'\n",
      " ' Greece' ' Nicaragua' ' Vietnam' ' Hong' ' Ireland' ' Hungary'\n",
      " ' Holand-Netherlands']\n",
      "\n",
      "\n",
      "Unique categories in salary feature is:\n",
      "[' <=50K' ' >50K']\n",
      "\n",
      "\n"
     ]
    }
   ],
   "source": [
    "for i in df.columns:\n",
    "    print(\"Unique categories in {} feature is:\\n{}\\n\\n\".format(i , df[i].unique()))"
   ]
  },
  {
   "cell_type": "markdown",
   "id": "c9e1ee77",
   "metadata": {
    "id": "c9e1ee77"
   },
   "source": [
    "As earlier in the pandas profile report we saw that thier were 23 duplicate entries. So we need to drop those values."
   ]
  },
  {
   "cell_type": "code",
   "execution_count": 11,
   "id": "c47b417f",
   "metadata": {
    "colab": {
     "base_uri": "https://localhost:8080/",
     "height": 602
    },
    "executionInfo": {
     "elapsed": 306,
     "status": "ok",
     "timestamp": 1635447808817,
     "user": {
      "displayName": "Aakash Patel",
      "photoUrl": "https://lh3.googleusercontent.com/a/default-user=s64",
      "userId": "14941999474250825199"
     },
     "user_tz": 240
    },
    "id": "c47b417f",
    "outputId": "c27909a8-0447-4b02-816f-93a5a8169b9d"
   },
   "outputs": [
    {
     "data": {
      "text/html": [
       "<div>\n",
       "<style scoped>\n",
       "    .dataframe tbody tr th:only-of-type {\n",
       "        vertical-align: middle;\n",
       "    }\n",
       "\n",
       "    .dataframe tbody tr th {\n",
       "        vertical-align: top;\n",
       "    }\n",
       "\n",
       "    .dataframe thead th {\n",
       "        text-align: right;\n",
       "    }\n",
       "</style>\n",
       "<table border=\"1\" class=\"dataframe\">\n",
       "  <thead>\n",
       "    <tr style=\"text-align: right;\">\n",
       "      <th></th>\n",
       "      <th>age</th>\n",
       "      <th>workclass</th>\n",
       "      <th>fnlwgt</th>\n",
       "      <th>education</th>\n",
       "      <th>education-num</th>\n",
       "      <th>marital-status</th>\n",
       "      <th>occupation</th>\n",
       "      <th>relationship</th>\n",
       "      <th>race</th>\n",
       "      <th>sex</th>\n",
       "      <th>capital-gain</th>\n",
       "      <th>capital-loss</th>\n",
       "      <th>hours-per-week</th>\n",
       "      <th>country</th>\n",
       "      <th>salary</th>\n",
       "    </tr>\n",
       "  </thead>\n",
       "  <tbody>\n",
       "    <tr>\n",
       "      <th>0</th>\n",
       "      <td>39</td>\n",
       "      <td>State-gov</td>\n",
       "      <td>77516</td>\n",
       "      <td>Bachelors</td>\n",
       "      <td>13</td>\n",
       "      <td>Never-married</td>\n",
       "      <td>Adm-clerical</td>\n",
       "      <td>Not-in-family</td>\n",
       "      <td>White</td>\n",
       "      <td>Male</td>\n",
       "      <td>2174</td>\n",
       "      <td>0</td>\n",
       "      <td>40</td>\n",
       "      <td>United-States</td>\n",
       "      <td>&lt;=50K</td>\n",
       "    </tr>\n",
       "    <tr>\n",
       "      <th>1</th>\n",
       "      <td>50</td>\n",
       "      <td>Self-emp-not-inc</td>\n",
       "      <td>83311</td>\n",
       "      <td>Bachelors</td>\n",
       "      <td>13</td>\n",
       "      <td>Married-civ-spouse</td>\n",
       "      <td>Exec-managerial</td>\n",
       "      <td>Husband</td>\n",
       "      <td>White</td>\n",
       "      <td>Male</td>\n",
       "      <td>0</td>\n",
       "      <td>0</td>\n",
       "      <td>13</td>\n",
       "      <td>United-States</td>\n",
       "      <td>&lt;=50K</td>\n",
       "    </tr>\n",
       "    <tr>\n",
       "      <th>2</th>\n",
       "      <td>38</td>\n",
       "      <td>Private</td>\n",
       "      <td>215646</td>\n",
       "      <td>HS-grad</td>\n",
       "      <td>9</td>\n",
       "      <td>Divorced</td>\n",
       "      <td>Handlers-cleaners</td>\n",
       "      <td>Not-in-family</td>\n",
       "      <td>White</td>\n",
       "      <td>Male</td>\n",
       "      <td>0</td>\n",
       "      <td>0</td>\n",
       "      <td>40</td>\n",
       "      <td>United-States</td>\n",
       "      <td>&lt;=50K</td>\n",
       "    </tr>\n",
       "    <tr>\n",
       "      <th>3</th>\n",
       "      <td>53</td>\n",
       "      <td>Private</td>\n",
       "      <td>234721</td>\n",
       "      <td>11th</td>\n",
       "      <td>7</td>\n",
       "      <td>Married-civ-spouse</td>\n",
       "      <td>Handlers-cleaners</td>\n",
       "      <td>Husband</td>\n",
       "      <td>Black</td>\n",
       "      <td>Male</td>\n",
       "      <td>0</td>\n",
       "      <td>0</td>\n",
       "      <td>40</td>\n",
       "      <td>United-States</td>\n",
       "      <td>&lt;=50K</td>\n",
       "    </tr>\n",
       "    <tr>\n",
       "      <th>4</th>\n",
       "      <td>28</td>\n",
       "      <td>Private</td>\n",
       "      <td>338409</td>\n",
       "      <td>Bachelors</td>\n",
       "      <td>13</td>\n",
       "      <td>Married-civ-spouse</td>\n",
       "      <td>Prof-specialty</td>\n",
       "      <td>Wife</td>\n",
       "      <td>Black</td>\n",
       "      <td>Female</td>\n",
       "      <td>0</td>\n",
       "      <td>0</td>\n",
       "      <td>40</td>\n",
       "      <td>Cuba</td>\n",
       "      <td>&lt;=50K</td>\n",
       "    </tr>\n",
       "    <tr>\n",
       "      <th>...</th>\n",
       "      <td>...</td>\n",
       "      <td>...</td>\n",
       "      <td>...</td>\n",
       "      <td>...</td>\n",
       "      <td>...</td>\n",
       "      <td>...</td>\n",
       "      <td>...</td>\n",
       "      <td>...</td>\n",
       "      <td>...</td>\n",
       "      <td>...</td>\n",
       "      <td>...</td>\n",
       "      <td>...</td>\n",
       "      <td>...</td>\n",
       "      <td>...</td>\n",
       "      <td>...</td>\n",
       "    </tr>\n",
       "    <tr>\n",
       "      <th>30157</th>\n",
       "      <td>27</td>\n",
       "      <td>Private</td>\n",
       "      <td>257302</td>\n",
       "      <td>Assoc-acdm</td>\n",
       "      <td>12</td>\n",
       "      <td>Married-civ-spouse</td>\n",
       "      <td>Tech-support</td>\n",
       "      <td>Wife</td>\n",
       "      <td>White</td>\n",
       "      <td>Female</td>\n",
       "      <td>0</td>\n",
       "      <td>0</td>\n",
       "      <td>38</td>\n",
       "      <td>United-States</td>\n",
       "      <td>&lt;=50K</td>\n",
       "    </tr>\n",
       "    <tr>\n",
       "      <th>30158</th>\n",
       "      <td>40</td>\n",
       "      <td>Private</td>\n",
       "      <td>154374</td>\n",
       "      <td>HS-grad</td>\n",
       "      <td>9</td>\n",
       "      <td>Married-civ-spouse</td>\n",
       "      <td>Machine-op-inspct</td>\n",
       "      <td>Husband</td>\n",
       "      <td>White</td>\n",
       "      <td>Male</td>\n",
       "      <td>0</td>\n",
       "      <td>0</td>\n",
       "      <td>40</td>\n",
       "      <td>United-States</td>\n",
       "      <td>&gt;50K</td>\n",
       "    </tr>\n",
       "    <tr>\n",
       "      <th>30159</th>\n",
       "      <td>58</td>\n",
       "      <td>Private</td>\n",
       "      <td>151910</td>\n",
       "      <td>HS-grad</td>\n",
       "      <td>9</td>\n",
       "      <td>Widowed</td>\n",
       "      <td>Adm-clerical</td>\n",
       "      <td>Unmarried</td>\n",
       "      <td>White</td>\n",
       "      <td>Female</td>\n",
       "      <td>0</td>\n",
       "      <td>0</td>\n",
       "      <td>40</td>\n",
       "      <td>United-States</td>\n",
       "      <td>&lt;=50K</td>\n",
       "    </tr>\n",
       "    <tr>\n",
       "      <th>30160</th>\n",
       "      <td>22</td>\n",
       "      <td>Private</td>\n",
       "      <td>201490</td>\n",
       "      <td>HS-grad</td>\n",
       "      <td>9</td>\n",
       "      <td>Never-married</td>\n",
       "      <td>Adm-clerical</td>\n",
       "      <td>Own-child</td>\n",
       "      <td>White</td>\n",
       "      <td>Male</td>\n",
       "      <td>0</td>\n",
       "      <td>0</td>\n",
       "      <td>20</td>\n",
       "      <td>United-States</td>\n",
       "      <td>&lt;=50K</td>\n",
       "    </tr>\n",
       "    <tr>\n",
       "      <th>30161</th>\n",
       "      <td>52</td>\n",
       "      <td>Self-emp-inc</td>\n",
       "      <td>287927</td>\n",
       "      <td>HS-grad</td>\n",
       "      <td>9</td>\n",
       "      <td>Married-civ-spouse</td>\n",
       "      <td>Exec-managerial</td>\n",
       "      <td>Wife</td>\n",
       "      <td>White</td>\n",
       "      <td>Female</td>\n",
       "      <td>15024</td>\n",
       "      <td>0</td>\n",
       "      <td>40</td>\n",
       "      <td>United-States</td>\n",
       "      <td>&gt;50K</td>\n",
       "    </tr>\n",
       "  </tbody>\n",
       "</table>\n",
       "<p>30139 rows × 15 columns</p>\n",
       "</div>"
      ],
      "text/plain": [
       "       age          workclass  fnlwgt    education  education-num  \\\n",
       "0       39          State-gov   77516    Bachelors             13   \n",
       "1       50   Self-emp-not-inc   83311    Bachelors             13   \n",
       "2       38            Private  215646      HS-grad              9   \n",
       "3       53            Private  234721         11th              7   \n",
       "4       28            Private  338409    Bachelors             13   \n",
       "...    ...                ...     ...          ...            ...   \n",
       "30157   27            Private  257302   Assoc-acdm             12   \n",
       "30158   40            Private  154374      HS-grad              9   \n",
       "30159   58            Private  151910      HS-grad              9   \n",
       "30160   22            Private  201490      HS-grad              9   \n",
       "30161   52       Self-emp-inc  287927      HS-grad              9   \n",
       "\n",
       "            marital-status          occupation    relationship    race  \\\n",
       "0            Never-married        Adm-clerical   Not-in-family   White   \n",
       "1       Married-civ-spouse     Exec-managerial         Husband   White   \n",
       "2                 Divorced   Handlers-cleaners   Not-in-family   White   \n",
       "3       Married-civ-spouse   Handlers-cleaners         Husband   Black   \n",
       "4       Married-civ-spouse      Prof-specialty            Wife   Black   \n",
       "...                    ...                 ...             ...     ...   \n",
       "30157   Married-civ-spouse        Tech-support            Wife   White   \n",
       "30158   Married-civ-spouse   Machine-op-inspct         Husband   White   \n",
       "30159              Widowed        Adm-clerical       Unmarried   White   \n",
       "30160        Never-married        Adm-clerical       Own-child   White   \n",
       "30161   Married-civ-spouse     Exec-managerial            Wife   White   \n",
       "\n",
       "           sex  capital-gain  capital-loss  hours-per-week         country  \\\n",
       "0         Male          2174             0              40   United-States   \n",
       "1         Male             0             0              13   United-States   \n",
       "2         Male             0             0              40   United-States   \n",
       "3         Male             0             0              40   United-States   \n",
       "4       Female             0             0              40            Cuba   \n",
       "...        ...           ...           ...             ...             ...   \n",
       "30157   Female             0             0              38   United-States   \n",
       "30158     Male             0             0              40   United-States   \n",
       "30159   Female             0             0              40   United-States   \n",
       "30160     Male             0             0              20   United-States   \n",
       "30161   Female         15024             0              40   United-States   \n",
       "\n",
       "       salary  \n",
       "0       <=50K  \n",
       "1       <=50K  \n",
       "2       <=50K  \n",
       "3       <=50K  \n",
       "4       <=50K  \n",
       "...       ...  \n",
       "30157   <=50K  \n",
       "30158    >50K  \n",
       "30159   <=50K  \n",
       "30160   <=50K  \n",
       "30161    >50K  \n",
       "\n",
       "[30139 rows x 15 columns]"
      ]
     },
     "execution_count": 11,
     "metadata": {},
     "output_type": "execute_result"
    }
   ],
   "source": [
    "  df.drop_duplicates()"
   ]
  },
  {
   "cell_type": "markdown",
   "id": "94ffa568",
   "metadata": {
    "id": "94ffa568"
   },
   "source": [
    "Now as per the pandas profile report we observed that in capital gain and capital loss column almost 90% of the values are 0. Here we have two ways , either we can replace the 0 with some values or we can drop those columns. If we go by the first option ,then we will have to replace more than 25K values , which is not a vice option. So we will drop those columns."
   ]
  },
  {
   "cell_type": "code",
   "execution_count": 12,
   "id": "6db3cdf5",
   "metadata": {
    "colab": {
     "base_uri": "https://localhost:8080/"
    },
    "executionInfo": {
     "elapsed": 134,
     "status": "ok",
     "timestamp": 1635447810658,
     "user": {
      "displayName": "Aakash Patel",
      "photoUrl": "https://lh3.googleusercontent.com/a/default-user=s64",
      "userId": "14941999474250825199"
     },
     "user_tz": 240
    },
    "id": "6db3cdf5",
    "outputId": "fae72ca8-fc08-4399-99af-c45812842c41"
   },
   "outputs": [
    {
     "data": {
      "text/plain": [
       "Index(['age', 'workclass', 'fnlwgt', 'education', 'education-num',\n",
       "       'marital-status', 'occupation', 'relationship', 'race', 'sex',\n",
       "       'capital-gain', 'capital-loss', 'hours-per-week', 'country', 'salary'],\n",
       "      dtype='object')"
      ]
     },
     "execution_count": 12,
     "metadata": {},
     "output_type": "execute_result"
    }
   ],
   "source": [
    "df.columns"
   ]
  },
  {
   "cell_type": "code",
   "execution_count": 13,
   "id": "5cddef69",
   "metadata": {
    "executionInfo": {
     "elapsed": 134,
     "status": "ok",
     "timestamp": 1635447812075,
     "user": {
      "displayName": "Aakash Patel",
      "photoUrl": "https://lh3.googleusercontent.com/a/default-user=s64",
      "userId": "14941999474250825199"
     },
     "user_tz": 240
    },
    "id": "5cddef69"
   },
   "outputs": [],
   "source": [
    "df.drop(['capital-loss' ,'capital-gain'] , axis = 1 , inplace = True)"
   ]
  },
  {
   "cell_type": "code",
   "execution_count": 14,
   "id": "0a6fade4",
   "metadata": {
    "executionInfo": {
     "elapsed": 299,
     "status": "ok",
     "timestamp": 1635447813372,
     "user": {
      "displayName": "Aakash Patel",
      "photoUrl": "https://lh3.googleusercontent.com/a/default-user=s64",
      "userId": "14941999474250825199"
     },
     "user_tz": 240
    },
    "id": "0a6fade4"
   },
   "outputs": [],
   "source": [
    "num_var = [features for features in df.columns if df[features].dtype != 'O']"
   ]
  },
  {
   "cell_type": "code",
   "execution_count": 15,
   "id": "ff873511",
   "metadata": {
    "executionInfo": {
     "elapsed": 168,
     "status": "ok",
     "timestamp": 1635447815846,
     "user": {
      "displayName": "Aakash Patel",
      "photoUrl": "https://lh3.googleusercontent.com/a/default-user=s64",
      "userId": "14941999474250825199"
     },
     "user_tz": 240
    },
    "id": "ff873511"
   },
   "outputs": [],
   "source": [
    "cat_var = [features for features in df.columns if df[features].dtype == 'O']"
   ]
  },
  {
   "cell_type": "markdown",
   "id": "5f8e468c",
   "metadata": {
    "id": "5f8e468c"
   },
   "source": [
    "Now we have to convert all the categorical features to numerical ones."
   ]
  },
  {
   "cell_type": "code",
   "execution_count": 16,
   "id": "43fea866",
   "metadata": {
    "colab": {
     "base_uri": "https://localhost:8080/"
    },
    "executionInfo": {
     "elapsed": 144,
     "status": "ok",
     "timestamp": 1635447818206,
     "user": {
      "displayName": "Aakash Patel",
      "photoUrl": "https://lh3.googleusercontent.com/a/default-user=s64",
      "userId": "14941999474250825199"
     },
     "user_tz": 240
    },
    "id": "43fea866",
    "outputId": "82135255-b6ad-4b5f-870c-3d602e7cec44"
   },
   "outputs": [
    {
     "data": {
      "text/plain": [
       "array([' Male', ' Female'], dtype=object)"
      ]
     },
     "execution_count": 16,
     "metadata": {},
     "output_type": "execute_result"
    }
   ],
   "source": [
    "df.sex.unique()"
   ]
  },
  {
   "cell_type": "code",
   "execution_count": 17,
   "id": "c891cfbb",
   "metadata": {
    "executionInfo": {
     "elapsed": 180,
     "status": "ok",
     "timestamp": 1635447819151,
     "user": {
      "displayName": "Aakash Patel",
      "photoUrl": "https://lh3.googleusercontent.com/a/default-user=s64",
      "userId": "14941999474250825199"
     },
     "user_tz": 240
    },
    "id": "c891cfbb"
   },
   "outputs": [],
   "source": [
    "df.replace({' Male':0 , ' Female':1} , inplace = True)"
   ]
  },
  {
   "cell_type": "code",
   "execution_count": 18,
   "id": "ba0214fd",
   "metadata": {
    "colab": {
     "base_uri": "https://localhost:8080/"
    },
    "executionInfo": {
     "elapsed": 164,
     "status": "ok",
     "timestamp": 1635447820206,
     "user": {
      "displayName": "Aakash Patel",
      "photoUrl": "https://lh3.googleusercontent.com/a/default-user=s64",
      "userId": "14941999474250825199"
     },
     "user_tz": 240
    },
    "id": "ba0214fd",
    "outputId": "d91047ea-2726-402d-94f8-a4a252a17485"
   },
   "outputs": [
    {
     "data": {
      "text/plain": [
       "array([' <=50K', ' >50K'], dtype=object)"
      ]
     },
     "execution_count": 18,
     "metadata": {},
     "output_type": "execute_result"
    }
   ],
   "source": [
    "df.salary.unique()"
   ]
  },
  {
   "cell_type": "code",
   "execution_count": 19,
   "id": "8ee20ecb",
   "metadata": {
    "executionInfo": {
     "elapsed": 237,
     "status": "ok",
     "timestamp": 1635447821797,
     "user": {
      "displayName": "Aakash Patel",
      "photoUrl": "https://lh3.googleusercontent.com/a/default-user=s64",
      "userId": "14941999474250825199"
     },
     "user_tz": 240
    },
    "id": "8ee20ecb"
   },
   "outputs": [],
   "source": [
    "df.replace({' <=50K':0 , ' >50K':1} , inplace = True)"
   ]
  },
  {
   "cell_type": "code",
   "execution_count": 20,
   "id": "6885bb82",
   "metadata": {
    "colab": {
     "base_uri": "https://localhost:8080/"
    },
    "executionInfo": {
     "elapsed": 165,
     "status": "ok",
     "timestamp": 1635447823154,
     "user": {
      "displayName": "Aakash Patel",
      "photoUrl": "https://lh3.googleusercontent.com/a/default-user=s64",
      "userId": "14941999474250825199"
     },
     "user_tz": 240
    },
    "id": "6885bb82",
    "outputId": "c454639b-3829-42c9-abc5-296dd3306300",
    "scrolled": true
   },
   "outputs": [
    {
     "data": {
      "text/plain": [
       "array([' United-States', ' Cuba', ' Jamaica', ' India', ' Mexico',\n",
       "       ' Puerto-Rico', ' Honduras', ' England', ' Canada', ' Germany',\n",
       "       ' Iran', ' Philippines', ' Poland', ' Columbia', ' Cambodia',\n",
       "       ' Thailand', ' Ecuador', ' Laos', ' Taiwan', ' Haiti', ' Portugal',\n",
       "       ' Dominican-Republic', ' El-Salvador', ' France', ' Guatemala',\n",
       "       ' Italy', ' China', ' South', ' Japan', ' Yugoslavia', ' Peru',\n",
       "       ' Outlying-US(Guam-USVI-etc)', ' Scotland', ' Trinadad&Tobago',\n",
       "       ' Greece', ' Nicaragua', ' Vietnam', ' Hong', ' Ireland',\n",
       "       ' Hungary', ' Holand-Netherlands'], dtype=object)"
      ]
     },
     "execution_count": 20,
     "metadata": {},
     "output_type": "execute_result"
    }
   ],
   "source": [
    "df['country'].unique()"
   ]
  },
  {
   "cell_type": "code",
   "execution_count": 21,
   "id": "a463bfb8",
   "metadata": {
    "executionInfo": {
     "elapsed": 3,
     "status": "ok",
     "timestamp": 1635447824086,
     "user": {
      "displayName": "Aakash Patel",
      "photoUrl": "https://lh3.googleusercontent.com/a/default-user=s64",
      "userId": "14941999474250825199"
     },
     "user_tz": 240
    },
    "id": "a463bfb8"
   },
   "outputs": [],
   "source": [
    "north_america = [' United-States' , ' Canada' , ' Outlying-US(Guam-USVI-etc)' , ' Mexico' , ' Cuba' , ' Jamaica' , ' Dominican-Republic' , ' El-Salvador' , ' Puerto-Rico' , ' Honduras',' Haiti' , ' Guatemala' , ' Nicaragua']"
   ]
  },
  {
   "cell_type": "code",
   "execution_count": 22,
   "id": "5bf2e524",
   "metadata": {
    "executionInfo": {
     "elapsed": 2,
     "status": "ok",
     "timestamp": 1635447825407,
     "user": {
      "displayName": "Aakash Patel",
      "photoUrl": "https://lh3.googleusercontent.com/a/default-user=s64",
      "userId": "14941999474250825199"
     },
     "user_tz": 240
    },
    "id": "5bf2e524"
   },
   "outputs": [],
   "source": [
    "south_america =[' Columbia' ,  ' Ecuador' , ' Peru' ,' Trinadad&Tobago' , ' South']"
   ]
  },
  {
   "cell_type": "code",
   "execution_count": 23,
   "id": "b7467bd6",
   "metadata": {
    "executionInfo": {
     "elapsed": 5,
     "status": "ok",
     "timestamp": 1635447826026,
     "user": {
      "displayName": "Aakash Patel",
      "photoUrl": "https://lh3.googleusercontent.com/a/default-user=s64",
      "userId": "14941999474250825199"
     },
     "user_tz": 240
    },
    "id": "b7467bd6"
   },
   "outputs": [],
   "source": [
    "asia = [' Cambodia',' India' , ' China' , ' Taiwan' , ' Iran', ' Philippines' , ' Thailand' , ' Laos' , ' Japan' , ' Vietnam', ' Hong', ' Hungary']"
   ]
  },
  {
   "cell_type": "code",
   "execution_count": 24,
   "id": "64b355b0",
   "metadata": {
    "executionInfo": {
     "elapsed": 3,
     "status": "ok",
     "timestamp": 1635447827243,
     "user": {
      "displayName": "Aakash Patel",
      "photoUrl": "https://lh3.googleusercontent.com/a/default-user=s64",
      "userId": "14941999474250825199"
     },
     "user_tz": 240
    },
    "id": "64b355b0"
   },
   "outputs": [],
   "source": [
    "europe = [' England',  ' Germany' , ' France' ,' Poland' , ' Portugal' , ' Italy' , ' Yugoslavia' , ' Scotland' , ' Greece' , ' Ireland' , ' Holand-Netherlands']"
   ]
  },
  {
   "cell_type": "code",
   "execution_count": 25,
   "id": "4be321f5",
   "metadata": {
    "executionInfo": {
     "elapsed": 216,
     "status": "ok",
     "timestamp": 1635447828017,
     "user": {
      "displayName": "Aakash Patel",
      "photoUrl": "https://lh3.googleusercontent.com/a/default-user=s64",
      "userId": "14941999474250825199"
     },
     "user_tz": 240
    },
    "id": "4be321f5"
   },
   "outputs": [],
   "source": [
    "df.replace(to_replace=north_america,value='North-America',inplace=True)"
   ]
  },
  {
   "cell_type": "code",
   "execution_count": 26,
   "id": "b16621c6",
   "metadata": {
    "executionInfo": {
     "elapsed": 5,
     "status": "ok",
     "timestamp": 1635447829182,
     "user": {
      "displayName": "Aakash Patel",
      "photoUrl": "https://lh3.googleusercontent.com/a/default-user=s64",
      "userId": "14941999474250825199"
     },
     "user_tz": 240
    },
    "id": "b16621c6"
   },
   "outputs": [],
   "source": [
    "df.replace(to_replace=south_america , value='South-America' , inplace = True)"
   ]
  },
  {
   "cell_type": "code",
   "execution_count": 27,
   "id": "f37a2b90",
   "metadata": {
    "executionInfo": {
     "elapsed": 6,
     "status": "ok",
     "timestamp": 1635447830499,
     "user": {
      "displayName": "Aakash Patel",
      "photoUrl": "https://lh3.googleusercontent.com/a/default-user=s64",
      "userId": "14941999474250825199"
     },
     "user_tz": 240
    },
    "id": "f37a2b90"
   },
   "outputs": [],
   "source": [
    "df.replace(to_replace=asia , value = 'Asia' , inplace = True)"
   ]
  },
  {
   "cell_type": "code",
   "execution_count": 28,
   "id": "f2e19f33",
   "metadata": {
    "executionInfo": {
     "elapsed": 6,
     "status": "ok",
     "timestamp": 1635447831322,
     "user": {
      "displayName": "Aakash Patel",
      "photoUrl": "https://lh3.googleusercontent.com/a/default-user=s64",
      "userId": "14941999474250825199"
     },
     "user_tz": 240
    },
    "id": "f2e19f33"
   },
   "outputs": [],
   "source": [
    "df.replace(to_replace=europe , value = 'Europe' , inplace= True)"
   ]
  },
  {
   "cell_type": "code",
   "execution_count": 29,
   "id": "f4a4e618",
   "metadata": {
    "colab": {
     "base_uri": "https://localhost:8080/",
     "height": 417
    },
    "executionInfo": {
     "elapsed": 151,
     "status": "ok",
     "timestamp": 1635447832180,
     "user": {
      "displayName": "Aakash Patel",
      "photoUrl": "https://lh3.googleusercontent.com/a/default-user=s64",
      "userId": "14941999474250825199"
     },
     "user_tz": 240
    },
    "id": "f4a4e618",
    "outputId": "994c37af-3eea-4601-93da-2bc720cd8918"
   },
   "outputs": [
    {
     "data": {
      "text/html": [
       "<div>\n",
       "<style scoped>\n",
       "    .dataframe tbody tr th:only-of-type {\n",
       "        vertical-align: middle;\n",
       "    }\n",
       "\n",
       "    .dataframe tbody tr th {\n",
       "        vertical-align: top;\n",
       "    }\n",
       "\n",
       "    .dataframe thead th {\n",
       "        text-align: right;\n",
       "    }\n",
       "</style>\n",
       "<table border=\"1\" class=\"dataframe\">\n",
       "  <thead>\n",
       "    <tr style=\"text-align: right;\">\n",
       "      <th></th>\n",
       "      <th>age</th>\n",
       "      <th>workclass</th>\n",
       "      <th>fnlwgt</th>\n",
       "      <th>education</th>\n",
       "      <th>education-num</th>\n",
       "      <th>marital-status</th>\n",
       "      <th>occupation</th>\n",
       "      <th>relationship</th>\n",
       "      <th>race</th>\n",
       "      <th>sex</th>\n",
       "      <th>hours-per-week</th>\n",
       "      <th>country</th>\n",
       "      <th>salary</th>\n",
       "    </tr>\n",
       "  </thead>\n",
       "  <tbody>\n",
       "    <tr>\n",
       "      <th>0</th>\n",
       "      <td>39</td>\n",
       "      <td>State-gov</td>\n",
       "      <td>77516</td>\n",
       "      <td>Bachelors</td>\n",
       "      <td>13</td>\n",
       "      <td>Never-married</td>\n",
       "      <td>Adm-clerical</td>\n",
       "      <td>Not-in-family</td>\n",
       "      <td>White</td>\n",
       "      <td>0</td>\n",
       "      <td>40</td>\n",
       "      <td>North-America</td>\n",
       "      <td>0</td>\n",
       "    </tr>\n",
       "    <tr>\n",
       "      <th>1</th>\n",
       "      <td>50</td>\n",
       "      <td>Self-emp-not-inc</td>\n",
       "      <td>83311</td>\n",
       "      <td>Bachelors</td>\n",
       "      <td>13</td>\n",
       "      <td>Married-civ-spouse</td>\n",
       "      <td>Exec-managerial</td>\n",
       "      <td>Husband</td>\n",
       "      <td>White</td>\n",
       "      <td>0</td>\n",
       "      <td>13</td>\n",
       "      <td>North-America</td>\n",
       "      <td>0</td>\n",
       "    </tr>\n",
       "    <tr>\n",
       "      <th>2</th>\n",
       "      <td>38</td>\n",
       "      <td>Private</td>\n",
       "      <td>215646</td>\n",
       "      <td>HS-grad</td>\n",
       "      <td>9</td>\n",
       "      <td>Divorced</td>\n",
       "      <td>Handlers-cleaners</td>\n",
       "      <td>Not-in-family</td>\n",
       "      <td>White</td>\n",
       "      <td>0</td>\n",
       "      <td>40</td>\n",
       "      <td>North-America</td>\n",
       "      <td>0</td>\n",
       "    </tr>\n",
       "    <tr>\n",
       "      <th>3</th>\n",
       "      <td>53</td>\n",
       "      <td>Private</td>\n",
       "      <td>234721</td>\n",
       "      <td>11th</td>\n",
       "      <td>7</td>\n",
       "      <td>Married-civ-spouse</td>\n",
       "      <td>Handlers-cleaners</td>\n",
       "      <td>Husband</td>\n",
       "      <td>Black</td>\n",
       "      <td>0</td>\n",
       "      <td>40</td>\n",
       "      <td>North-America</td>\n",
       "      <td>0</td>\n",
       "    </tr>\n",
       "    <tr>\n",
       "      <th>4</th>\n",
       "      <td>28</td>\n",
       "      <td>Private</td>\n",
       "      <td>338409</td>\n",
       "      <td>Bachelors</td>\n",
       "      <td>13</td>\n",
       "      <td>Married-civ-spouse</td>\n",
       "      <td>Prof-specialty</td>\n",
       "      <td>Wife</td>\n",
       "      <td>Black</td>\n",
       "      <td>1</td>\n",
       "      <td>40</td>\n",
       "      <td>North-America</td>\n",
       "      <td>0</td>\n",
       "    </tr>\n",
       "    <tr>\n",
       "      <th>...</th>\n",
       "      <td>...</td>\n",
       "      <td>...</td>\n",
       "      <td>...</td>\n",
       "      <td>...</td>\n",
       "      <td>...</td>\n",
       "      <td>...</td>\n",
       "      <td>...</td>\n",
       "      <td>...</td>\n",
       "      <td>...</td>\n",
       "      <td>...</td>\n",
       "      <td>...</td>\n",
       "      <td>...</td>\n",
       "      <td>...</td>\n",
       "    </tr>\n",
       "    <tr>\n",
       "      <th>30157</th>\n",
       "      <td>27</td>\n",
       "      <td>Private</td>\n",
       "      <td>257302</td>\n",
       "      <td>Assoc-acdm</td>\n",
       "      <td>12</td>\n",
       "      <td>Married-civ-spouse</td>\n",
       "      <td>Tech-support</td>\n",
       "      <td>Wife</td>\n",
       "      <td>White</td>\n",
       "      <td>1</td>\n",
       "      <td>38</td>\n",
       "      <td>North-America</td>\n",
       "      <td>0</td>\n",
       "    </tr>\n",
       "    <tr>\n",
       "      <th>30158</th>\n",
       "      <td>40</td>\n",
       "      <td>Private</td>\n",
       "      <td>154374</td>\n",
       "      <td>HS-grad</td>\n",
       "      <td>9</td>\n",
       "      <td>Married-civ-spouse</td>\n",
       "      <td>Machine-op-inspct</td>\n",
       "      <td>Husband</td>\n",
       "      <td>White</td>\n",
       "      <td>0</td>\n",
       "      <td>40</td>\n",
       "      <td>North-America</td>\n",
       "      <td>1</td>\n",
       "    </tr>\n",
       "    <tr>\n",
       "      <th>30159</th>\n",
       "      <td>58</td>\n",
       "      <td>Private</td>\n",
       "      <td>151910</td>\n",
       "      <td>HS-grad</td>\n",
       "      <td>9</td>\n",
       "      <td>Widowed</td>\n",
       "      <td>Adm-clerical</td>\n",
       "      <td>Unmarried</td>\n",
       "      <td>White</td>\n",
       "      <td>1</td>\n",
       "      <td>40</td>\n",
       "      <td>North-America</td>\n",
       "      <td>0</td>\n",
       "    </tr>\n",
       "    <tr>\n",
       "      <th>30160</th>\n",
       "      <td>22</td>\n",
       "      <td>Private</td>\n",
       "      <td>201490</td>\n",
       "      <td>HS-grad</td>\n",
       "      <td>9</td>\n",
       "      <td>Never-married</td>\n",
       "      <td>Adm-clerical</td>\n",
       "      <td>Own-child</td>\n",
       "      <td>White</td>\n",
       "      <td>0</td>\n",
       "      <td>20</td>\n",
       "      <td>North-America</td>\n",
       "      <td>0</td>\n",
       "    </tr>\n",
       "    <tr>\n",
       "      <th>30161</th>\n",
       "      <td>52</td>\n",
       "      <td>Self-emp-inc</td>\n",
       "      <td>287927</td>\n",
       "      <td>HS-grad</td>\n",
       "      <td>9</td>\n",
       "      <td>Married-civ-spouse</td>\n",
       "      <td>Exec-managerial</td>\n",
       "      <td>Wife</td>\n",
       "      <td>White</td>\n",
       "      <td>1</td>\n",
       "      <td>40</td>\n",
       "      <td>North-America</td>\n",
       "      <td>1</td>\n",
       "    </tr>\n",
       "  </tbody>\n",
       "</table>\n",
       "<p>30162 rows × 13 columns</p>\n",
       "</div>"
      ],
      "text/plain": [
       "       age          workclass  fnlwgt    education  education-num  \\\n",
       "0       39          State-gov   77516    Bachelors             13   \n",
       "1       50   Self-emp-not-inc   83311    Bachelors             13   \n",
       "2       38            Private  215646      HS-grad              9   \n",
       "3       53            Private  234721         11th              7   \n",
       "4       28            Private  338409    Bachelors             13   \n",
       "...    ...                ...     ...          ...            ...   \n",
       "30157   27            Private  257302   Assoc-acdm             12   \n",
       "30158   40            Private  154374      HS-grad              9   \n",
       "30159   58            Private  151910      HS-grad              9   \n",
       "30160   22            Private  201490      HS-grad              9   \n",
       "30161   52       Self-emp-inc  287927      HS-grad              9   \n",
       "\n",
       "            marital-status          occupation    relationship    race  sex  \\\n",
       "0            Never-married        Adm-clerical   Not-in-family   White    0   \n",
       "1       Married-civ-spouse     Exec-managerial         Husband   White    0   \n",
       "2                 Divorced   Handlers-cleaners   Not-in-family   White    0   \n",
       "3       Married-civ-spouse   Handlers-cleaners         Husband   Black    0   \n",
       "4       Married-civ-spouse      Prof-specialty            Wife   Black    1   \n",
       "...                    ...                 ...             ...     ...  ...   \n",
       "30157   Married-civ-spouse        Tech-support            Wife   White    1   \n",
       "30158   Married-civ-spouse   Machine-op-inspct         Husband   White    0   \n",
       "30159              Widowed        Adm-clerical       Unmarried   White    1   \n",
       "30160        Never-married        Adm-clerical       Own-child   White    0   \n",
       "30161   Married-civ-spouse     Exec-managerial            Wife   White    1   \n",
       "\n",
       "       hours-per-week        country  salary  \n",
       "0                  40  North-America       0  \n",
       "1                  13  North-America       0  \n",
       "2                  40  North-America       0  \n",
       "3                  40  North-America       0  \n",
       "4                  40  North-America       0  \n",
       "...               ...            ...     ...  \n",
       "30157              38  North-America       0  \n",
       "30158              40  North-America       1  \n",
       "30159              40  North-America       0  \n",
       "30160              20  North-America       0  \n",
       "30161              40  North-America       1  \n",
       "\n",
       "[30162 rows x 13 columns]"
      ]
     },
     "execution_count": 29,
     "metadata": {},
     "output_type": "execute_result"
    }
   ],
   "source": [
    "df"
   ]
  },
  {
   "cell_type": "markdown",
   "id": "04bd0010",
   "metadata": {
    "id": "04bd0010"
   },
   "source": [
    "Now we will convert the categorical features into numerical features."
   ]
  },
  {
   "cell_type": "code",
   "execution_count": 30,
   "id": "d53e5c98",
   "metadata": {
    "colab": {
     "base_uri": "https://localhost:8080/",
     "height": 417
    },
    "executionInfo": {
     "elapsed": 193,
     "status": "ok",
     "timestamp": 1635447834529,
     "user": {
      "displayName": "Aakash Patel",
      "photoUrl": "https://lh3.googleusercontent.com/a/default-user=s64",
      "userId": "14941999474250825199"
     },
     "user_tz": 240
    },
    "id": "d53e5c98",
    "outputId": "d524337c-547a-4adb-89c3-0009850912b7"
   },
   "outputs": [
    {
     "data": {
      "text/html": [
       "<div>\n",
       "<style scoped>\n",
       "    .dataframe tbody tr th:only-of-type {\n",
       "        vertical-align: middle;\n",
       "    }\n",
       "\n",
       "    .dataframe tbody tr th {\n",
       "        vertical-align: top;\n",
       "    }\n",
       "\n",
       "    .dataframe thead th {\n",
       "        text-align: right;\n",
       "    }\n",
       "</style>\n",
       "<table border=\"1\" class=\"dataframe\">\n",
       "  <thead>\n",
       "    <tr style=\"text-align: right;\">\n",
       "      <th></th>\n",
       "      <th>age</th>\n",
       "      <th>workclass</th>\n",
       "      <th>fnlwgt</th>\n",
       "      <th>education-num</th>\n",
       "      <th>marital-status</th>\n",
       "      <th>occupation</th>\n",
       "      <th>relationship</th>\n",
       "      <th>race</th>\n",
       "      <th>sex</th>\n",
       "      <th>hours-per-week</th>\n",
       "      <th>country</th>\n",
       "      <th>salary</th>\n",
       "    </tr>\n",
       "  </thead>\n",
       "  <tbody>\n",
       "    <tr>\n",
       "      <th>0</th>\n",
       "      <td>39</td>\n",
       "      <td>State-gov</td>\n",
       "      <td>77516</td>\n",
       "      <td>13</td>\n",
       "      <td>Never-married</td>\n",
       "      <td>Adm-clerical</td>\n",
       "      <td>Not-in-family</td>\n",
       "      <td>White</td>\n",
       "      <td>0</td>\n",
       "      <td>40</td>\n",
       "      <td>North-America</td>\n",
       "      <td>0</td>\n",
       "    </tr>\n",
       "    <tr>\n",
       "      <th>1</th>\n",
       "      <td>50</td>\n",
       "      <td>Self-emp-not-inc</td>\n",
       "      <td>83311</td>\n",
       "      <td>13</td>\n",
       "      <td>Married-civ-spouse</td>\n",
       "      <td>Exec-managerial</td>\n",
       "      <td>Husband</td>\n",
       "      <td>White</td>\n",
       "      <td>0</td>\n",
       "      <td>13</td>\n",
       "      <td>North-America</td>\n",
       "      <td>0</td>\n",
       "    </tr>\n",
       "    <tr>\n",
       "      <th>2</th>\n",
       "      <td>38</td>\n",
       "      <td>Private</td>\n",
       "      <td>215646</td>\n",
       "      <td>9</td>\n",
       "      <td>Divorced</td>\n",
       "      <td>Handlers-cleaners</td>\n",
       "      <td>Not-in-family</td>\n",
       "      <td>White</td>\n",
       "      <td>0</td>\n",
       "      <td>40</td>\n",
       "      <td>North-America</td>\n",
       "      <td>0</td>\n",
       "    </tr>\n",
       "    <tr>\n",
       "      <th>3</th>\n",
       "      <td>53</td>\n",
       "      <td>Private</td>\n",
       "      <td>234721</td>\n",
       "      <td>7</td>\n",
       "      <td>Married-civ-spouse</td>\n",
       "      <td>Handlers-cleaners</td>\n",
       "      <td>Husband</td>\n",
       "      <td>Black</td>\n",
       "      <td>0</td>\n",
       "      <td>40</td>\n",
       "      <td>North-America</td>\n",
       "      <td>0</td>\n",
       "    </tr>\n",
       "    <tr>\n",
       "      <th>4</th>\n",
       "      <td>28</td>\n",
       "      <td>Private</td>\n",
       "      <td>338409</td>\n",
       "      <td>13</td>\n",
       "      <td>Married-civ-spouse</td>\n",
       "      <td>Prof-specialty</td>\n",
       "      <td>Wife</td>\n",
       "      <td>Black</td>\n",
       "      <td>1</td>\n",
       "      <td>40</td>\n",
       "      <td>North-America</td>\n",
       "      <td>0</td>\n",
       "    </tr>\n",
       "    <tr>\n",
       "      <th>...</th>\n",
       "      <td>...</td>\n",
       "      <td>...</td>\n",
       "      <td>...</td>\n",
       "      <td>...</td>\n",
       "      <td>...</td>\n",
       "      <td>...</td>\n",
       "      <td>...</td>\n",
       "      <td>...</td>\n",
       "      <td>...</td>\n",
       "      <td>...</td>\n",
       "      <td>...</td>\n",
       "      <td>...</td>\n",
       "    </tr>\n",
       "    <tr>\n",
       "      <th>30157</th>\n",
       "      <td>27</td>\n",
       "      <td>Private</td>\n",
       "      <td>257302</td>\n",
       "      <td>12</td>\n",
       "      <td>Married-civ-spouse</td>\n",
       "      <td>Tech-support</td>\n",
       "      <td>Wife</td>\n",
       "      <td>White</td>\n",
       "      <td>1</td>\n",
       "      <td>38</td>\n",
       "      <td>North-America</td>\n",
       "      <td>0</td>\n",
       "    </tr>\n",
       "    <tr>\n",
       "      <th>30158</th>\n",
       "      <td>40</td>\n",
       "      <td>Private</td>\n",
       "      <td>154374</td>\n",
       "      <td>9</td>\n",
       "      <td>Married-civ-spouse</td>\n",
       "      <td>Machine-op-inspct</td>\n",
       "      <td>Husband</td>\n",
       "      <td>White</td>\n",
       "      <td>0</td>\n",
       "      <td>40</td>\n",
       "      <td>North-America</td>\n",
       "      <td>1</td>\n",
       "    </tr>\n",
       "    <tr>\n",
       "      <th>30159</th>\n",
       "      <td>58</td>\n",
       "      <td>Private</td>\n",
       "      <td>151910</td>\n",
       "      <td>9</td>\n",
       "      <td>Widowed</td>\n",
       "      <td>Adm-clerical</td>\n",
       "      <td>Unmarried</td>\n",
       "      <td>White</td>\n",
       "      <td>1</td>\n",
       "      <td>40</td>\n",
       "      <td>North-America</td>\n",
       "      <td>0</td>\n",
       "    </tr>\n",
       "    <tr>\n",
       "      <th>30160</th>\n",
       "      <td>22</td>\n",
       "      <td>Private</td>\n",
       "      <td>201490</td>\n",
       "      <td>9</td>\n",
       "      <td>Never-married</td>\n",
       "      <td>Adm-clerical</td>\n",
       "      <td>Own-child</td>\n",
       "      <td>White</td>\n",
       "      <td>0</td>\n",
       "      <td>20</td>\n",
       "      <td>North-America</td>\n",
       "      <td>0</td>\n",
       "    </tr>\n",
       "    <tr>\n",
       "      <th>30161</th>\n",
       "      <td>52</td>\n",
       "      <td>Self-emp-inc</td>\n",
       "      <td>287927</td>\n",
       "      <td>9</td>\n",
       "      <td>Married-civ-spouse</td>\n",
       "      <td>Exec-managerial</td>\n",
       "      <td>Wife</td>\n",
       "      <td>White</td>\n",
       "      <td>1</td>\n",
       "      <td>40</td>\n",
       "      <td>North-America</td>\n",
       "      <td>1</td>\n",
       "    </tr>\n",
       "  </tbody>\n",
       "</table>\n",
       "<p>30162 rows × 12 columns</p>\n",
       "</div>"
      ],
      "text/plain": [
       "       age          workclass  fnlwgt  education-num       marital-status  \\\n",
       "0       39          State-gov   77516             13        Never-married   \n",
       "1       50   Self-emp-not-inc   83311             13   Married-civ-spouse   \n",
       "2       38            Private  215646              9             Divorced   \n",
       "3       53            Private  234721              7   Married-civ-spouse   \n",
       "4       28            Private  338409             13   Married-civ-spouse   \n",
       "...    ...                ...     ...            ...                  ...   \n",
       "30157   27            Private  257302             12   Married-civ-spouse   \n",
       "30158   40            Private  154374              9   Married-civ-spouse   \n",
       "30159   58            Private  151910              9              Widowed   \n",
       "30160   22            Private  201490              9        Never-married   \n",
       "30161   52       Self-emp-inc  287927              9   Married-civ-spouse   \n",
       "\n",
       "               occupation    relationship    race  sex  hours-per-week  \\\n",
       "0            Adm-clerical   Not-in-family   White    0              40   \n",
       "1         Exec-managerial         Husband   White    0              13   \n",
       "2       Handlers-cleaners   Not-in-family   White    0              40   \n",
       "3       Handlers-cleaners         Husband   Black    0              40   \n",
       "4          Prof-specialty            Wife   Black    1              40   \n",
       "...                   ...             ...     ...  ...             ...   \n",
       "30157        Tech-support            Wife   White    1              38   \n",
       "30158   Machine-op-inspct         Husband   White    0              40   \n",
       "30159        Adm-clerical       Unmarried   White    1              40   \n",
       "30160        Adm-clerical       Own-child   White    0              20   \n",
       "30161     Exec-managerial            Wife   White    1              40   \n",
       "\n",
       "             country  salary  \n",
       "0      North-America       0  \n",
       "1      North-America       0  \n",
       "2      North-America       0  \n",
       "3      North-America       0  \n",
       "4      North-America       0  \n",
       "...              ...     ...  \n",
       "30157  North-America       0  \n",
       "30158  North-America       1  \n",
       "30159  North-America       0  \n",
       "30160  North-America       0  \n",
       "30161  North-America       1  \n",
       "\n",
       "[30162 rows x 12 columns]"
      ]
     },
     "execution_count": 30,
     "metadata": {},
     "output_type": "execute_result"
    }
   ],
   "source": [
    "df.drop('education' , axis = 1)"
   ]
  },
  {
   "cell_type": "code",
   "execution_count": 31,
   "id": "a9be9b78",
   "metadata": {
    "colab": {
     "base_uri": "https://localhost:8080/",
     "height": 738
    },
    "executionInfo": {
     "elapsed": 1988,
     "status": "ok",
     "timestamp": 1635447837520,
     "user": {
      "displayName": "Aakash Patel",
      "photoUrl": "https://lh3.googleusercontent.com/a/default-user=s64",
      "userId": "14941999474250825199"
     },
     "user_tz": 240
    },
    "id": "a9be9b78",
    "outputId": "f3003ca3-3e17-44fd-d74f-bdc861f78842"
   },
   "outputs": [
    {
     "data": {
      "text/plain": [
       "<Figure size 3600x2160 with 0 Axes>"
      ]
     },
     "metadata": {},
     "output_type": "display_data"
    },
    {
     "data": {
      "image/png": "[encoded data removed]",
      "text/plain": [
       "<Figure size 1440x720 with 1 Axes>"
      ]
     },
     "metadata": {
      "needs_background": "light"
     },
     "output_type": "display_data"
    }
   ],
   "source": [
    "plt.figure(figsize=(50,30))\n",
    "sns.catplot(x='education',y='salary', data=df.sort_values('salary', ascending=False), kind='bar', height=10 , aspect =2 )\n",
    "plt.show()"
   ]
  },
  {
   "cell_type": "code",
   "execution_count": 32,
   "id": "787ca360",
   "metadata": {
    "colab": {
     "base_uri": "https://localhost:8080/",
     "height": 52
    },
    "executionInfo": {
     "elapsed": 22,
     "status": "ok",
     "timestamp": 1635447837524,
     "user": {
      "displayName": "Aakash Patel",
      "photoUrl": "https://lh3.googleusercontent.com/a/default-user=s64",
      "userId": "14941999474250825199"
     },
     "user_tz": 240
    },
    "id": "787ca360",
    "outputId": "754ef1b4-ee7f-49bd-cfb8-02a555c1a398"
   },
   "outputs": [
    {
     "data": {
      "text/plain": [
       "\"\\neducation  = {' Bachelors':13, ' HS-grad':9, ' 11th':7, ' Masters':14, ' 9th':5,\\n       ' Some-college':10, ' Assoc-acdm':12, ' 7th-8th':4, ' Doctorate':16,\\n       ' Assoc-voc':11, ' Prof-school':15, ' 5th-6th':3, ' 10th':6, ' Preschool':1,\\n       ' 12th':8, ' 1st-4th':2}\\n       \""
      ]
     },
     "execution_count": 32,
     "metadata": {},
     "output_type": "execute_result"
    }
   ],
   "source": [
    "#Values to be used in form for respective education level.\n",
    "'''\n",
    "education  = {' Bachelors':13, ' HS-grad':9, ' 11th':7, ' Masters':14, ' 9th':5,\n",
    "       ' Some-college':10, ' Assoc-acdm':12, ' 7th-8th':4, ' Doctorate':16,\n",
    "       ' Assoc-voc':11, ' Prof-school':15, ' 5th-6th':3, ' 10th':6, ' Preschool':1,\n",
    "       ' 12th':8, ' 1st-4th':2}\n",
    "       '''"
   ]
  },
  {
   "cell_type": "code",
   "execution_count": 33,
   "id": "1b574220",
   "metadata": {
    "colab": {
     "base_uri": "https://localhost:8080/",
     "height": 417
    },
    "executionInfo": {
     "elapsed": 13,
     "status": "ok",
     "timestamp": 1635447837740,
     "user": {
      "displayName": "Aakash Patel",
      "photoUrl": "https://lh3.googleusercontent.com/a/default-user=s64",
      "userId": "14941999474250825199"
     },
     "user_tz": 240
    },
    "id": "1b574220",
    "outputId": "f14dfe83-3005-4958-f5a7-907bfcb27184",
    "scrolled": true
   },
   "outputs": [
    {
     "data": {
      "text/html": [
       "<div>\n",
       "<style scoped>\n",
       "    .dataframe tbody tr th:only-of-type {\n",
       "        vertical-align: middle;\n",
       "    }\n",
       "\n",
       "    .dataframe tbody tr th {\n",
       "        vertical-align: top;\n",
       "    }\n",
       "\n",
       "    .dataframe thead th {\n",
       "        text-align: right;\n",
       "    }\n",
       "</style>\n",
       "<table border=\"1\" class=\"dataframe\">\n",
       "  <thead>\n",
       "    <tr style=\"text-align: right;\">\n",
       "      <th></th>\n",
       "      <th>age</th>\n",
       "      <th>workclass</th>\n",
       "      <th>fnlwgt</th>\n",
       "      <th>education</th>\n",
       "      <th>education-num</th>\n",
       "      <th>marital-status</th>\n",
       "      <th>occupation</th>\n",
       "      <th>relationship</th>\n",
       "      <th>race</th>\n",
       "      <th>sex</th>\n",
       "      <th>hours-per-week</th>\n",
       "      <th>country</th>\n",
       "      <th>salary</th>\n",
       "    </tr>\n",
       "  </thead>\n",
       "  <tbody>\n",
       "    <tr>\n",
       "      <th>0</th>\n",
       "      <td>39</td>\n",
       "      <td>State-gov</td>\n",
       "      <td>77516</td>\n",
       "      <td>Bachelors</td>\n",
       "      <td>13</td>\n",
       "      <td>Never-married</td>\n",
       "      <td>Adm-clerical</td>\n",
       "      <td>Not-in-family</td>\n",
       "      <td>White</td>\n",
       "      <td>0</td>\n",
       "      <td>40</td>\n",
       "      <td>North-America</td>\n",
       "      <td>0</td>\n",
       "    </tr>\n",
       "    <tr>\n",
       "      <th>1</th>\n",
       "      <td>50</td>\n",
       "      <td>Self-emp-not-inc</td>\n",
       "      <td>83311</td>\n",
       "      <td>Bachelors</td>\n",
       "      <td>13</td>\n",
       "      <td>Married-civ-spouse</td>\n",
       "      <td>Exec-managerial</td>\n",
       "      <td>Husband</td>\n",
       "      <td>White</td>\n",
       "      <td>0</td>\n",
       "      <td>13</td>\n",
       "      <td>North-America</td>\n",
       "      <td>0</td>\n",
       "    </tr>\n",
       "    <tr>\n",
       "      <th>2</th>\n",
       "      <td>38</td>\n",
       "      <td>Private</td>\n",
       "      <td>215646</td>\n",
       "      <td>HS-grad</td>\n",
       "      <td>9</td>\n",
       "      <td>Divorced</td>\n",
       "      <td>Handlers-cleaners</td>\n",
       "      <td>Not-in-family</td>\n",
       "      <td>White</td>\n",
       "      <td>0</td>\n",
       "      <td>40</td>\n",
       "      <td>North-America</td>\n",
       "      <td>0</td>\n",
       "    </tr>\n",
       "    <tr>\n",
       "      <th>3</th>\n",
       "      <td>53</td>\n",
       "      <td>Private</td>\n",
       "      <td>234721</td>\n",
       "      <td>11th</td>\n",
       "      <td>7</td>\n",
       "      <td>Married-civ-spouse</td>\n",
       "      <td>Handlers-cleaners</td>\n",
       "      <td>Husband</td>\n",
       "      <td>Black</td>\n",
       "      <td>0</td>\n",
       "      <td>40</td>\n",
       "      <td>North-America</td>\n",
       "      <td>0</td>\n",
       "    </tr>\n",
       "    <tr>\n",
       "      <th>4</th>\n",
       "      <td>28</td>\n",
       "      <td>Private</td>\n",
       "      <td>338409</td>\n",
       "      <td>Bachelors</td>\n",
       "      <td>13</td>\n",
       "      <td>Married-civ-spouse</td>\n",
       "      <td>Prof-specialty</td>\n",
       "      <td>Wife</td>\n",
       "      <td>Black</td>\n",
       "      <td>1</td>\n",
       "      <td>40</td>\n",
       "      <td>North-America</td>\n",
       "      <td>0</td>\n",
       "    </tr>\n",
       "    <tr>\n",
       "      <th>...</th>\n",
       "      <td>...</td>\n",
       "      <td>...</td>\n",
       "      <td>...</td>\n",
       "      <td>...</td>\n",
       "      <td>...</td>\n",
       "      <td>...</td>\n",
       "      <td>...</td>\n",
       "      <td>...</td>\n",
       "      <td>...</td>\n",
       "      <td>...</td>\n",
       "      <td>...</td>\n",
       "      <td>...</td>\n",
       "      <td>...</td>\n",
       "    </tr>\n",
       "    <tr>\n",
       "      <th>30157</th>\n",
       "      <td>27</td>\n",
       "      <td>Private</td>\n",
       "      <td>257302</td>\n",
       "      <td>Assoc-acdm</td>\n",
       "      <td>12</td>\n",
       "      <td>Married-civ-spouse</td>\n",
       "      <td>Tech-support</td>\n",
       "      <td>Wife</td>\n",
       "      <td>White</td>\n",
       "      <td>1</td>\n",
       "      <td>38</td>\n",
       "      <td>North-America</td>\n",
       "      <td>0</td>\n",
       "    </tr>\n",
       "    <tr>\n",
       "      <th>30158</th>\n",
       "      <td>40</td>\n",
       "      <td>Private</td>\n",
       "      <td>154374</td>\n",
       "      <td>HS-grad</td>\n",
       "      <td>9</td>\n",
       "      <td>Married-civ-spouse</td>\n",
       "      <td>Machine-op-inspct</td>\n",
       "      <td>Husband</td>\n",
       "      <td>White</td>\n",
       "      <td>0</td>\n",
       "      <td>40</td>\n",
       "      <td>North-America</td>\n",
       "      <td>1</td>\n",
       "    </tr>\n",
       "    <tr>\n",
       "      <th>30159</th>\n",
       "      <td>58</td>\n",
       "      <td>Private</td>\n",
       "      <td>151910</td>\n",
       "      <td>HS-grad</td>\n",
       "      <td>9</td>\n",
       "      <td>Widowed</td>\n",
       "      <td>Adm-clerical</td>\n",
       "      <td>Unmarried</td>\n",
       "      <td>White</td>\n",
       "      <td>1</td>\n",
       "      <td>40</td>\n",
       "      <td>North-America</td>\n",
       "      <td>0</td>\n",
       "    </tr>\n",
       "    <tr>\n",
       "      <th>30160</th>\n",
       "      <td>22</td>\n",
       "      <td>Private</td>\n",
       "      <td>201490</td>\n",
       "      <td>HS-grad</td>\n",
       "      <td>9</td>\n",
       "      <td>Never-married</td>\n",
       "      <td>Adm-clerical</td>\n",
       "      <td>Own-child</td>\n",
       "      <td>White</td>\n",
       "      <td>0</td>\n",
       "      <td>20</td>\n",
       "      <td>North-America</td>\n",
       "      <td>0</td>\n",
       "    </tr>\n",
       "    <tr>\n",
       "      <th>30161</th>\n",
       "      <td>52</td>\n",
       "      <td>Self-emp-inc</td>\n",
       "      <td>287927</td>\n",
       "      <td>HS-grad</td>\n",
       "      <td>9</td>\n",
       "      <td>Married-civ-spouse</td>\n",
       "      <td>Exec-managerial</td>\n",
       "      <td>Wife</td>\n",
       "      <td>White</td>\n",
       "      <td>1</td>\n",
       "      <td>40</td>\n",
       "      <td>North-America</td>\n",
       "      <td>1</td>\n",
       "    </tr>\n",
       "  </tbody>\n",
       "</table>\n",
       "<p>30162 rows × 13 columns</p>\n",
       "</div>"
      ],
      "text/plain": [
       "       age          workclass  fnlwgt    education  education-num  \\\n",
       "0       39          State-gov   77516    Bachelors             13   \n",
       "1       50   Self-emp-not-inc   83311    Bachelors             13   \n",
       "2       38            Private  215646      HS-grad              9   \n",
       "3       53            Private  234721         11th              7   \n",
       "4       28            Private  338409    Bachelors             13   \n",
       "...    ...                ...     ...          ...            ...   \n",
       "30157   27            Private  257302   Assoc-acdm             12   \n",
       "30158   40            Private  154374      HS-grad              9   \n",
       "30159   58            Private  151910      HS-grad              9   \n",
       "30160   22            Private  201490      HS-grad              9   \n",
       "30161   52       Self-emp-inc  287927      HS-grad              9   \n",
       "\n",
       "            marital-status          occupation    relationship    race  sex  \\\n",
       "0            Never-married        Adm-clerical   Not-in-family   White    0   \n",
       "1       Married-civ-spouse     Exec-managerial         Husband   White    0   \n",
       "2                 Divorced   Handlers-cleaners   Not-in-family   White    0   \n",
       "3       Married-civ-spouse   Handlers-cleaners         Husband   Black    0   \n",
       "4       Married-civ-spouse      Prof-specialty            Wife   Black    1   \n",
       "...                    ...                 ...             ...     ...  ...   \n",
       "30157   Married-civ-spouse        Tech-support            Wife   White    1   \n",
       "30158   Married-civ-spouse   Machine-op-inspct         Husband   White    0   \n",
       "30159              Widowed        Adm-clerical       Unmarried   White    1   \n",
       "30160        Never-married        Adm-clerical       Own-child   White    0   \n",
       "30161   Married-civ-spouse     Exec-managerial            Wife   White    1   \n",
       "\n",
       "       hours-per-week        country  salary  \n",
       "0                  40  North-America       0  \n",
       "1                  13  North-America       0  \n",
       "2                  40  North-America       0  \n",
       "3                  40  North-America       0  \n",
       "4                  40  North-America       0  \n",
       "...               ...            ...     ...  \n",
       "30157              38  North-America       0  \n",
       "30158              40  North-America       1  \n",
       "30159              40  North-America       0  \n",
       "30160              20  North-America       0  \n",
       "30161              40  North-America       1  \n",
       "\n",
       "[30162 rows x 13 columns]"
      ]
     },
     "execution_count": 33,
     "metadata": {},
     "output_type": "execute_result"
    }
   ],
   "source": [
    "df"
   ]
  },
  {
   "cell_type": "code",
   "execution_count": 34,
   "id": "dbd4902f",
   "metadata": {
    "colab": {
     "base_uri": "https://localhost:8080/",
     "height": 417
    },
    "executionInfo": {
     "elapsed": 256,
     "status": "ok",
     "timestamp": 1635447841390,
     "user": {
      "displayName": "Aakash Patel",
      "photoUrl": "https://lh3.googleusercontent.com/a/default-user=s64",
      "userId": "14941999474250825199"
     },
     "user_tz": 240
    },
    "id": "dbd4902f",
    "outputId": "54d83b31-11d2-4f0a-ef79-d502ac2b6d30",
    "scrolled": true
   },
   "outputs": [
    {
     "data": {
      "text/html": [
       "<div>\n",
       "<style scoped>\n",
       "    .dataframe tbody tr th:only-of-type {\n",
       "        vertical-align: middle;\n",
       "    }\n",
       "\n",
       "    .dataframe tbody tr th {\n",
       "        vertical-align: top;\n",
       "    }\n",
       "\n",
       "    .dataframe thead th {\n",
       "        text-align: right;\n",
       "    }\n",
       "</style>\n",
       "<table border=\"1\" class=\"dataframe\">\n",
       "  <thead>\n",
       "    <tr style=\"text-align: right;\">\n",
       "      <th></th>\n",
       "      <th>age</th>\n",
       "      <th>workclass</th>\n",
       "      <th>fnlwgt</th>\n",
       "      <th>education</th>\n",
       "      <th>education-num</th>\n",
       "      <th>marital-status</th>\n",
       "      <th>occupation</th>\n",
       "      <th>relationship</th>\n",
       "      <th>race</th>\n",
       "      <th>sex</th>\n",
       "      <th>hours-per-week</th>\n",
       "      <th>country</th>\n",
       "      <th>salary</th>\n",
       "    </tr>\n",
       "  </thead>\n",
       "  <tbody>\n",
       "    <tr>\n",
       "      <th>0</th>\n",
       "      <td>39</td>\n",
       "      <td>State-gov</td>\n",
       "      <td>77516</td>\n",
       "      <td>Bachelors</td>\n",
       "      <td>13</td>\n",
       "      <td>Never-married</td>\n",
       "      <td>Adm-clerical</td>\n",
       "      <td>Not-in-family</td>\n",
       "      <td>White</td>\n",
       "      <td>0</td>\n",
       "      <td>40</td>\n",
       "      <td>North-America</td>\n",
       "      <td>0</td>\n",
       "    </tr>\n",
       "    <tr>\n",
       "      <th>1</th>\n",
       "      <td>50</td>\n",
       "      <td>Self-emp-not-inc</td>\n",
       "      <td>83311</td>\n",
       "      <td>Bachelors</td>\n",
       "      <td>13</td>\n",
       "      <td>Married-civ-spouse</td>\n",
       "      <td>Exec-managerial</td>\n",
       "      <td>Husband</td>\n",
       "      <td>White</td>\n",
       "      <td>0</td>\n",
       "      <td>13</td>\n",
       "      <td>North-America</td>\n",
       "      <td>0</td>\n",
       "    </tr>\n",
       "    <tr>\n",
       "      <th>2</th>\n",
       "      <td>38</td>\n",
       "      <td>Private</td>\n",
       "      <td>215646</td>\n",
       "      <td>HS-grad</td>\n",
       "      <td>9</td>\n",
       "      <td>Divorced</td>\n",
       "      <td>Handlers-cleaners</td>\n",
       "      <td>Not-in-family</td>\n",
       "      <td>White</td>\n",
       "      <td>0</td>\n",
       "      <td>40</td>\n",
       "      <td>North-America</td>\n",
       "      <td>0</td>\n",
       "    </tr>\n",
       "    <tr>\n",
       "      <th>3</th>\n",
       "      <td>53</td>\n",
       "      <td>Private</td>\n",
       "      <td>234721</td>\n",
       "      <td>11th</td>\n",
       "      <td>7</td>\n",
       "      <td>Married-civ-spouse</td>\n",
       "      <td>Handlers-cleaners</td>\n",
       "      <td>Husband</td>\n",
       "      <td>Black</td>\n",
       "      <td>0</td>\n",
       "      <td>40</td>\n",
       "      <td>North-America</td>\n",
       "      <td>0</td>\n",
       "    </tr>\n",
       "    <tr>\n",
       "      <th>4</th>\n",
       "      <td>28</td>\n",
       "      <td>Private</td>\n",
       "      <td>338409</td>\n",
       "      <td>Bachelors</td>\n",
       "      <td>13</td>\n",
       "      <td>Married-civ-spouse</td>\n",
       "      <td>Prof-specialty</td>\n",
       "      <td>Wife</td>\n",
       "      <td>Black</td>\n",
       "      <td>1</td>\n",
       "      <td>40</td>\n",
       "      <td>North-America</td>\n",
       "      <td>0</td>\n",
       "    </tr>\n",
       "    <tr>\n",
       "      <th>...</th>\n",
       "      <td>...</td>\n",
       "      <td>...</td>\n",
       "      <td>...</td>\n",
       "      <td>...</td>\n",
       "      <td>...</td>\n",
       "      <td>...</td>\n",
       "      <td>...</td>\n",
       "      <td>...</td>\n",
       "      <td>...</td>\n",
       "      <td>...</td>\n",
       "      <td>...</td>\n",
       "      <td>...</td>\n",
       "      <td>...</td>\n",
       "    </tr>\n",
       "    <tr>\n",
       "      <th>30157</th>\n",
       "      <td>27</td>\n",
       "      <td>Private</td>\n",
       "      <td>257302</td>\n",
       "      <td>Assoc-acdm</td>\n",
       "      <td>12</td>\n",
       "      <td>Married-civ-spouse</td>\n",
       "      <td>Tech-support</td>\n",
       "      <td>Wife</td>\n",
       "      <td>White</td>\n",
       "      <td>1</td>\n",
       "      <td>38</td>\n",
       "      <td>North-America</td>\n",
       "      <td>0</td>\n",
       "    </tr>\n",
       "    <tr>\n",
       "      <th>30158</th>\n",
       "      <td>40</td>\n",
       "      <td>Private</td>\n",
       "      <td>154374</td>\n",
       "      <td>HS-grad</td>\n",
       "      <td>9</td>\n",
       "      <td>Married-civ-spouse</td>\n",
       "      <td>Machine-op-inspct</td>\n",
       "      <td>Husband</td>\n",
       "      <td>White</td>\n",
       "      <td>0</td>\n",
       "      <td>40</td>\n",
       "      <td>North-America</td>\n",
       "      <td>1</td>\n",
       "    </tr>\n",
       "    <tr>\n",
       "      <th>30159</th>\n",
       "      <td>58</td>\n",
       "      <td>Private</td>\n",
       "      <td>151910</td>\n",
       "      <td>HS-grad</td>\n",
       "      <td>9</td>\n",
       "      <td>Widowed</td>\n",
       "      <td>Adm-clerical</td>\n",
       "      <td>Unmarried</td>\n",
       "      <td>White</td>\n",
       "      <td>1</td>\n",
       "      <td>40</td>\n",
       "      <td>North-America</td>\n",
       "      <td>0</td>\n",
       "    </tr>\n",
       "    <tr>\n",
       "      <th>30160</th>\n",
       "      <td>22</td>\n",
       "      <td>Private</td>\n",
       "      <td>201490</td>\n",
       "      <td>HS-grad</td>\n",
       "      <td>9</td>\n",
       "      <td>Never-married</td>\n",
       "      <td>Adm-clerical</td>\n",
       "      <td>Own-child</td>\n",
       "      <td>White</td>\n",
       "      <td>0</td>\n",
       "      <td>20</td>\n",
       "      <td>North-America</td>\n",
       "      <td>0</td>\n",
       "    </tr>\n",
       "    <tr>\n",
       "      <th>30161</th>\n",
       "      <td>52</td>\n",
       "      <td>Self-emp-inc</td>\n",
       "      <td>287927</td>\n",
       "      <td>HS-grad</td>\n",
       "      <td>9</td>\n",
       "      <td>Married-civ-spouse</td>\n",
       "      <td>Exec-managerial</td>\n",
       "      <td>Wife</td>\n",
       "      <td>White</td>\n",
       "      <td>1</td>\n",
       "      <td>40</td>\n",
       "      <td>North-America</td>\n",
       "      <td>1</td>\n",
       "    </tr>\n",
       "  </tbody>\n",
       "</table>\n",
       "<p>30162 rows × 13 columns</p>\n",
       "</div>"
      ],
      "text/plain": [
       "       age          workclass  fnlwgt    education  education-num  \\\n",
       "0       39          State-gov   77516    Bachelors             13   \n",
       "1       50   Self-emp-not-inc   83311    Bachelors             13   \n",
       "2       38            Private  215646      HS-grad              9   \n",
       "3       53            Private  234721         11th              7   \n",
       "4       28            Private  338409    Bachelors             13   \n",
       "...    ...                ...     ...          ...            ...   \n",
       "30157   27            Private  257302   Assoc-acdm             12   \n",
       "30158   40            Private  154374      HS-grad              9   \n",
       "30159   58            Private  151910      HS-grad              9   \n",
       "30160   22            Private  201490      HS-grad              9   \n",
       "30161   52       Self-emp-inc  287927      HS-grad              9   \n",
       "\n",
       "            marital-status          occupation    relationship    race  sex  \\\n",
       "0            Never-married        Adm-clerical   Not-in-family   White    0   \n",
       "1       Married-civ-spouse     Exec-managerial         Husband   White    0   \n",
       "2                 Divorced   Handlers-cleaners   Not-in-family   White    0   \n",
       "3       Married-civ-spouse   Handlers-cleaners         Husband   Black    0   \n",
       "4       Married-civ-spouse      Prof-specialty            Wife   Black    1   \n",
       "...                    ...                 ...             ...     ...  ...   \n",
       "30157   Married-civ-spouse        Tech-support            Wife   White    1   \n",
       "30158   Married-civ-spouse   Machine-op-inspct         Husband   White    0   \n",
       "30159              Widowed        Adm-clerical       Unmarried   White    1   \n",
       "30160        Never-married        Adm-clerical       Own-child   White    0   \n",
       "30161   Married-civ-spouse     Exec-managerial            Wife   White    1   \n",
       "\n",
       "       hours-per-week        country  salary  \n",
       "0                  40  North-America       0  \n",
       "1                  13  North-America       0  \n",
       "2                  40  North-America       0  \n",
       "3                  40  North-America       0  \n",
       "4                  40  North-America       0  \n",
       "...               ...            ...     ...  \n",
       "30157              38  North-America       0  \n",
       "30158              40  North-America       1  \n",
       "30159              40  North-America       0  \n",
       "30160              20  North-America       0  \n",
       "30161              40  North-America       1  \n",
       "\n",
       "[30162 rows x 13 columns]"
      ]
     },
     "execution_count": 34,
     "metadata": {},
     "output_type": "execute_result"
    }
   ],
   "source": [
    "df"
   ]
  },
  {
   "cell_type": "code",
   "execution_count": 35,
   "id": "21a65b19",
   "metadata": {
    "executionInfo": {
     "elapsed": 4,
     "status": "ok",
     "timestamp": 1635447842621,
     "user": {
      "displayName": "Aakash Patel",
      "photoUrl": "https://lh3.googleusercontent.com/a/default-user=s64",
      "userId": "14941999474250825199"
     },
     "user_tz": 240
    },
    "id": "21a65b19"
   },
   "outputs": [],
   "source": [
    "df_temp = df.drop(['age' , 'fnlwgt' , 'education-num' , 'sex' , 'hours-per-week' , 'salary'] , axis = 1)"
   ]
  },
  {
   "cell_type": "code",
   "execution_count": 36,
   "id": "2086c774",
   "metadata": {
    "colab": {
     "base_uri": "https://localhost:8080/",
     "height": 417
    },
    "executionInfo": {
     "elapsed": 217,
     "status": "ok",
     "timestamp": 1635447843683,
     "user": {
      "displayName": "Aakash Patel",
      "photoUrl": "https://lh3.googleusercontent.com/a/default-user=s64",
      "userId": "14941999474250825199"
     },
     "user_tz": 240
    },
    "id": "2086c774",
    "outputId": "a86121a6-654b-47a8-e9a0-a46002a105f4"
   },
   "outputs": [
    {
     "data": {
      "text/html": [
       "<div>\n",
       "<style scoped>\n",
       "    .dataframe tbody tr th:only-of-type {\n",
       "        vertical-align: middle;\n",
       "    }\n",
       "\n",
       "    .dataframe tbody tr th {\n",
       "        vertical-align: top;\n",
       "    }\n",
       "\n",
       "    .dataframe thead th {\n",
       "        text-align: right;\n",
       "    }\n",
       "</style>\n",
       "<table border=\"1\" class=\"dataframe\">\n",
       "  <thead>\n",
       "    <tr style=\"text-align: right;\">\n",
       "      <th></th>\n",
       "      <th>workclass</th>\n",
       "      <th>education</th>\n",
       "      <th>marital-status</th>\n",
       "      <th>occupation</th>\n",
       "      <th>relationship</th>\n",
       "      <th>race</th>\n",
       "      <th>country</th>\n",
       "    </tr>\n",
       "  </thead>\n",
       "  <tbody>\n",
       "    <tr>\n",
       "      <th>0</th>\n",
       "      <td>State-gov</td>\n",
       "      <td>Bachelors</td>\n",
       "      <td>Never-married</td>\n",
       "      <td>Adm-clerical</td>\n",
       "      <td>Not-in-family</td>\n",
       "      <td>White</td>\n",
       "      <td>North-America</td>\n",
       "    </tr>\n",
       "    <tr>\n",
       "      <th>1</th>\n",
       "      <td>Self-emp-not-inc</td>\n",
       "      <td>Bachelors</td>\n",
       "      <td>Married-civ-spouse</td>\n",
       "      <td>Exec-managerial</td>\n",
       "      <td>Husband</td>\n",
       "      <td>White</td>\n",
       "      <td>North-America</td>\n",
       "    </tr>\n",
       "    <tr>\n",
       "      <th>2</th>\n",
       "      <td>Private</td>\n",
       "      <td>HS-grad</td>\n",
       "      <td>Divorced</td>\n",
       "      <td>Handlers-cleaners</td>\n",
       "      <td>Not-in-family</td>\n",
       "      <td>White</td>\n",
       "      <td>North-America</td>\n",
       "    </tr>\n",
       "    <tr>\n",
       "      <th>3</th>\n",
       "      <td>Private</td>\n",
       "      <td>11th</td>\n",
       "      <td>Married-civ-spouse</td>\n",
       "      <td>Handlers-cleaners</td>\n",
       "      <td>Husband</td>\n",
       "      <td>Black</td>\n",
       "      <td>North-America</td>\n",
       "    </tr>\n",
       "    <tr>\n",
       "      <th>4</th>\n",
       "      <td>Private</td>\n",
       "      <td>Bachelors</td>\n",
       "      <td>Married-civ-spouse</td>\n",
       "      <td>Prof-specialty</td>\n",
       "      <td>Wife</td>\n",
       "      <td>Black</td>\n",
       "      <td>North-America</td>\n",
       "    </tr>\n",
       "    <tr>\n",
       "      <th>...</th>\n",
       "      <td>...</td>\n",
       "      <td>...</td>\n",
       "      <td>...</td>\n",
       "      <td>...</td>\n",
       "      <td>...</td>\n",
       "      <td>...</td>\n",
       "      <td>...</td>\n",
       "    </tr>\n",
       "    <tr>\n",
       "      <th>30157</th>\n",
       "      <td>Private</td>\n",
       "      <td>Assoc-acdm</td>\n",
       "      <td>Married-civ-spouse</td>\n",
       "      <td>Tech-support</td>\n",
       "      <td>Wife</td>\n",
       "      <td>White</td>\n",
       "      <td>North-America</td>\n",
       "    </tr>\n",
       "    <tr>\n",
       "      <th>30158</th>\n",
       "      <td>Private</td>\n",
       "      <td>HS-grad</td>\n",
       "      <td>Married-civ-spouse</td>\n",
       "      <td>Machine-op-inspct</td>\n",
       "      <td>Husband</td>\n",
       "      <td>White</td>\n",
       "      <td>North-America</td>\n",
       "    </tr>\n",
       "    <tr>\n",
       "      <th>30159</th>\n",
       "      <td>Private</td>\n",
       "      <td>HS-grad</td>\n",
       "      <td>Widowed</td>\n",
       "      <td>Adm-clerical</td>\n",
       "      <td>Unmarried</td>\n",
       "      <td>White</td>\n",
       "      <td>North-America</td>\n",
       "    </tr>\n",
       "    <tr>\n",
       "      <th>30160</th>\n",
       "      <td>Private</td>\n",
       "      <td>HS-grad</td>\n",
       "      <td>Never-married</td>\n",
       "      <td>Adm-clerical</td>\n",
       "      <td>Own-child</td>\n",
       "      <td>White</td>\n",
       "      <td>North-America</td>\n",
       "    </tr>\n",
       "    <tr>\n",
       "      <th>30161</th>\n",
       "      <td>Self-emp-inc</td>\n",
       "      <td>HS-grad</td>\n",
       "      <td>Married-civ-spouse</td>\n",
       "      <td>Exec-managerial</td>\n",
       "      <td>Wife</td>\n",
       "      <td>White</td>\n",
       "      <td>North-America</td>\n",
       "    </tr>\n",
       "  </tbody>\n",
       "</table>\n",
       "<p>30162 rows × 7 columns</p>\n",
       "</div>"
      ],
      "text/plain": [
       "               workclass    education       marital-status  \\\n",
       "0              State-gov    Bachelors        Never-married   \n",
       "1       Self-emp-not-inc    Bachelors   Married-civ-spouse   \n",
       "2                Private      HS-grad             Divorced   \n",
       "3                Private         11th   Married-civ-spouse   \n",
       "4                Private    Bachelors   Married-civ-spouse   \n",
       "...                  ...          ...                  ...   \n",
       "30157            Private   Assoc-acdm   Married-civ-spouse   \n",
       "30158            Private      HS-grad   Married-civ-spouse   \n",
       "30159            Private      HS-grad              Widowed   \n",
       "30160            Private      HS-grad        Never-married   \n",
       "30161       Self-emp-inc      HS-grad   Married-civ-spouse   \n",
       "\n",
       "               occupation    relationship    race        country  \n",
       "0            Adm-clerical   Not-in-family   White  North-America  \n",
       "1         Exec-managerial         Husband   White  North-America  \n",
       "2       Handlers-cleaners   Not-in-family   White  North-America  \n",
       "3       Handlers-cleaners         Husband   Black  North-America  \n",
       "4          Prof-specialty            Wife   Black  North-America  \n",
       "...                   ...             ...     ...            ...  \n",
       "30157        Tech-support            Wife   White  North-America  \n",
       "30158   Machine-op-inspct         Husband   White  North-America  \n",
       "30159        Adm-clerical       Unmarried   White  North-America  \n",
       "30160        Adm-clerical       Own-child   White  North-America  \n",
       "30161     Exec-managerial            Wife   White  North-America  \n",
       "\n",
       "[30162 rows x 7 columns]"
      ]
     },
     "execution_count": 36,
     "metadata": {},
     "output_type": "execute_result"
    }
   ],
   "source": [
    "df_temp"
   ]
  },
  {
   "cell_type": "code",
   "execution_count": 37,
   "id": "0ad4f679",
   "metadata": {
    "colab": {
     "base_uri": "https://localhost:8080/"
    },
    "executionInfo": {
     "elapsed": 191,
     "status": "ok",
     "timestamp": 1635447845541,
     "user": {
      "displayName": "Aakash Patel",
      "photoUrl": "https://lh3.googleusercontent.com/a/default-user=s64",
      "userId": "14941999474250825199"
     },
     "user_tz": 240
    },
    "id": "0ad4f679",
    "outputId": "24261c56-b8f9-4f06-c9a0-62bcf0bfe65f"
   },
   "outputs": [
    {
     "name": "stdout",
     "output_type": "stream",
     "text": [
      "{' Private': 22286, ' Self-emp-not-inc': 2499, ' Local-gov': 2067, ' State-gov': 1279, ' Self-emp-inc': 1074, ' Federal-gov': 943, ' Without-pay': 14}\n",
      "{' HS-grad': 9840, ' Some-college': 6678, ' Bachelors': 5044, ' Masters': 1627, ' Assoc-voc': 1307, ' 11th': 1048, ' Assoc-acdm': 1008, ' 10th': 820, ' 7th-8th': 557, ' Prof-school': 542, ' 9th': 455, ' 12th': 377, ' Doctorate': 375, ' 5th-6th': 288, ' 1st-4th': 151, ' Preschool': 45}\n",
      "{' Married-civ-spouse': 14065, ' Never-married': 9726, ' Divorced': 4214, ' Separated': 939, ' Widowed': 827, ' Married-spouse-absent': 370, ' Married-AF-spouse': 21}\n",
      "{' Prof-specialty': 4038, ' Craft-repair': 4030, ' Exec-managerial': 3992, ' Adm-clerical': 3721, ' Sales': 3584, ' Other-service': 3212, ' Machine-op-inspct': 1966, ' Transport-moving': 1572, ' Handlers-cleaners': 1350, ' Farming-fishing': 989, ' Tech-support': 912, ' Protective-serv': 644, ' Priv-house-serv': 143, ' Armed-Forces': 9}\n",
      "{' Husband': 12463, ' Not-in-family': 7726, ' Own-child': 4466, ' Unmarried': 3212, ' Wife': 1406, ' Other-relative': 889}\n",
      "{' White': 25933, ' Black': 2817, ' Asian-Pac-Islander': 895, ' Amer-Indian-Eskimo': 286, ' Other': 231}\n",
      "{'North-America': 28833, 'Asia': 647, 'Europe': 480, 'South-America': 202}\n"
     ]
    }
   ],
   "source": [
    "#Counting the frequency of each variable in the dataset\n",
    "variable_count = dict()\n",
    "for i in df_temp.columns:\n",
    "    variable_count = df_temp[i].value_counts().to_dict()\n",
    "    print(variable_count)\n",
    "    df_temp[i] = df_temp[i].map(variable_count)"
   ]
  },
  {
   "cell_type": "code",
   "execution_count": 38,
   "id": "e08d9bda",
   "metadata": {
    "colab": {
     "base_uri": "https://localhost:8080/",
     "height": 417
    },
    "executionInfo": {
     "elapsed": 12,
     "status": "ok",
     "timestamp": 1635447846470,
     "user": {
      "displayName": "Aakash Patel",
      "photoUrl": "https://lh3.googleusercontent.com/a/default-user=s64",
      "userId": "14941999474250825199"
     },
     "user_tz": 240
    },
    "id": "e08d9bda",
    "outputId": "d94088f1-c05e-4832-e4a0-9aa6162f4e50"
   },
   "outputs": [
    {
     "data": {
      "text/html": [
       "<div>\n",
       "<style scoped>\n",
       "    .dataframe tbody tr th:only-of-type {\n",
       "        vertical-align: middle;\n",
       "    }\n",
       "\n",
       "    .dataframe tbody tr th {\n",
       "        vertical-align: top;\n",
       "    }\n",
       "\n",
       "    .dataframe thead th {\n",
       "        text-align: right;\n",
       "    }\n",
       "</style>\n",
       "<table border=\"1\" class=\"dataframe\">\n",
       "  <thead>\n",
       "    <tr style=\"text-align: right;\">\n",
       "      <th></th>\n",
       "      <th>workclass</th>\n",
       "      <th>education</th>\n",
       "      <th>marital-status</th>\n",
       "      <th>occupation</th>\n",
       "      <th>relationship</th>\n",
       "      <th>race</th>\n",
       "      <th>country</th>\n",
       "    </tr>\n",
       "  </thead>\n",
       "  <tbody>\n",
       "    <tr>\n",
       "      <th>0</th>\n",
       "      <td>1279</td>\n",
       "      <td>5044</td>\n",
       "      <td>9726</td>\n",
       "      <td>3721</td>\n",
       "      <td>7726</td>\n",
       "      <td>25933</td>\n",
       "      <td>28833</td>\n",
       "    </tr>\n",
       "    <tr>\n",
       "      <th>1</th>\n",
       "      <td>2499</td>\n",
       "      <td>5044</td>\n",
       "      <td>14065</td>\n",
       "      <td>3992</td>\n",
       "      <td>12463</td>\n",
       "      <td>25933</td>\n",
       "      <td>28833</td>\n",
       "    </tr>\n",
       "    <tr>\n",
       "      <th>2</th>\n",
       "      <td>22286</td>\n",
       "      <td>9840</td>\n",
       "      <td>4214</td>\n",
       "      <td>1350</td>\n",
       "      <td>7726</td>\n",
       "      <td>25933</td>\n",
       "      <td>28833</td>\n",
       "    </tr>\n",
       "    <tr>\n",
       "      <th>3</th>\n",
       "      <td>22286</td>\n",
       "      <td>1048</td>\n",
       "      <td>14065</td>\n",
       "      <td>1350</td>\n",
       "      <td>12463</td>\n",
       "      <td>2817</td>\n",
       "      <td>28833</td>\n",
       "    </tr>\n",
       "    <tr>\n",
       "      <th>4</th>\n",
       "      <td>22286</td>\n",
       "      <td>5044</td>\n",
       "      <td>14065</td>\n",
       "      <td>4038</td>\n",
       "      <td>1406</td>\n",
       "      <td>2817</td>\n",
       "      <td>28833</td>\n",
       "    </tr>\n",
       "    <tr>\n",
       "      <th>...</th>\n",
       "      <td>...</td>\n",
       "      <td>...</td>\n",
       "      <td>...</td>\n",
       "      <td>...</td>\n",
       "      <td>...</td>\n",
       "      <td>...</td>\n",
       "      <td>...</td>\n",
       "    </tr>\n",
       "    <tr>\n",
       "      <th>30157</th>\n",
       "      <td>22286</td>\n",
       "      <td>1008</td>\n",
       "      <td>14065</td>\n",
       "      <td>912</td>\n",
       "      <td>1406</td>\n",
       "      <td>25933</td>\n",
       "      <td>28833</td>\n",
       "    </tr>\n",
       "    <tr>\n",
       "      <th>30158</th>\n",
       "      <td>22286</td>\n",
       "      <td>9840</td>\n",
       "      <td>14065</td>\n",
       "      <td>1966</td>\n",
       "      <td>12463</td>\n",
       "      <td>25933</td>\n",
       "      <td>28833</td>\n",
       "    </tr>\n",
       "    <tr>\n",
       "      <th>30159</th>\n",
       "      <td>22286</td>\n",
       "      <td>9840</td>\n",
       "      <td>827</td>\n",
       "      <td>3721</td>\n",
       "      <td>3212</td>\n",
       "      <td>25933</td>\n",
       "      <td>28833</td>\n",
       "    </tr>\n",
       "    <tr>\n",
       "      <th>30160</th>\n",
       "      <td>22286</td>\n",
       "      <td>9840</td>\n",
       "      <td>9726</td>\n",
       "      <td>3721</td>\n",
       "      <td>4466</td>\n",
       "      <td>25933</td>\n",
       "      <td>28833</td>\n",
       "    </tr>\n",
       "    <tr>\n",
       "      <th>30161</th>\n",
       "      <td>1074</td>\n",
       "      <td>9840</td>\n",
       "      <td>14065</td>\n",
       "      <td>3992</td>\n",
       "      <td>1406</td>\n",
       "      <td>25933</td>\n",
       "      <td>28833</td>\n",
       "    </tr>\n",
       "  </tbody>\n",
       "</table>\n",
       "<p>30162 rows × 7 columns</p>\n",
       "</div>"
      ],
      "text/plain": [
       "       workclass  education  marital-status  occupation  relationship   race  \\\n",
       "0           1279       5044            9726        3721          7726  25933   \n",
       "1           2499       5044           14065        3992         12463  25933   \n",
       "2          22286       9840            4214        1350          7726  25933   \n",
       "3          22286       1048           14065        1350         12463   2817   \n",
       "4          22286       5044           14065        4038          1406   2817   \n",
       "...          ...        ...             ...         ...           ...    ...   \n",
       "30157      22286       1008           14065         912          1406  25933   \n",
       "30158      22286       9840           14065        1966         12463  25933   \n",
       "30159      22286       9840             827        3721          3212  25933   \n",
       "30160      22286       9840            9726        3721          4466  25933   \n",
       "30161       1074       9840           14065        3992          1406  25933   \n",
       "\n",
       "       country  \n",
       "0        28833  \n",
       "1        28833  \n",
       "2        28833  \n",
       "3        28833  \n",
       "4        28833  \n",
       "...        ...  \n",
       "30157    28833  \n",
       "30158    28833  \n",
       "30159    28833  \n",
       "30160    28833  \n",
       "30161    28833  \n",
       "\n",
       "[30162 rows x 7 columns]"
      ]
     },
     "execution_count": 38,
     "metadata": {},
     "output_type": "execute_result"
    }
   ],
   "source": [
    "df_temp"
   ]
  },
  {
   "cell_type": "code",
   "execution_count": 39,
   "id": "9af67298",
   "metadata": {
    "executionInfo": {
     "elapsed": 146,
     "status": "ok",
     "timestamp": 1635447849123,
     "user": {
      "displayName": "Aakash Patel",
      "photoUrl": "https://lh3.googleusercontent.com/a/default-user=s64",
      "userId": "14941999474250825199"
     },
     "user_tz": 240
    },
    "id": "9af67298"
   },
   "outputs": [],
   "source": [
    "df.drop(['workclass', 'education', 'marital-status', 'occupation', 'relationship', 'race', 'country'], axis=1, inplace=True)"
   ]
  },
  {
   "cell_type": "code",
   "execution_count": 40,
   "id": "17d08d96",
   "metadata": {
    "executionInfo": {
     "elapsed": 2,
     "status": "ok",
     "timestamp": 1635447849923,
     "user": {
      "displayName": "Aakash Patel",
      "photoUrl": "https://lh3.googleusercontent.com/a/default-user=s64",
      "userId": "14941999474250825199"
     },
     "user_tz": 240
    },
    "id": "17d08d96"
   },
   "outputs": [],
   "source": [
    "df = pd.concat([df, df_temp], axis=1)"
   ]
  },
  {
   "cell_type": "code",
   "execution_count": 41,
   "id": "83455701",
   "metadata": {
    "colab": {
     "base_uri": "https://localhost:8080/",
     "height": 417
    },
    "executionInfo": {
     "elapsed": 306,
     "status": "ok",
     "timestamp": 1635447851071,
     "user": {
      "displayName": "Aakash Patel",
      "photoUrl": "https://lh3.googleusercontent.com/a/default-user=s64",
      "userId": "14941999474250825199"
     },
     "user_tz": 240
    },
    "id": "83455701",
    "outputId": "778ec956-2bd0-41f2-8f23-1aff237918ed"
   },
   "outputs": [
    {
     "data": {
      "text/html": [
       "<div>\n",
       "<style scoped>\n",
       "    .dataframe tbody tr th:only-of-type {\n",
       "        vertical-align: middle;\n",
       "    }\n",
       "\n",
       "    .dataframe tbody tr th {\n",
       "        vertical-align: top;\n",
       "    }\n",
       "\n",
       "    .dataframe thead th {\n",
       "        text-align: right;\n",
       "    }\n",
       "</style>\n",
       "<table border=\"1\" class=\"dataframe\">\n",
       "  <thead>\n",
       "    <tr style=\"text-align: right;\">\n",
       "      <th></th>\n",
       "      <th>age</th>\n",
       "      <th>fnlwgt</th>\n",
       "      <th>education-num</th>\n",
       "      <th>sex</th>\n",
       "      <th>hours-per-week</th>\n",
       "      <th>salary</th>\n",
       "      <th>workclass</th>\n",
       "      <th>education</th>\n",
       "      <th>marital-status</th>\n",
       "      <th>occupation</th>\n",
       "      <th>relationship</th>\n",
       "      <th>race</th>\n",
       "      <th>country</th>\n",
       "    </tr>\n",
       "  </thead>\n",
       "  <tbody>\n",
       "    <tr>\n",
       "      <th>0</th>\n",
       "      <td>39</td>\n",
       "      <td>77516</td>\n",
       "      <td>13</td>\n",
       "      <td>0</td>\n",
       "      <td>40</td>\n",
       "      <td>0</td>\n",
       "      <td>1279</td>\n",
       "      <td>5044</td>\n",
       "      <td>9726</td>\n",
       "      <td>3721</td>\n",
       "      <td>7726</td>\n",
       "      <td>25933</td>\n",
       "      <td>28833</td>\n",
       "    </tr>\n",
       "    <tr>\n",
       "      <th>1</th>\n",
       "      <td>50</td>\n",
       "      <td>83311</td>\n",
       "      <td>13</td>\n",
       "      <td>0</td>\n",
       "      <td>13</td>\n",
       "      <td>0</td>\n",
       "      <td>2499</td>\n",
       "      <td>5044</td>\n",
       "      <td>14065</td>\n",
       "      <td>3992</td>\n",
       "      <td>12463</td>\n",
       "      <td>25933</td>\n",
       "      <td>28833</td>\n",
       "    </tr>\n",
       "    <tr>\n",
       "      <th>2</th>\n",
       "      <td>38</td>\n",
       "      <td>215646</td>\n",
       "      <td>9</td>\n",
       "      <td>0</td>\n",
       "      <td>40</td>\n",
       "      <td>0</td>\n",
       "      <td>22286</td>\n",
       "      <td>9840</td>\n",
       "      <td>4214</td>\n",
       "      <td>1350</td>\n",
       "      <td>7726</td>\n",
       "      <td>25933</td>\n",
       "      <td>28833</td>\n",
       "    </tr>\n",
       "    <tr>\n",
       "      <th>3</th>\n",
       "      <td>53</td>\n",
       "      <td>234721</td>\n",
       "      <td>7</td>\n",
       "      <td>0</td>\n",
       "      <td>40</td>\n",
       "      <td>0</td>\n",
       "      <td>22286</td>\n",
       "      <td>1048</td>\n",
       "      <td>14065</td>\n",
       "      <td>1350</td>\n",
       "      <td>12463</td>\n",
       "      <td>2817</td>\n",
       "      <td>28833</td>\n",
       "    </tr>\n",
       "    <tr>\n",
       "      <th>4</th>\n",
       "      <td>28</td>\n",
       "      <td>338409</td>\n",
       "      <td>13</td>\n",
       "      <td>1</td>\n",
       "      <td>40</td>\n",
       "      <td>0</td>\n",
       "      <td>22286</td>\n",
       "      <td>5044</td>\n",
       "      <td>14065</td>\n",
       "      <td>4038</td>\n",
       "      <td>1406</td>\n",
       "      <td>2817</td>\n",
       "      <td>28833</td>\n",
       "    </tr>\n",
       "    <tr>\n",
       "      <th>...</th>\n",
       "      <td>...</td>\n",
       "      <td>...</td>\n",
       "      <td>...</td>\n",
       "      <td>...</td>\n",
       "      <td>...</td>\n",
       "      <td>...</td>\n",
       "      <td>...</td>\n",
       "      <td>...</td>\n",
       "      <td>...</td>\n",
       "      <td>...</td>\n",
       "      <td>...</td>\n",
       "      <td>...</td>\n",
       "      <td>...</td>\n",
       "    </tr>\n",
       "    <tr>\n",
       "      <th>30157</th>\n",
       "      <td>27</td>\n",
       "      <td>257302</td>\n",
       "      <td>12</td>\n",
       "      <td>1</td>\n",
       "      <td>38</td>\n",
       "      <td>0</td>\n",
       "      <td>22286</td>\n",
       "      <td>1008</td>\n",
       "      <td>14065</td>\n",
       "      <td>912</td>\n",
       "      <td>1406</td>\n",
       "      <td>25933</td>\n",
       "      <td>28833</td>\n",
       "    </tr>\n",
       "    <tr>\n",
       "      <th>30158</th>\n",
       "      <td>40</td>\n",
       "      <td>154374</td>\n",
       "      <td>9</td>\n",
       "      <td>0</td>\n",
       "      <td>40</td>\n",
       "      <td>1</td>\n",
       "      <td>22286</td>\n",
       "      <td>9840</td>\n",
       "      <td>14065</td>\n",
       "      <td>1966</td>\n",
       "      <td>12463</td>\n",
       "      <td>25933</td>\n",
       "      <td>28833</td>\n",
       "    </tr>\n",
       "    <tr>\n",
       "      <th>30159</th>\n",
       "      <td>58</td>\n",
       "      <td>151910</td>\n",
       "      <td>9</td>\n",
       "      <td>1</td>\n",
       "      <td>40</td>\n",
       "      <td>0</td>\n",
       "      <td>22286</td>\n",
       "      <td>9840</td>\n",
       "      <td>827</td>\n",
       "      <td>3721</td>\n",
       "      <td>3212</td>\n",
       "      <td>25933</td>\n",
       "      <td>28833</td>\n",
       "    </tr>\n",
       "    <tr>\n",
       "      <th>30160</th>\n",
       "      <td>22</td>\n",
       "      <td>201490</td>\n",
       "      <td>9</td>\n",
       "      <td>0</td>\n",
       "      <td>20</td>\n",
       "      <td>0</td>\n",
       "      <td>22286</td>\n",
       "      <td>9840</td>\n",
       "      <td>9726</td>\n",
       "      <td>3721</td>\n",
       "      <td>4466</td>\n",
       "      <td>25933</td>\n",
       "      <td>28833</td>\n",
       "    </tr>\n",
       "    <tr>\n",
       "      <th>30161</th>\n",
       "      <td>52</td>\n",
       "      <td>287927</td>\n",
       "      <td>9</td>\n",
       "      <td>1</td>\n",
       "      <td>40</td>\n",
       "      <td>1</td>\n",
       "      <td>1074</td>\n",
       "      <td>9840</td>\n",
       "      <td>14065</td>\n",
       "      <td>3992</td>\n",
       "      <td>1406</td>\n",
       "      <td>25933</td>\n",
       "      <td>28833</td>\n",
       "    </tr>\n",
       "  </tbody>\n",
       "</table>\n",
       "<p>30162 rows × 13 columns</p>\n",
       "</div>"
      ],
      "text/plain": [
       "       age  fnlwgt  education-num  sex  hours-per-week  salary  workclass  \\\n",
       "0       39   77516             13    0              40       0       1279   \n",
       "1       50   83311             13    0              13       0       2499   \n",
       "2       38  215646              9    0              40       0      22286   \n",
       "3       53  234721              7    0              40       0      22286   \n",
       "4       28  338409             13    1              40       0      22286   \n",
       "...    ...     ...            ...  ...             ...     ...        ...   \n",
       "30157   27  257302             12    1              38       0      22286   \n",
       "30158   40  154374              9    0              40       1      22286   \n",
       "30159   58  151910              9    1              40       0      22286   \n",
       "30160   22  201490              9    0              20       0      22286   \n",
       "30161   52  287927              9    1              40       1       1074   \n",
       "\n",
       "       education  marital-status  occupation  relationship   race  country  \n",
       "0           5044            9726        3721          7726  25933    28833  \n",
       "1           5044           14065        3992         12463  25933    28833  \n",
       "2           9840            4214        1350          7726  25933    28833  \n",
       "3           1048           14065        1350         12463   2817    28833  \n",
       "4           5044           14065        4038          1406   2817    28833  \n",
       "...          ...             ...         ...           ...    ...      ...  \n",
       "30157       1008           14065         912          1406  25933    28833  \n",
       "30158       9840           14065        1966         12463  25933    28833  \n",
       "30159       9840             827        3721          3212  25933    28833  \n",
       "30160       9840            9726        3721          4466  25933    28833  \n",
       "30161       9840           14065        3992          1406  25933    28833  \n",
       "\n",
       "[30162 rows x 13 columns]"
      ]
     },
     "execution_count": 41,
     "metadata": {},
     "output_type": "execute_result"
    }
   ],
   "source": [
    "df"
   ]
  },
  {
   "cell_type": "code",
   "execution_count": 42,
   "id": "19aae1cd",
   "metadata": {
    "colab": {
     "base_uri": "https://localhost:8080/",
     "height": 17
    },
    "executionInfo": {
     "elapsed": 14,
     "status": "ok",
     "timestamp": 1635447851995,
     "user": {
      "displayName": "Aakash Patel",
      "photoUrl": "https://lh3.googleusercontent.com/a/default-user=s64",
      "userId": "14941999474250825199"
     },
     "user_tz": 240
    },
    "id": "19aae1cd",
    "outputId": "4abbed5d-414d-4529-bb56-0007804dba07"
   },
   "outputs": [
    {
     "data": {
      "application/javascript": [
       "IPython.OutputArea.prototype._should_scroll = function(lines) {\n",
       "    return false;\n",
       "}\n"
      ],
      "text/plain": [
       "<IPython.core.display.Javascript object>"
      ]
     },
     "metadata": {},
     "output_type": "display_data"
    }
   ],
   "source": [
    "%%javascript\n",
    "IPython.OutputArea.prototype._should_scroll = function(lines) {\n",
    "    return false;\n",
    "}"
   ]
  },
  {
   "cell_type": "code",
   "execution_count": 43,
   "id": "ab6f59c5",
   "metadata": {
    "colab": {
     "base_uri": "https://localhost:8080/",
     "height": 1000
    },
    "executionInfo": {
     "elapsed": 7349,
     "status": "ok",
     "timestamp": 1635447860169,
     "user": {
      "displayName": "Aakash Patel",
      "photoUrl": "https://lh3.googleusercontent.com/a/default-user=s64",
      "userId": "14941999474250825199"
     },
     "user_tz": 240
    },
    "id": "ab6f59c5",
    "outputId": "25a5eb23-cb86-43e2-d9ce-f14c7514ef29"
   },
   "outputs": [
    {
     "data": {
      "image/png": "[encoded data removed]",
      "text/plain": [
       "<Figure size 1440x7200 with 13 Axes>"
      ]
     },
     "metadata": {
      "needs_background": "light"
     },
     "output_type": "display_data"
    }
   ],
   "source": [
    "plt.figure(figsize=(20,100))\n",
    "i = 1\n",
    "\n",
    "for features in df.columns:\n",
    "    if i <=14:\n",
    "        ax = plt.subplot(14 ,1 , i)\n",
    "        sns.histplot(df[features] , kde = True , element='poly')\n",
    "        plt.xlabel(features , fontsize = 15)\n",
    "    i+=1\n",
    "plt.show()"
   ]
  },
  {
   "cell_type": "markdown",
   "id": "22f99109",
   "metadata": {
    "id": "22f99109"
   },
   "source": [
    "The above histogram shows that the data is not normally distributed. The data normalization will be carried out in the further analysis of the data. Excluding the columns which has boolean values"
   ]
  },
  {
   "cell_type": "code",
   "execution_count": 44,
   "id": "d7693cbc",
   "metadata": {
    "colab": {
     "base_uri": "https://localhost:8080/",
     "height": 1000
    },
    "executionInfo": {
     "elapsed": 2914,
     "status": "ok",
     "timestamp": 1635447873883,
     "user": {
      "displayName": "Aakash Patel",
      "photoUrl": "https://lh3.googleusercontent.com/a/default-user=s64",
      "userId": "14941999474250825199"
     },
     "user_tz": 240
    },
    "id": "d7693cbc",
    "outputId": "1c97e832-e3a8-4358-cb0f-dd421b59445b"
   },
   "outputs": [
    {
     "name": "stderr",
     "output_type": "stream",
     "text": [
      "C:\\Users\\AAKASH\\anaconda3.1\\lib\\site-packages\\seaborn\\_decorators.py:36: FutureWarning: Pass the following variable as a keyword arg: x. From version 0.12, the only valid positional argument will be `data`, and passing other arguments without an explicit keyword will result in an error or misinterpretation.\n",
      "  warnings.warn(\n",
      "C:\\Users\\AAKASH\\anaconda3.1\\lib\\site-packages\\seaborn\\_decorators.py:36: FutureWarning: Pass the following variable as a keyword arg: x. From version 0.12, the only valid positional argument will be `data`, and passing other arguments without an explicit keyword will result in an error or misinterpretation.\n",
      "  warnings.warn(\n",
      "C:\\Users\\AAKASH\\anaconda3.1\\lib\\site-packages\\seaborn\\_decorators.py:36: FutureWarning: Pass the following variable as a keyword arg: x. From version 0.12, the only valid positional argument will be `data`, and passing other arguments without an explicit keyword will result in an error or misinterpretation.\n",
      "  warnings.warn(\n",
      "C:\\Users\\AAKASH\\anaconda3.1\\lib\\site-packages\\seaborn\\_decorators.py:36: FutureWarning: Pass the following variable as a keyword arg: x. From version 0.12, the only valid positional argument will be `data`, and passing other arguments without an explicit keyword will result in an error or misinterpretation.\n",
      "  warnings.warn(\n",
      "C:\\Users\\AAKASH\\anaconda3.1\\lib\\site-packages\\seaborn\\_decorators.py:36: FutureWarning: Pass the following variable as a keyword arg: x. From version 0.12, the only valid positional argument will be `data`, and passing other arguments without an explicit keyword will result in an error or misinterpretation.\n",
      "  warnings.warn(\n",
      "C:\\Users\\AAKASH\\anaconda3.1\\lib\\site-packages\\seaborn\\_decorators.py:36: FutureWarning: Pass the following variable as a keyword arg: x. From version 0.12, the only valid positional argument will be `data`, and passing other arguments without an explicit keyword will result in an error or misinterpretation.\n",
      "  warnings.warn(\n",
      "C:\\Users\\AAKASH\\anaconda3.1\\lib\\site-packages\\seaborn\\_decorators.py:36: FutureWarning: Pass the following variable as a keyword arg: x. From version 0.12, the only valid positional argument will be `data`, and passing other arguments without an explicit keyword will result in an error or misinterpretation.\n",
      "  warnings.warn(\n",
      "C:\\Users\\AAKASH\\anaconda3.1\\lib\\site-packages\\seaborn\\_decorators.py:36: FutureWarning: Pass the following variable as a keyword arg: x. From version 0.12, the only valid positional argument will be `data`, and passing other arguments without an explicit keyword will result in an error or misinterpretation.\n",
      "  warnings.warn(\n",
      "C:\\Users\\AAKASH\\anaconda3.1\\lib\\site-packages\\seaborn\\_decorators.py:36: FutureWarning: Pass the following variable as a keyword arg: x. From version 0.12, the only valid positional argument will be `data`, and passing other arguments without an explicit keyword will result in an error or misinterpretation.\n",
      "  warnings.warn(\n",
      "C:\\Users\\AAKASH\\anaconda3.1\\lib\\site-packages\\seaborn\\_decorators.py:36: FutureWarning: Pass the following variable as a keyword arg: x. From version 0.12, the only valid positional argument will be `data`, and passing other arguments without an explicit keyword will result in an error or misinterpretation.\n",
      "  warnings.warn(\n",
      "C:\\Users\\AAKASH\\anaconda3.1\\lib\\site-packages\\seaborn\\_decorators.py:36: FutureWarning: Pass the following variable as a keyword arg: x. From version 0.12, the only valid positional argument will be `data`, and passing other arguments without an explicit keyword will result in an error or misinterpretation.\n",
      "  warnings.warn(\n",
      "C:\\Users\\AAKASH\\anaconda3.1\\lib\\site-packages\\seaborn\\_decorators.py:36: FutureWarning: Pass the following variable as a keyword arg: x. From version 0.12, the only valid positional argument will be `data`, and passing other arguments without an explicit keyword will result in an error or misinterpretation.\n",
      "  warnings.warn(\n",
      "C:\\Users\\AAKASH\\anaconda3.1\\lib\\site-packages\\seaborn\\_decorators.py:36: FutureWarning: Pass the following variable as a keyword arg: x. From version 0.12, the only valid positional argument will be `data`, and passing other arguments without an explicit keyword will result in an error or misinterpretation.\n",
      "  warnings.warn(\n"
     ]
    },
    {
     "data": {
      "image/png": "[encoded data removed]",
      "text/plain": [
       "<Figure size 1440x5040 with 13 Axes>"
      ]
     },
     "metadata": {
      "needs_background": "light"
     },
     "output_type": "display_data"
    }
   ],
   "source": [
    "plt.figure(figsize=(20,70))\n",
    "i = 1\n",
    "\n",
    "for features in df.columns:\n",
    "    if i <=14:\n",
    "        ax = plt.subplot(14 ,1 , i)\n",
    "        sns.boxplot(df[features])\n",
    "        plt.xlabel(features , fontsize = 15)\n",
    "    i+=1\n",
    "plt.show()"
   ]
  },
  {
   "cell_type": "markdown",
   "id": "58e7654b",
   "metadata": {
    "id": "58e7654b"
   },
   "source": [
    "Now as per the above box plots it can be seen that their are outliers in age , fnlwgt and hours per week column"
   ]
  },
  {
   "cell_type": "code",
   "execution_count": 45,
   "id": "add4e8ee",
   "metadata": {
    "colab": {
     "base_uri": "https://localhost:8080/"
    },
    "executionInfo": {
     "elapsed": 269,
     "status": "ok",
     "timestamp": 1635447877308,
     "user": {
      "displayName": "Aakash Patel",
      "photoUrl": "https://lh3.googleusercontent.com/a/default-user=s64",
      "userId": "14941999474250825199"
     },
     "user_tz": 240
    },
    "id": "add4e8ee",
    "outputId": "284a7133-db53-4610-aad7-a1a4a1700b9e"
   },
   "outputs": [
    {
     "name": "stdout",
     "output_type": "stream",
     "text": [
      "19.0\n",
      "(29993, 13)\n"
     ]
    }
   ],
   "source": [
    "Q1 = np.percentile(df['age'] , 25 , interpolation='midpoint')\n",
    "Q3 = np.percentile(df['age'] , 75 , interpolation='midpoint')\n",
    "IQR = Q3 - Q1\n",
    "print(IQR)\n",
    "\n",
    "upper = np.where(df['age'] >= (Q3+1.5*IQR))\n",
    "lower = np.where(df['age'] <= (Q1-1.5*IQR))\n",
    "\n",
    "df.drop(upper[0] , inplace=True)\n",
    "df.drop(lower[0] , inplace=True)\n",
    "print(df.shape)"
   ]
  },
  {
   "cell_type": "code",
   "execution_count": 46,
   "id": "e632b276",
   "metadata": {
    "colab": {
     "base_uri": "https://localhost:8080/",
     "height": 852
    },
    "executionInfo": {
     "elapsed": 554,
     "status": "ok",
     "timestamp": 1635447878911,
     "user": {
      "displayName": "Aakash Patel",
      "photoUrl": "https://lh3.googleusercontent.com/a/default-user=s64",
      "userId": "14941999474250825199"
     },
     "user_tz": 240
    },
    "id": "e632b276",
    "outputId": "bd86a788-734d-46cf-d23b-8a8b3d232a17"
   },
   "outputs": [
    {
     "data": {
      "text/plain": [
       "<AxesSubplot:>"
      ]
     },
     "execution_count": 46,
     "metadata": {},
     "output_type": "execute_result"
    },
    {
     "data": {
      "image/png": "[encoded data removed]",
      "text/plain": [
       "<Figure size 360x720 with 1 Axes>"
      ]
     },
     "metadata": {
      "needs_background": "light"
     },
     "output_type": "display_data"
    }
   ],
   "source": [
    "plt.figure(figsize =(5,10))\n",
    "sns.boxplot(data = df['age'])"
   ]
  },
  {
   "cell_type": "code",
   "execution_count": 47,
   "id": "d4a45221",
   "metadata": {
    "executionInfo": {
     "elapsed": 180,
     "status": "ok",
     "timestamp": 1635448257879,
     "user": {
      "displayName": "Aakash Patel",
      "photoUrl": "https://lh3.googleusercontent.com/a/default-user=s64",
      "userId": "14941999474250825199"
     },
     "user_tz": 240
    },
    "id": "d4a45221"
   },
   "outputs": [],
   "source": [
    "from scipy import stats\n"
   ]
  },
  {
   "cell_type": "code",
   "execution_count": 48,
   "id": "meXWlmX7T_um",
   "metadata": {
    "executionInfo": {
     "elapsed": 146,
     "status": "ok",
     "timestamp": 1635448297929,
     "user": {
      "displayName": "Aakash Patel",
      "photoUrl": "https://lh3.googleusercontent.com/a/default-user=s64",
      "userId": "14941999474250825199"
     },
     "user_tz": 240
    },
    "id": "meXWlmX7T_um"
   },
   "outputs": [],
   "source": [
    "z = np.abs(stats.zscore(df['fnlwgt']))"
   ]
  },
  {
   "cell_type": "code",
   "execution_count": 49,
   "id": "dxnVtkBKUJhY",
   "metadata": {
    "colab": {
     "base_uri": "https://localhost:8080/"
    },
    "executionInfo": {
     "elapsed": 161,
     "status": "ok",
     "timestamp": 1635448303725,
     "user": {
      "displayName": "Aakash Patel",
      "photoUrl": "https://lh3.googleusercontent.com/a/default-user=s64",
      "userId": "14941999474250825199"
     },
     "user_tz": 240
    },
    "id": "dxnVtkBKUJhY",
    "outputId": "444776fd-f362-4798-b2c7-44e7580f3290"
   },
   "outputs": [
    {
     "name": "stdout",
     "output_type": "stream",
     "text": [
      "[1.06300815 1.0082089  0.24319039 ... 0.35951626 0.10932703 0.92670111]\n"
     ]
    }
   ],
   "source": [
    "print(z)"
   ]
  },
  {
   "cell_type": "code",
   "execution_count": 50,
   "id": "EgsRvYHPUK5_",
   "metadata": {
    "executionInfo": {
     "elapsed": 162,
     "status": "ok",
     "timestamp": 1635448435131,
     "user": {
      "displayName": "Aakash Patel",
      "photoUrl": "https://lh3.googleusercontent.com/a/default-user=s64",
      "userId": "14941999474250825199"
     },
     "user_tz": 240
    },
    "id": "EgsRvYHPUK5_"
   },
   "outputs": [],
   "source": [
    "df_fnlwgt_outliers = df['fnlwgt'][(z<3)]"
   ]
  },
  {
   "cell_type": "code",
   "execution_count": 51,
   "id": "v8zjaF8AUeTS",
   "metadata": {
    "colab": {
     "base_uri": "https://localhost:8080/"
    },
    "executionInfo": {
     "elapsed": 158,
     "status": "ok",
     "timestamp": 1635448446334,
     "user": {
      "displayName": "Aakash Patel",
      "photoUrl": "https://lh3.googleusercontent.com/a/default-user=s64",
      "userId": "14941999474250825199"
     },
     "user_tz": 240
    },
    "id": "v8zjaF8AUeTS",
    "outputId": "8d7366bc-80d3-4fac-951e-251e309630c7"
   },
   "outputs": [
    {
     "data": {
      "text/plain": [
       "(29674,)"
      ]
     },
     "execution_count": 51,
     "metadata": {},
     "output_type": "execute_result"
    }
   ],
   "source": [
    "df_fnlwgt_outliers.shape"
   ]
  },
  {
   "cell_type": "code",
   "execution_count": 52,
   "id": "YG1L8eUCUtwH",
   "metadata": {
    "colab": {
     "base_uri": "https://localhost:8080/",
     "height": 852
    },
    "executionInfo": {
     "elapsed": 166,
     "status": "ok",
     "timestamp": 1635448479202,
     "user": {
      "displayName": "Aakash Patel",
      "photoUrl": "https://lh3.googleusercontent.com/a/default-user=s64",
      "userId": "14941999474250825199"
     },
     "user_tz": 240
    },
    "id": "YG1L8eUCUtwH",
    "outputId": "03e76e85-9d77-4566-fecb-b0a0d6c2f769"
   },
   "outputs": [
    {
     "data": {
      "text/plain": [
       "<AxesSubplot:>"
      ]
     },
     "execution_count": 52,
     "metadata": {},
     "output_type": "execute_result"
    },
    {
     "data": {
      "image/png": "[encoded data removed]",
      "text/plain": [
       "<Figure size 360x720 with 1 Axes>"
      ]
     },
     "metadata": {
      "needs_background": "light"
     },
     "output_type": "display_data"
    }
   ],
   "source": [
    "plt.figure(figsize =(5,10))\n",
    "sns.boxplot(data = df_fnlwgt_outliers)"
   ]
  },
  {
   "cell_type": "code",
   "execution_count": 53,
   "id": "dKilohwAU1uC",
   "metadata": {
    "executionInfo": {
     "elapsed": 160,
     "status": "ok",
     "timestamp": 1635448769105,
     "user": {
      "displayName": "Aakash Patel",
      "photoUrl": "https://lh3.googleusercontent.com/a/default-user=s64",
      "userId": "14941999474250825199"
     },
     "user_tz": 240
    },
    "id": "dKilohwAU1uC"
   },
   "outputs": [],
   "source": [
    "df.drop(['fnlwgt'] , axis=1 , inplace=True)"
   ]
  },
  {
   "cell_type": "code",
   "execution_count": 54,
   "id": "ZHzzjCMxVDD8",
   "metadata": {
    "executionInfo": {
     "elapsed": 308,
     "status": "ok",
     "timestamp": 1635448774484,
     "user": {
      "displayName": "Aakash Patel",
      "photoUrl": "https://lh3.googleusercontent.com/a/default-user=s64",
      "userId": "14941999474250825199"
     },
     "user_tz": 240
    },
    "id": "ZHzzjCMxVDD8"
   },
   "outputs": [],
   "source": [
    "df = pd.concat([df , df_fnlwgt_outliers] , axis=1)"
   ]
  },
  {
   "cell_type": "code",
   "execution_count": 55,
   "id": "H8CDdSleVzJG",
   "metadata": {
    "colab": {
     "base_uri": "https://localhost:8080/",
     "height": 417
    },
    "executionInfo": {
     "elapsed": 11,
     "status": "ok",
     "timestamp": 1635448775583,
     "user": {
      "displayName": "Aakash Patel",
      "photoUrl": "https://lh3.googleusercontent.com/a/default-user=s64",
      "userId": "14941999474250825199"
     },
     "user_tz": 240
    },
    "id": "H8CDdSleVzJG",
    "outputId": "6183a934-83a7-4cc1-8458-43b66c6b8bce"
   },
   "outputs": [
    {
     "data": {
      "text/html": [
       "<div>\n",
       "<style scoped>\n",
       "    .dataframe tbody tr th:only-of-type {\n",
       "        vertical-align: middle;\n",
       "    }\n",
       "\n",
       "    .dataframe tbody tr th {\n",
       "        vertical-align: top;\n",
       "    }\n",
       "\n",
       "    .dataframe thead th {\n",
       "        text-align: right;\n",
       "    }\n",
       "</style>\n",
       "<table border=\"1\" class=\"dataframe\">\n",
       "  <thead>\n",
       "    <tr style=\"text-align: right;\">\n",
       "      <th></th>\n",
       "      <th>age</th>\n",
       "      <th>education-num</th>\n",
       "      <th>sex</th>\n",
       "      <th>hours-per-week</th>\n",
       "      <th>salary</th>\n",
       "      <th>workclass</th>\n",
       "      <th>education</th>\n",
       "      <th>marital-status</th>\n",
       "      <th>occupation</th>\n",
       "      <th>relationship</th>\n",
       "      <th>race</th>\n",
       "      <th>country</th>\n",
       "      <th>fnlwgt</th>\n",
       "    </tr>\n",
       "  </thead>\n",
       "  <tbody>\n",
       "    <tr>\n",
       "      <th>0</th>\n",
       "      <td>39</td>\n",
       "      <td>13</td>\n",
       "      <td>0</td>\n",
       "      <td>40</td>\n",
       "      <td>0</td>\n",
       "      <td>1279</td>\n",
       "      <td>5044</td>\n",
       "      <td>9726</td>\n",
       "      <td>3721</td>\n",
       "      <td>7726</td>\n",
       "      <td>25933</td>\n",
       "      <td>28833</td>\n",
       "      <td>77516.0</td>\n",
       "    </tr>\n",
       "    <tr>\n",
       "      <th>1</th>\n",
       "      <td>50</td>\n",
       "      <td>13</td>\n",
       "      <td>0</td>\n",
       "      <td>13</td>\n",
       "      <td>0</td>\n",
       "      <td>2499</td>\n",
       "      <td>5044</td>\n",
       "      <td>14065</td>\n",
       "      <td>3992</td>\n",
       "      <td>12463</td>\n",
       "      <td>25933</td>\n",
       "      <td>28833</td>\n",
       "      <td>83311.0</td>\n",
       "    </tr>\n",
       "    <tr>\n",
       "      <th>2</th>\n",
       "      <td>38</td>\n",
       "      <td>9</td>\n",
       "      <td>0</td>\n",
       "      <td>40</td>\n",
       "      <td>0</td>\n",
       "      <td>22286</td>\n",
       "      <td>9840</td>\n",
       "      <td>4214</td>\n",
       "      <td>1350</td>\n",
       "      <td>7726</td>\n",
       "      <td>25933</td>\n",
       "      <td>28833</td>\n",
       "      <td>215646.0</td>\n",
       "    </tr>\n",
       "    <tr>\n",
       "      <th>3</th>\n",
       "      <td>53</td>\n",
       "      <td>7</td>\n",
       "      <td>0</td>\n",
       "      <td>40</td>\n",
       "      <td>0</td>\n",
       "      <td>22286</td>\n",
       "      <td>1048</td>\n",
       "      <td>14065</td>\n",
       "      <td>1350</td>\n",
       "      <td>12463</td>\n",
       "      <td>2817</td>\n",
       "      <td>28833</td>\n",
       "      <td>234721.0</td>\n",
       "    </tr>\n",
       "    <tr>\n",
       "      <th>4</th>\n",
       "      <td>28</td>\n",
       "      <td>13</td>\n",
       "      <td>1</td>\n",
       "      <td>40</td>\n",
       "      <td>0</td>\n",
       "      <td>22286</td>\n",
       "      <td>5044</td>\n",
       "      <td>14065</td>\n",
       "      <td>4038</td>\n",
       "      <td>1406</td>\n",
       "      <td>2817</td>\n",
       "      <td>28833</td>\n",
       "      <td>338409.0</td>\n",
       "    </tr>\n",
       "    <tr>\n",
       "      <th>...</th>\n",
       "      <td>...</td>\n",
       "      <td>...</td>\n",
       "      <td>...</td>\n",
       "      <td>...</td>\n",
       "      <td>...</td>\n",
       "      <td>...</td>\n",
       "      <td>...</td>\n",
       "      <td>...</td>\n",
       "      <td>...</td>\n",
       "      <td>...</td>\n",
       "      <td>...</td>\n",
       "      <td>...</td>\n",
       "      <td>...</td>\n",
       "    </tr>\n",
       "    <tr>\n",
       "      <th>30157</th>\n",
       "      <td>27</td>\n",
       "      <td>12</td>\n",
       "      <td>1</td>\n",
       "      <td>38</td>\n",
       "      <td>0</td>\n",
       "      <td>22286</td>\n",
       "      <td>1008</td>\n",
       "      <td>14065</td>\n",
       "      <td>912</td>\n",
       "      <td>1406</td>\n",
       "      <td>25933</td>\n",
       "      <td>28833</td>\n",
       "      <td>257302.0</td>\n",
       "    </tr>\n",
       "    <tr>\n",
       "      <th>30158</th>\n",
       "      <td>40</td>\n",
       "      <td>9</td>\n",
       "      <td>0</td>\n",
       "      <td>40</td>\n",
       "      <td>1</td>\n",
       "      <td>22286</td>\n",
       "      <td>9840</td>\n",
       "      <td>14065</td>\n",
       "      <td>1966</td>\n",
       "      <td>12463</td>\n",
       "      <td>25933</td>\n",
       "      <td>28833</td>\n",
       "      <td>154374.0</td>\n",
       "    </tr>\n",
       "    <tr>\n",
       "      <th>30159</th>\n",
       "      <td>58</td>\n",
       "      <td>9</td>\n",
       "      <td>1</td>\n",
       "      <td>40</td>\n",
       "      <td>0</td>\n",
       "      <td>22286</td>\n",
       "      <td>9840</td>\n",
       "      <td>827</td>\n",
       "      <td>3721</td>\n",
       "      <td>3212</td>\n",
       "      <td>25933</td>\n",
       "      <td>28833</td>\n",
       "      <td>151910.0</td>\n",
       "    </tr>\n",
       "    <tr>\n",
       "      <th>30160</th>\n",
       "      <td>22</td>\n",
       "      <td>9</td>\n",
       "      <td>0</td>\n",
       "      <td>20</td>\n",
       "      <td>0</td>\n",
       "      <td>22286</td>\n",
       "      <td>9840</td>\n",
       "      <td>9726</td>\n",
       "      <td>3721</td>\n",
       "      <td>4466</td>\n",
       "      <td>25933</td>\n",
       "      <td>28833</td>\n",
       "      <td>201490.0</td>\n",
       "    </tr>\n",
       "    <tr>\n",
       "      <th>30161</th>\n",
       "      <td>52</td>\n",
       "      <td>9</td>\n",
       "      <td>1</td>\n",
       "      <td>40</td>\n",
       "      <td>1</td>\n",
       "      <td>1074</td>\n",
       "      <td>9840</td>\n",
       "      <td>14065</td>\n",
       "      <td>3992</td>\n",
       "      <td>1406</td>\n",
       "      <td>25933</td>\n",
       "      <td>28833</td>\n",
       "      <td>287927.0</td>\n",
       "    </tr>\n",
       "  </tbody>\n",
       "</table>\n",
       "<p>29993 rows × 13 columns</p>\n",
       "</div>"
      ],
      "text/plain": [
       "       age  education-num  sex  hours-per-week  salary  workclass  education  \\\n",
       "0       39             13    0              40       0       1279       5044   \n",
       "1       50             13    0              13       0       2499       5044   \n",
       "2       38              9    0              40       0      22286       9840   \n",
       "3       53              7    0              40       0      22286       1048   \n",
       "4       28             13    1              40       0      22286       5044   \n",
       "...    ...            ...  ...             ...     ...        ...        ...   \n",
       "30157   27             12    1              38       0      22286       1008   \n",
       "30158   40              9    0              40       1      22286       9840   \n",
       "30159   58              9    1              40       0      22286       9840   \n",
       "30160   22              9    0              20       0      22286       9840   \n",
       "30161   52              9    1              40       1       1074       9840   \n",
       "\n",
       "       marital-status  occupation  relationship   race  country    fnlwgt  \n",
       "0                9726        3721          7726  25933    28833   77516.0  \n",
       "1               14065        3992         12463  25933    28833   83311.0  \n",
       "2                4214        1350          7726  25933    28833  215646.0  \n",
       "3               14065        1350         12463   2817    28833  234721.0  \n",
       "4               14065        4038          1406   2817    28833  338409.0  \n",
       "...               ...         ...           ...    ...      ...       ...  \n",
       "30157           14065         912          1406  25933    28833  257302.0  \n",
       "30158           14065        1966         12463  25933    28833  154374.0  \n",
       "30159             827        3721          3212  25933    28833  151910.0  \n",
       "30160            9726        3721          4466  25933    28833  201490.0  \n",
       "30161           14065        3992          1406  25933    28833  287927.0  \n",
       "\n",
       "[29993 rows x 13 columns]"
      ]
     },
     "execution_count": 55,
     "metadata": {},
     "output_type": "execute_result"
    }
   ],
   "source": [
    "df"
   ]
  },
  {
   "cell_type": "code",
   "execution_count": 57,
   "id": "XRtqiuwVVzqC",
   "metadata": {
    "id": "XRtqiuwVVzqC"
   },
   "outputs": [],
   "source": [
    "df.to_csv(\"OutliersRemoved.csv\" , index = False)"
   ]
  },
  {
   "cell_type": "code",
   "execution_count": null,
   "id": "28dc9843",
   "metadata": {},
   "outputs": [],
   "source": []
  }
 ],
 "metadata": {
  "colab": {
   "name": "Preprocessing Part 1 (1).ipynb",
   "provenance": []
  },
  "kernelspec": {
   "display_name": "Python 3",
   "language": "python",
   "name": "python3"
  },
  "language_info": {
   "codemirror_mode": {
    "name": "ipython",
    "version": 3
   },
   "file_extension": ".py",
   "mimetype": "text/x-python",
   "name": "python",
   "nbconvert_exporter": "python",
   "pygments_lexer": "ipython3",
   "version": "3.8.8"
  }
 },
 "nbformat": 4,
 "nbformat_minor": 5
}
