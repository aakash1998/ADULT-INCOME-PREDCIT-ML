{
 "cells": [
  {
   "cell_type": "code",
   "execution_count": 1,
   "id": "5597dd16",
   "metadata": {},
   "outputs": [],
   "source": [
    "import pandas as pd\n",
    "import numpy as np\n",
    "import matplotlib.pyplot as plt\n",
    "import seaborn as sns\n",
    "from sklearn.model_selection import train_test_split\n",
    "from sklearn.preprocessing import StandardScaler\n",
    "from statsmodels.stats.outliers_influence import variance_inflation_factor\n",
    "import statsmodels.api as sm\n",
    "import pickle as pk"
   ]
  },
  {
   "cell_type": "code",
   "execution_count": 2,
   "id": "640cf268",
   "metadata": {},
   "outputs": [
    {
     "data": {
      "application/javascript": [
       "IPython.OutputArea.prototype._should_scroll = function(lines) {\n",
       "    return false;\n",
       "}\n"
      ],
      "text/plain": [
       "<IPython.core.display.Javascript object>"
      ]
     },
     "metadata": {},
     "output_type": "display_data"
    }
   ],
   "source": [
    "\n",
    "%%javascript\n",
    "IPython.OutputArea.prototype._should_scroll = function(lines) {\n",
    "    return false;\n",
    "}"
   ]
  },
  {
   "cell_type": "code",
   "execution_count": 3,
   "id": "884cc4e0",
   "metadata": {},
   "outputs": [],
   "source": [
    "df = pd.read_csv('OutliersRemoved.csv')"
   ]
  },
  {
   "cell_type": "code",
   "execution_count": 4,
   "id": "5ac351a5",
   "metadata": {},
   "outputs": [
    {
     "data": {
      "text/html": [
       "<div>\n",
       "<style scoped>\n",
       "    .dataframe tbody tr th:only-of-type {\n",
       "        vertical-align: middle;\n",
       "    }\n",
       "\n",
       "    .dataframe tbody tr th {\n",
       "        vertical-align: top;\n",
       "    }\n",
       "\n",
       "    .dataframe thead th {\n",
       "        text-align: right;\n",
       "    }\n",
       "</style>\n",
       "<table border=\"1\" class=\"dataframe\">\n",
       "  <thead>\n",
       "    <tr style=\"text-align: right;\">\n",
       "      <th></th>\n",
       "      <th>age</th>\n",
       "      <th>workclass</th>\n",
       "      <th>fnlwgt</th>\n",
       "      <th>education</th>\n",
       "      <th>education-num</th>\n",
       "      <th>marital-status</th>\n",
       "      <th>occupation</th>\n",
       "      <th>relationship</th>\n",
       "      <th>race</th>\n",
       "      <th>sex</th>\n",
       "      <th>hours-per-week</th>\n",
       "      <th>country</th>\n",
       "      <th>salary</th>\n",
       "    </tr>\n",
       "  </thead>\n",
       "  <tbody>\n",
       "    <tr>\n",
       "      <th>0</th>\n",
       "      <td>22</td>\n",
       "      <td>5</td>\n",
       "      <td>2491</td>\n",
       "      <td>9</td>\n",
       "      <td>12</td>\n",
       "      <td>4</td>\n",
       "      <td>0</td>\n",
       "      <td>1</td>\n",
       "      <td>4</td>\n",
       "      <td>0</td>\n",
       "      <td>39</td>\n",
       "      <td>2</td>\n",
       "      <td>0</td>\n",
       "    </tr>\n",
       "    <tr>\n",
       "      <th>1</th>\n",
       "      <td>33</td>\n",
       "      <td>4</td>\n",
       "      <td>2727</td>\n",
       "      <td>9</td>\n",
       "      <td>12</td>\n",
       "      <td>2</td>\n",
       "      <td>3</td>\n",
       "      <td>0</td>\n",
       "      <td>4</td>\n",
       "      <td>0</td>\n",
       "      <td>12</td>\n",
       "      <td>2</td>\n",
       "      <td>0</td>\n",
       "    </tr>\n",
       "    <tr>\n",
       "      <th>2</th>\n",
       "      <td>21</td>\n",
       "      <td>2</td>\n",
       "      <td>13188</td>\n",
       "      <td>11</td>\n",
       "      <td>8</td>\n",
       "      <td>0</td>\n",
       "      <td>5</td>\n",
       "      <td>1</td>\n",
       "      <td>4</td>\n",
       "      <td>0</td>\n",
       "      <td>39</td>\n",
       "      <td>2</td>\n",
       "      <td>0</td>\n",
       "    </tr>\n",
       "    <tr>\n",
       "      <th>3</th>\n",
       "      <td>36</td>\n",
       "      <td>2</td>\n",
       "      <td>14354</td>\n",
       "      <td>1</td>\n",
       "      <td>6</td>\n",
       "      <td>2</td>\n",
       "      <td>5</td>\n",
       "      <td>0</td>\n",
       "      <td>2</td>\n",
       "      <td>0</td>\n",
       "      <td>39</td>\n",
       "      <td>2</td>\n",
       "      <td>0</td>\n",
       "    </tr>\n",
       "    <tr>\n",
       "      <th>4</th>\n",
       "      <td>11</td>\n",
       "      <td>2</td>\n",
       "      <td>18120</td>\n",
       "      <td>9</td>\n",
       "      <td>12</td>\n",
       "      <td>2</td>\n",
       "      <td>9</td>\n",
       "      <td>5</td>\n",
       "      <td>2</td>\n",
       "      <td>1</td>\n",
       "      <td>39</td>\n",
       "      <td>2</td>\n",
       "      <td>0</td>\n",
       "    </tr>\n",
       "    <tr>\n",
       "      <th>...</th>\n",
       "      <td>...</td>\n",
       "      <td>...</td>\n",
       "      <td>...</td>\n",
       "      <td>...</td>\n",
       "      <td>...</td>\n",
       "      <td>...</td>\n",
       "      <td>...</td>\n",
       "      <td>...</td>\n",
       "      <td>...</td>\n",
       "      <td>...</td>\n",
       "      <td>...</td>\n",
       "      <td>...</td>\n",
       "      <td>...</td>\n",
       "    </tr>\n",
       "    <tr>\n",
       "      <th>29988</th>\n",
       "      <td>10</td>\n",
       "      <td>2</td>\n",
       "      <td>15471</td>\n",
       "      <td>7</td>\n",
       "      <td>11</td>\n",
       "      <td>2</td>\n",
       "      <td>12</td>\n",
       "      <td>5</td>\n",
       "      <td>4</td>\n",
       "      <td>1</td>\n",
       "      <td>37</td>\n",
       "      <td>2</td>\n",
       "      <td>0</td>\n",
       "    </tr>\n",
       "    <tr>\n",
       "      <th>29989</th>\n",
       "      <td>23</td>\n",
       "      <td>2</td>\n",
       "      <td>7555</td>\n",
       "      <td>11</td>\n",
       "      <td>8</td>\n",
       "      <td>2</td>\n",
       "      <td>6</td>\n",
       "      <td>0</td>\n",
       "      <td>4</td>\n",
       "      <td>0</td>\n",
       "      <td>39</td>\n",
       "      <td>2</td>\n",
       "      <td>1</td>\n",
       "    </tr>\n",
       "    <tr>\n",
       "      <th>29990</th>\n",
       "      <td>41</td>\n",
       "      <td>2</td>\n",
       "      <td>7377</td>\n",
       "      <td>11</td>\n",
       "      <td>8</td>\n",
       "      <td>6</td>\n",
       "      <td>0</td>\n",
       "      <td>4</td>\n",
       "      <td>4</td>\n",
       "      <td>1</td>\n",
       "      <td>39</td>\n",
       "      <td>2</td>\n",
       "      <td>0</td>\n",
       "    </tr>\n",
       "    <tr>\n",
       "      <th>29991</th>\n",
       "      <td>5</td>\n",
       "      <td>2</td>\n",
       "      <td>12060</td>\n",
       "      <td>11</td>\n",
       "      <td>8</td>\n",
       "      <td>4</td>\n",
       "      <td>0</td>\n",
       "      <td>3</td>\n",
       "      <td>4</td>\n",
       "      <td>0</td>\n",
       "      <td>19</td>\n",
       "      <td>2</td>\n",
       "      <td>0</td>\n",
       "    </tr>\n",
       "    <tr>\n",
       "      <th>29992</th>\n",
       "      <td>35</td>\n",
       "      <td>3</td>\n",
       "      <td>16689</td>\n",
       "      <td>11</td>\n",
       "      <td>8</td>\n",
       "      <td>2</td>\n",
       "      <td>3</td>\n",
       "      <td>5</td>\n",
       "      <td>4</td>\n",
       "      <td>1</td>\n",
       "      <td>39</td>\n",
       "      <td>2</td>\n",
       "      <td>1</td>\n",
       "    </tr>\n",
       "  </tbody>\n",
       "</table>\n",
       "<p>29993 rows × 13 columns</p>\n",
       "</div>"
      ],
      "text/plain": [
       "       age  workclass  fnlwgt  education  education-num  marital-status  \\\n",
       "0       22          5    2491          9             12               4   \n",
       "1       33          4    2727          9             12               2   \n",
       "2       21          2   13188         11              8               0   \n",
       "3       36          2   14354          1              6               2   \n",
       "4       11          2   18120          9             12               2   \n",
       "...    ...        ...     ...        ...            ...             ...   \n",
       "29988   10          2   15471          7             11               2   \n",
       "29989   23          2    7555         11              8               2   \n",
       "29990   41          2    7377         11              8               6   \n",
       "29991    5          2   12060         11              8               4   \n",
       "29992   35          3   16689         11              8               2   \n",
       "\n",
       "       occupation  relationship  race  sex  hours-per-week  country  salary  \n",
       "0               0             1     4    0              39        2       0  \n",
       "1               3             0     4    0              12        2       0  \n",
       "2               5             1     4    0              39        2       0  \n",
       "3               5             0     2    0              39        2       0  \n",
       "4               9             5     2    1              39        2       0  \n",
       "...           ...           ...   ...  ...             ...      ...     ...  \n",
       "29988          12             5     4    1              37        2       0  \n",
       "29989           6             0     4    0              39        2       1  \n",
       "29990           0             4     4    1              39        2       0  \n",
       "29991           0             3     4    0              19        2       0  \n",
       "29992           3             5     4    1              39        2       1  \n",
       "\n",
       "[29993 rows x 13 columns]"
      ]
     },
     "execution_count": 4,
     "metadata": {},
     "output_type": "execute_result"
    }
   ],
   "source": [
    "df"
   ]
  },
  {
   "cell_type": "code",
   "execution_count": 5,
   "id": "44bf5799",
   "metadata": {},
   "outputs": [],
   "source": [
    "df_new = df.copy()"
   ]
  },
  {
   "cell_type": "code",
   "execution_count": 6,
   "id": "c01f44de",
   "metadata": {},
   "outputs": [],
   "source": [
    "y = df_new.salary"
   ]
  },
  {
   "cell_type": "code",
   "execution_count": 7,
   "id": "1b60ac67",
   "metadata": {},
   "outputs": [],
   "source": [
    "X = df_new.drop(columns=['salary'])"
   ]
  },
  {
   "cell_type": "code",
   "execution_count": 8,
   "id": "daf8d545",
   "metadata": {},
   "outputs": [
    {
     "data": {
      "text/plain": [
       "0        0\n",
       "1        0\n",
       "2        0\n",
       "3        0\n",
       "4        0\n",
       "        ..\n",
       "29988    0\n",
       "29989    1\n",
       "29990    0\n",
       "29991    0\n",
       "29992    1\n",
       "Name: salary, Length: 29993, dtype: int64"
      ]
     },
     "execution_count": 8,
     "metadata": {},
     "output_type": "execute_result"
    }
   ],
   "source": [
    "y"
   ]
  },
  {
   "cell_type": "code",
   "execution_count": 9,
   "id": "690723f3",
   "metadata": {},
   "outputs": [
    {
     "data": {
      "text/html": [
       "<div>\n",
       "<style scoped>\n",
       "    .dataframe tbody tr th:only-of-type {\n",
       "        vertical-align: middle;\n",
       "    }\n",
       "\n",
       "    .dataframe tbody tr th {\n",
       "        vertical-align: top;\n",
       "    }\n",
       "\n",
       "    .dataframe thead th {\n",
       "        text-align: right;\n",
       "    }\n",
       "</style>\n",
       "<table border=\"1\" class=\"dataframe\">\n",
       "  <thead>\n",
       "    <tr style=\"text-align: right;\">\n",
       "      <th></th>\n",
       "      <th>age</th>\n",
       "      <th>workclass</th>\n",
       "      <th>fnlwgt</th>\n",
       "      <th>education</th>\n",
       "      <th>education-num</th>\n",
       "      <th>marital-status</th>\n",
       "      <th>occupation</th>\n",
       "      <th>relationship</th>\n",
       "      <th>race</th>\n",
       "      <th>sex</th>\n",
       "      <th>hours-per-week</th>\n",
       "      <th>country</th>\n",
       "    </tr>\n",
       "  </thead>\n",
       "  <tbody>\n",
       "    <tr>\n",
       "      <th>0</th>\n",
       "      <td>22</td>\n",
       "      <td>5</td>\n",
       "      <td>2491</td>\n",
       "      <td>9</td>\n",
       "      <td>12</td>\n",
       "      <td>4</td>\n",
       "      <td>0</td>\n",
       "      <td>1</td>\n",
       "      <td>4</td>\n",
       "      <td>0</td>\n",
       "      <td>39</td>\n",
       "      <td>2</td>\n",
       "    </tr>\n",
       "    <tr>\n",
       "      <th>1</th>\n",
       "      <td>33</td>\n",
       "      <td>4</td>\n",
       "      <td>2727</td>\n",
       "      <td>9</td>\n",
       "      <td>12</td>\n",
       "      <td>2</td>\n",
       "      <td>3</td>\n",
       "      <td>0</td>\n",
       "      <td>4</td>\n",
       "      <td>0</td>\n",
       "      <td>12</td>\n",
       "      <td>2</td>\n",
       "    </tr>\n",
       "    <tr>\n",
       "      <th>2</th>\n",
       "      <td>21</td>\n",
       "      <td>2</td>\n",
       "      <td>13188</td>\n",
       "      <td>11</td>\n",
       "      <td>8</td>\n",
       "      <td>0</td>\n",
       "      <td>5</td>\n",
       "      <td>1</td>\n",
       "      <td>4</td>\n",
       "      <td>0</td>\n",
       "      <td>39</td>\n",
       "      <td>2</td>\n",
       "    </tr>\n",
       "    <tr>\n",
       "      <th>3</th>\n",
       "      <td>36</td>\n",
       "      <td>2</td>\n",
       "      <td>14354</td>\n",
       "      <td>1</td>\n",
       "      <td>6</td>\n",
       "      <td>2</td>\n",
       "      <td>5</td>\n",
       "      <td>0</td>\n",
       "      <td>2</td>\n",
       "      <td>0</td>\n",
       "      <td>39</td>\n",
       "      <td>2</td>\n",
       "    </tr>\n",
       "    <tr>\n",
       "      <th>4</th>\n",
       "      <td>11</td>\n",
       "      <td>2</td>\n",
       "      <td>18120</td>\n",
       "      <td>9</td>\n",
       "      <td>12</td>\n",
       "      <td>2</td>\n",
       "      <td>9</td>\n",
       "      <td>5</td>\n",
       "      <td>2</td>\n",
       "      <td>1</td>\n",
       "      <td>39</td>\n",
       "      <td>2</td>\n",
       "    </tr>\n",
       "    <tr>\n",
       "      <th>...</th>\n",
       "      <td>...</td>\n",
       "      <td>...</td>\n",
       "      <td>...</td>\n",
       "      <td>...</td>\n",
       "      <td>...</td>\n",
       "      <td>...</td>\n",
       "      <td>...</td>\n",
       "      <td>...</td>\n",
       "      <td>...</td>\n",
       "      <td>...</td>\n",
       "      <td>...</td>\n",
       "      <td>...</td>\n",
       "    </tr>\n",
       "    <tr>\n",
       "      <th>29988</th>\n",
       "      <td>10</td>\n",
       "      <td>2</td>\n",
       "      <td>15471</td>\n",
       "      <td>7</td>\n",
       "      <td>11</td>\n",
       "      <td>2</td>\n",
       "      <td>12</td>\n",
       "      <td>5</td>\n",
       "      <td>4</td>\n",
       "      <td>1</td>\n",
       "      <td>37</td>\n",
       "      <td>2</td>\n",
       "    </tr>\n",
       "    <tr>\n",
       "      <th>29989</th>\n",
       "      <td>23</td>\n",
       "      <td>2</td>\n",
       "      <td>7555</td>\n",
       "      <td>11</td>\n",
       "      <td>8</td>\n",
       "      <td>2</td>\n",
       "      <td>6</td>\n",
       "      <td>0</td>\n",
       "      <td>4</td>\n",
       "      <td>0</td>\n",
       "      <td>39</td>\n",
       "      <td>2</td>\n",
       "    </tr>\n",
       "    <tr>\n",
       "      <th>29990</th>\n",
       "      <td>41</td>\n",
       "      <td>2</td>\n",
       "      <td>7377</td>\n",
       "      <td>11</td>\n",
       "      <td>8</td>\n",
       "      <td>6</td>\n",
       "      <td>0</td>\n",
       "      <td>4</td>\n",
       "      <td>4</td>\n",
       "      <td>1</td>\n",
       "      <td>39</td>\n",
       "      <td>2</td>\n",
       "    </tr>\n",
       "    <tr>\n",
       "      <th>29991</th>\n",
       "      <td>5</td>\n",
       "      <td>2</td>\n",
       "      <td>12060</td>\n",
       "      <td>11</td>\n",
       "      <td>8</td>\n",
       "      <td>4</td>\n",
       "      <td>0</td>\n",
       "      <td>3</td>\n",
       "      <td>4</td>\n",
       "      <td>0</td>\n",
       "      <td>19</td>\n",
       "      <td>2</td>\n",
       "    </tr>\n",
       "    <tr>\n",
       "      <th>29992</th>\n",
       "      <td>35</td>\n",
       "      <td>3</td>\n",
       "      <td>16689</td>\n",
       "      <td>11</td>\n",
       "      <td>8</td>\n",
       "      <td>2</td>\n",
       "      <td>3</td>\n",
       "      <td>5</td>\n",
       "      <td>4</td>\n",
       "      <td>1</td>\n",
       "      <td>39</td>\n",
       "      <td>2</td>\n",
       "    </tr>\n",
       "  </tbody>\n",
       "</table>\n",
       "<p>29993 rows × 12 columns</p>\n",
       "</div>"
      ],
      "text/plain": [
       "       age  workclass  fnlwgt  education  education-num  marital-status  \\\n",
       "0       22          5    2491          9             12               4   \n",
       "1       33          4    2727          9             12               2   \n",
       "2       21          2   13188         11              8               0   \n",
       "3       36          2   14354          1              6               2   \n",
       "4       11          2   18120          9             12               2   \n",
       "...    ...        ...     ...        ...            ...             ...   \n",
       "29988   10          2   15471          7             11               2   \n",
       "29989   23          2    7555         11              8               2   \n",
       "29990   41          2    7377         11              8               6   \n",
       "29991    5          2   12060         11              8               4   \n",
       "29992   35          3   16689         11              8               2   \n",
       "\n",
       "       occupation  relationship  race  sex  hours-per-week  country  \n",
       "0               0             1     4    0              39        2  \n",
       "1               3             0     4    0              12        2  \n",
       "2               5             1     4    0              39        2  \n",
       "3               5             0     2    0              39        2  \n",
       "4               9             5     2    1              39        2  \n",
       "...           ...           ...   ...  ...             ...      ...  \n",
       "29988          12             5     4    1              37        2  \n",
       "29989           6             0     4    0              39        2  \n",
       "29990           0             4     4    1              39        2  \n",
       "29991           0             3     4    0              19        2  \n",
       "29992           3             5     4    1              39        2  \n",
       "\n",
       "[29993 rows x 12 columns]"
      ]
     },
     "execution_count": 9,
     "metadata": {},
     "output_type": "execute_result"
    }
   ],
   "source": [
    "X"
   ]
  },
  {
   "cell_type": "code",
   "execution_count": 10,
   "id": "6be1a99e",
   "metadata": {},
   "outputs": [],
   "source": [
    "def vif_score(x):\n",
    "    sc = StandardScaler()\n",
    "    arr = sc.fit_transform(x)\n",
    "    return pd.DataFrame([[x.columns[i] , variance_inflation_factor(arr , i)] for i in range(arr.shape[1])] , columns = ['Features' , 'VIF'])"
   ]
  },
  {
   "cell_type": "code",
   "execution_count": 11,
   "id": "6b3b05ea",
   "metadata": {},
   "outputs": [
    {
     "data": {
      "text/html": [
       "<div>\n",
       "<style scoped>\n",
       "    .dataframe tbody tr th:only-of-type {\n",
       "        vertical-align: middle;\n",
       "    }\n",
       "\n",
       "    .dataframe tbody tr th {\n",
       "        vertical-align: top;\n",
       "    }\n",
       "\n",
       "    .dataframe thead th {\n",
       "        text-align: right;\n",
       "    }\n",
       "</style>\n",
       "<table border=\"1\" class=\"dataframe\">\n",
       "  <thead>\n",
       "    <tr style=\"text-align: right;\">\n",
       "      <th></th>\n",
       "      <th>Features</th>\n",
       "      <th>VIF</th>\n",
       "    </tr>\n",
       "  </thead>\n",
       "  <tbody>\n",
       "    <tr>\n",
       "      <th>0</th>\n",
       "      <td>age</td>\n",
       "      <td>1.168518</td>\n",
       "    </tr>\n",
       "    <tr>\n",
       "      <th>1</th>\n",
       "      <td>workclass</td>\n",
       "      <td>1.015131</td>\n",
       "    </tr>\n",
       "    <tr>\n",
       "      <th>2</th>\n",
       "      <td>fnlwgt</td>\n",
       "      <td>1.010911</td>\n",
       "    </tr>\n",
       "    <tr>\n",
       "      <th>3</th>\n",
       "      <td>education</td>\n",
       "      <td>1.142876</td>\n",
       "    </tr>\n",
       "    <tr>\n",
       "      <th>4</th>\n",
       "      <td>education-num</td>\n",
       "      <td>1.188937</td>\n",
       "    </tr>\n",
       "    <tr>\n",
       "      <th>5</th>\n",
       "      <td>marital-status</td>\n",
       "      <td>1.139600</td>\n",
       "    </tr>\n",
       "    <tr>\n",
       "      <th>6</th>\n",
       "      <td>occupation</td>\n",
       "      <td>1.019121</td>\n",
       "    </tr>\n",
       "    <tr>\n",
       "      <th>7</th>\n",
       "      <td>relationship</td>\n",
       "      <td>1.677921</td>\n",
       "    </tr>\n",
       "    <tr>\n",
       "      <th>8</th>\n",
       "      <td>race</td>\n",
       "      <td>1.137678</td>\n",
       "    </tr>\n",
       "    <tr>\n",
       "      <th>9</th>\n",
       "      <td>sex</td>\n",
       "      <td>1.568248</td>\n",
       "    </tr>\n",
       "    <tr>\n",
       "      <th>10</th>\n",
       "      <td>hours-per-week</td>\n",
       "      <td>1.134465</td>\n",
       "    </tr>\n",
       "    <tr>\n",
       "      <th>11</th>\n",
       "      <td>country</td>\n",
       "      <td>1.122455</td>\n",
       "    </tr>\n",
       "  </tbody>\n",
       "</table>\n",
       "</div>"
      ],
      "text/plain": [
       "          Features       VIF\n",
       "0              age  1.168518\n",
       "1        workclass  1.015131\n",
       "2           fnlwgt  1.010911\n",
       "3        education  1.142876\n",
       "4    education-num  1.188937\n",
       "5   marital-status  1.139600\n",
       "6       occupation  1.019121\n",
       "7     relationship  1.677921\n",
       "8             race  1.137678\n",
       "9              sex  1.568248\n",
       "10  hours-per-week  1.134465\n",
       "11         country  1.122455"
      ]
     },
     "execution_count": 11,
     "metadata": {},
     "output_type": "execute_result"
    }
   ],
   "source": [
    "vif_score(X)"
   ]
  },
  {
   "cell_type": "markdown",
   "id": "fe31deb4",
   "metadata": {},
   "source": [
    "Here we can see that no independent columns are dependent on each other , so their is no multicolinearity."
   ]
  },
  {
   "cell_type": "markdown",
   "id": "40994bd1",
   "metadata": {},
   "source": [
    "Now as theri is diepersion of data between the columns , so now we will perform sclaing to bring the data in one common range."
   ]
  },
  {
   "cell_type": "code",
   "execution_count": 12,
   "id": "1d5f464a",
   "metadata": {},
   "outputs": [],
   "source": [
    "sc = StandardScaler()"
   ]
  },
  {
   "cell_type": "code",
   "execution_count": 13,
   "id": "2c54e655",
   "metadata": {},
   "outputs": [],
   "source": [
    "X = sc.fit_transform(X)"
   ]
  },
  {
   "cell_type": "code",
   "execution_count": 14,
   "id": "05b21abd",
   "metadata": {},
   "outputs": [
    {
     "data": {
      "text/plain": [
       "array([[ 0.06305317,  2.93906515, -1.29416899, ..., -0.69290152,\n",
       "        -0.08020358,  0.16049526],\n",
       "       [ 0.92505499,  1.8901684 , -1.25256685, ..., -0.69290152,\n",
       "        -2.38542956,  0.16049526],\n",
       "       [-0.01531064, -0.20762511,  0.59150074, ..., -0.69290152,\n",
       "        -0.08020358,  0.16049526],\n",
       "       ...,\n",
       "       [ 1.5519654 , -0.20762511, -0.43286374, ...,  1.44320653,\n",
       "        -0.08020358,  0.16049526],\n",
       "       [-1.26913147, -0.20762511,  0.39265663, ..., -0.69290152,\n",
       "        -1.78777838,  0.16049526],\n",
       "       [ 1.08178259,  0.84127164,  1.20865786, ...,  1.44320653,\n",
       "        -0.08020358,  0.16049526]])"
      ]
     },
     "execution_count": 14,
     "metadata": {},
     "output_type": "execute_result"
    }
   ],
   "source": [
    "X"
   ]
  },
  {
   "cell_type": "markdown",
   "id": "a00124db",
   "metadata": {},
   "source": [
    "So here we can see that the data is scaled."
   ]
  },
  {
   "cell_type": "markdown",
   "id": "44e3a5fc",
   "metadata": {},
   "source": [
    "Now perfroming train test split"
   ]
  },
  {
   "cell_type": "code",
   "execution_count": 15,
   "id": "ce15730f",
   "metadata": {},
   "outputs": [],
   "source": [
    "X_train , X_test , y_train , y_test = train_test_split(X , y , test_size=0.25 , random_state=1000)"
   ]
  },
  {
   "cell_type": "code",
   "execution_count": 16,
   "id": "49795d8e",
   "metadata": {},
   "outputs": [
    {
     "data": {
      "text/plain": [
       "(22494, 12)"
      ]
     },
     "execution_count": 16,
     "metadata": {},
     "output_type": "execute_result"
    }
   ],
   "source": [
    "X_train.shape"
   ]
  },
  {
   "cell_type": "code",
   "execution_count": 17,
   "id": "cf4c4592",
   "metadata": {},
   "outputs": [
    {
     "data": {
      "text/plain": [
       "(7499, 12)"
      ]
     },
     "execution_count": 17,
     "metadata": {},
     "output_type": "execute_result"
    }
   ],
   "source": [
    "X_test.shape"
   ]
  },
  {
   "cell_type": "code",
   "execution_count": 18,
   "id": "d7bf47e4",
   "metadata": {},
   "outputs": [
    {
     "data": {
      "text/plain": [
       "(22494,)"
      ]
     },
     "execution_count": 18,
     "metadata": {},
     "output_type": "execute_result"
    }
   ],
   "source": [
    "y_train.shape"
   ]
  },
  {
   "cell_type": "code",
   "execution_count": 19,
   "id": "5387a88f",
   "metadata": {},
   "outputs": [
    {
     "data": {
      "text/plain": [
       "(7499,)"
      ]
     },
     "execution_count": 19,
     "metadata": {},
     "output_type": "execute_result"
    }
   ],
   "source": [
    "y_test.shape"
   ]
  },
  {
   "cell_type": "markdown",
   "id": "d9a2dab2",
   "metadata": {},
   "source": [
    "So now the data is being scaled and also test train split is being done, so now the data is ready to be sent to ML CLASSIFICATION ALGORITHMS.\n",
    "\n",
    "Also we will have to save the data till now so that we don't have to repeat the steps again."
   ]
  },
  {
   "cell_type": "code",
   "execution_count": 20,
   "id": "59f2da96",
   "metadata": {},
   "outputs": [],
   "source": [
    "pk.dump(sc , open('adult_scaled.pickle' , 'wb'))"
   ]
  },
  {
   "cell_type": "markdown",
   "id": "32814f85",
   "metadata": {},
   "source": [
    "# Model Training and Testing"
   ]
  },
  {
   "cell_type": "markdown",
   "id": "bf7c7759",
   "metadata": {},
   "source": [
    "## Logistic Regression"
   ]
  },
  {
   "cell_type": "code",
   "execution_count": 21,
   "id": "77e519a6",
   "metadata": {},
   "outputs": [],
   "source": [
    "from sklearn.linear_model import LogisticRegression\n",
    "from sklearn.metrics import confusion_matrix , roc_auc_score , roc_curve  , accuracy_score"
   ]
  },
  {
   "cell_type": "code",
   "execution_count": 22,
   "id": "7ff9f9c3",
   "metadata": {},
   "outputs": [],
   "source": [
    "logi = LogisticRegression(penalty='elasticnet',solver='saga'  , max_iter=100 ,l1_ratio=0.5)"
   ]
  },
  {
   "cell_type": "code",
   "execution_count": 23,
   "id": "27294cc8",
   "metadata": {},
   "outputs": [
    {
     "data": {
      "text/plain": [
       "LogisticRegression(l1_ratio=0.5, penalty='elasticnet', solver='saga')"
      ]
     },
     "execution_count": 23,
     "metadata": {},
     "output_type": "execute_result"
    }
   ],
   "source": [
    "logi.fit(X_train , y_train)"
   ]
  },
  {
   "cell_type": "code",
   "execution_count": 24,
   "id": "b460f5ca",
   "metadata": {},
   "outputs": [],
   "source": [
    "y_predict = logi.predict(X_test)"
   ]
  },
  {
   "cell_type": "code",
   "execution_count": 25,
   "id": "624af21c",
   "metadata": {},
   "outputs": [
    {
     "data": {
      "text/plain": [
       "array([0, 1, 0, ..., 1, 0, 0], dtype=int64)"
      ]
     },
     "execution_count": 25,
     "metadata": {},
     "output_type": "execute_result"
    }
   ],
   "source": [
    "y_predict"
   ]
  },
  {
   "cell_type": "code",
   "execution_count": 26,
   "id": "0f232acf",
   "metadata": {},
   "outputs": [
    {
     "name": "stdout",
     "output_type": "stream",
     "text": [
      "Score of Train Dataset 0.7999466524406509\n",
      "Score of Test Dataset 0.8081077476996933\n"
     ]
    }
   ],
   "source": [
    "print(\"Score of Train Dataset {}\".format(logi.score(X_train , y_train)))\n",
    "print(\"Score of Test Dataset {}\".format(logi.score(X_test , y_test)))"
   ]
  },
  {
   "cell_type": "code",
   "execution_count": 27,
   "id": "53222590",
   "metadata": {},
   "outputs": [],
   "source": [
    "confusionMatrix = confusion_matrix(y_test , y_predict)"
   ]
  },
  {
   "cell_type": "code",
   "execution_count": 28,
   "id": "1f2d1447",
   "metadata": {},
   "outputs": [
    {
     "data": {
      "text/plain": [
       "array([[5284,  415],\n",
       "       [1024,  776]], dtype=int64)"
      ]
     },
     "execution_count": 28,
     "metadata": {},
     "output_type": "execute_result"
    }
   ],
   "source": [
    "confusionMatrix"
   ]
  },
  {
   "cell_type": "markdown",
   "id": "7ff0be72",
   "metadata": {},
   "source": [
    "So after passing the y_test and y_predicted values to the confusion matrix we got the following results.\n",
    "\n",
    "True Positive : 5284 \n",
    "False Positive : 415\n",
    "False Negative : 1024\n",
    "True Positive : 776"
   ]
  },
  {
   "cell_type": "code",
   "execution_count": 29,
   "id": "4cda408c",
   "metadata": {},
   "outputs": [],
   "source": [
    "TP = confusionMatrix[0][0]\n",
    "FP = confusionMatrix[0][1]\n",
    "FN = confusionMatrix[1][0]\n",
    "TN = confusionMatrix[1][1]"
   ]
  },
  {
   "cell_type": "code",
   "execution_count": 30,
   "id": "f65f51fe",
   "metadata": {},
   "outputs": [],
   "source": [
    "accuracy = (TP+TN)/(TP+TN+FP+FN)"
   ]
  },
  {
   "cell_type": "code",
   "execution_count": 31,
   "id": "1b712381",
   "metadata": {},
   "outputs": [
    {
     "data": {
      "text/plain": [
       "0.8081077476996933"
      ]
     },
     "execution_count": 31,
     "metadata": {},
     "output_type": "execute_result"
    }
   ],
   "source": [
    "accuracy"
   ]
  },
  {
   "cell_type": "code",
   "execution_count": 32,
   "id": "c76dca0c",
   "metadata": {},
   "outputs": [],
   "source": [
    "precision = (TP)/(TP+FP)"
   ]
  },
  {
   "cell_type": "code",
   "execution_count": 33,
   "id": "de6bd853",
   "metadata": {},
   "outputs": [
    {
     "data": {
      "text/plain": [
       "0.927180207053869"
      ]
     },
     "execution_count": 33,
     "metadata": {},
     "output_type": "execute_result"
    }
   ],
   "source": [
    "precision"
   ]
  },
  {
   "cell_type": "code",
   "execution_count": 34,
   "id": "dd7a747c",
   "metadata": {},
   "outputs": [],
   "source": [
    "recall = (TP)/(TP+FN)"
   ]
  },
  {
   "cell_type": "code",
   "execution_count": 35,
   "id": "d8427728",
   "metadata": {},
   "outputs": [
    {
     "data": {
      "text/plain": [
       "0.8376664552948636"
      ]
     },
     "execution_count": 35,
     "metadata": {},
     "output_type": "execute_result"
    }
   ],
   "source": [
    "recall"
   ]
  },
  {
   "cell_type": "code",
   "execution_count": 36,
   "id": "ccd2b4d4",
   "metadata": {},
   "outputs": [],
   "source": [
    "f1_score = 2*(precision*recall)/(precision+recall)"
   ]
  },
  {
   "cell_type": "code",
   "execution_count": 37,
   "id": "d88d44ab",
   "metadata": {},
   "outputs": [
    {
     "data": {
      "text/plain": [
       "0.8801532439410343"
      ]
     },
     "execution_count": 37,
     "metadata": {},
     "output_type": "execute_result"
    }
   ],
   "source": [
    "f1_score"
   ]
  },
  {
   "cell_type": "code",
   "execution_count": 38,
   "id": "c044b16a",
   "metadata": {},
   "outputs": [],
   "source": [
    "auc = roc_auc_score(y_test , y_predict)"
   ]
  },
  {
   "cell_type": "code",
   "execution_count": 39,
   "id": "05a99084",
   "metadata": {},
   "outputs": [
    {
     "data": {
      "text/plain": [
       "0.67914565908249"
      ]
     },
     "execution_count": 39,
     "metadata": {},
     "output_type": "execute_result"
    }
   ],
   "source": [
    "auc"
   ]
  },
  {
   "cell_type": "code",
   "execution_count": 40,
   "id": "eb5916d2",
   "metadata": {},
   "outputs": [],
   "source": [
    "fpr , tpr , thresolds = roc_curve(y_test , y_predict)"
   ]
  },
  {
   "cell_type": "code",
   "execution_count": 41,
   "id": "381ccec1",
   "metadata": {},
   "outputs": [
    {
     "data": {
      "image/png": "[encoded data removed]",
      "text/plain": [
       "<Figure size 432x288 with 1 Axes>"
      ]
     },
     "metadata": {
      "needs_background": "light"
     },
     "output_type": "display_data"
    }
   ],
   "source": [
    "plt.plot(fpr , tpr , color = 'red' , label = 'ROC')\n",
    "plt.plot([0,1] , [0,1] , color='blue' , linestyle='--' , label='ROC CURVE (area = %0.2f)' %auc)\n",
    "plt.xlabel('False Positive Rate')\n",
    "plt.ylabel('True Positive Rate')\n",
    "plt.title(\"ROC Logistic Regression\")\n",
    "plt.legend()\n",
    "plt.show()"
   ]
  },
  {
   "cell_type": "markdown",
   "id": "1057989e",
   "metadata": {},
   "source": [
    "## Decision Trees"
   ]
  },
  {
   "cell_type": "code",
   "execution_count": 42,
   "id": "80817d0b",
   "metadata": {},
   "outputs": [],
   "source": [
    "from sklearn.tree import DecisionTreeClassifier\n",
    "from sklearn import tree"
   ]
  },
  {
   "cell_type": "code",
   "execution_count": 43,
   "id": "97d15044",
   "metadata": {},
   "outputs": [
    {
     "data": {
      "text/plain": [
       "Index(['age', 'workclass', 'fnlwgt', 'education', 'education-num',\n",
       "       'marital-status', 'occupation', 'relationship', 'race', 'sex',\n",
       "       'hours-per-week', 'country', 'salary'],\n",
       "      dtype='object')"
      ]
     },
     "execution_count": 43,
     "metadata": {},
     "output_type": "execute_result"
    }
   ],
   "source": [
    "df.columns"
   ]
  },
  {
   "cell_type": "code",
   "execution_count": 44,
   "id": "84d35c0e",
   "metadata": {},
   "outputs": [],
   "source": [
    "X = df.drop(['salary'] , axis=1)"
   ]
  },
  {
   "cell_type": "code",
   "execution_count": 45,
   "id": "b0901665",
   "metadata": {},
   "outputs": [],
   "source": [
    "y = df['salary']"
   ]
  },
  {
   "cell_type": "code",
   "execution_count": 46,
   "id": "bbb7eaa6",
   "metadata": {},
   "outputs": [],
   "source": [
    "feature_names = list(X.columns)"
   ]
  },
  {
   "cell_type": "code",
   "execution_count": 47,
   "id": "369036fb",
   "metadata": {},
   "outputs": [
    {
     "data": {
      "text/plain": [
       "['age',\n",
       " 'workclass',\n",
       " 'fnlwgt',\n",
       " 'education',\n",
       " 'education-num',\n",
       " 'marital-status',\n",
       " 'occupation',\n",
       " 'relationship',\n",
       " 'race',\n",
       " 'sex',\n",
       " 'hours-per-week',\n",
       " 'country']"
      ]
     },
     "execution_count": 47,
     "metadata": {},
     "output_type": "execute_result"
    }
   ],
   "source": [
    "feature_names"
   ]
  },
  {
   "cell_type": "code",
   "execution_count": 48,
   "id": "693fbe31",
   "metadata": {},
   "outputs": [],
   "source": [
    "class_name = list(y.unique())"
   ]
  },
  {
   "cell_type": "code",
   "execution_count": 49,
   "id": "b10fa703",
   "metadata": {},
   "outputs": [
    {
     "data": {
      "text/plain": [
       "[0, 1]"
      ]
     },
     "execution_count": 49,
     "metadata": {},
     "output_type": "execute_result"
    }
   ],
   "source": [
    "class_name"
   ]
  },
  {
   "cell_type": "code",
   "execution_count": 50,
   "id": "2702df6a",
   "metadata": {},
   "outputs": [],
   "source": [
    "dTree = DecisionTreeClassifier()"
   ]
  },
  {
   "cell_type": "code",
   "execution_count": 51,
   "id": "265b2beb",
   "metadata": {},
   "outputs": [
    {
     "data": {
      "text/plain": [
       "DecisionTreeClassifier()"
      ]
     },
     "execution_count": 51,
     "metadata": {},
     "output_type": "execute_result"
    }
   ],
   "source": [
    "dTree.fit(X_train , y_train)"
   ]
  },
  {
   "cell_type": "code",
   "execution_count": 52,
   "id": "3ff34c0f",
   "metadata": {},
   "outputs": [],
   "source": [
    "dPredict = dTree.predict(X_test)"
   ]
  },
  {
   "cell_type": "code",
   "execution_count": 53,
   "id": "55fa7246",
   "metadata": {},
   "outputs": [],
   "source": [
    "dScore = dTree.score(X_test , y_test)"
   ]
  },
  {
   "cell_type": "code",
   "execution_count": 54,
   "id": "53a96d11",
   "metadata": {},
   "outputs": [
    {
     "data": {
      "text/plain": [
       "0.7778370449393253"
      ]
     },
     "execution_count": 54,
     "metadata": {},
     "output_type": "execute_result"
    }
   ],
   "source": [
    "dScore"
   ]
  },
  {
   "cell_type": "markdown",
   "id": "3ae5a93d",
   "metadata": {},
   "source": [
    "In decision trees there are two main parameters ,which are gini and entropy. Gini shows how impure the data is whereas Entropy shows how pure the data is. We can use any of the two parameters in our decision tree model. \n",
    "So lets check which one will be a best fit for our model based on the dataset.\n",
    "\n",
    "We will perform hyperparameter tunning by using GridSearchCV"
   ]
  },
  {
   "cell_type": "code",
   "execution_count": 55,
   "id": "5c1602aa",
   "metadata": {},
   "outputs": [],
   "source": [
    "from sklearn.model_selection import GridSearchCV"
   ]
  },
  {
   "cell_type": "code",
   "execution_count": 56,
   "id": "fe64007d",
   "metadata": {},
   "outputs": [
    {
     "data": {
      "text/plain": [
       "dict_keys(['ccp_alpha', 'class_weight', 'criterion', 'max_depth', 'max_features', 'max_leaf_nodes', 'min_impurity_decrease', 'min_impurity_split', 'min_samples_leaf', 'min_samples_split', 'min_weight_fraction_leaf', 'random_state', 'splitter'])"
      ]
     },
     "execution_count": 56,
     "metadata": {},
     "output_type": "execute_result"
    }
   ],
   "source": [
    "dTree.get_params().keys()"
   ]
  },
  {
   "cell_type": "code",
   "execution_count": 57,
   "id": "eaec5fe8",
   "metadata": {},
   "outputs": [],
   "source": [
    "grid_parameter = {\n",
    "    'criterion': ['gini', 'entropy'],\n",
    "    'max_depth' : range(2,32,1),\n",
    "    'min_samples_leaf' : range(1,10,1),\n",
    "    'min_samples_split': range(2,10,1),\n",
    "    'splitter' : ['best', 'random']    \n",
    "}"
   ]
  },
  {
   "cell_type": "code",
   "execution_count": 58,
   "id": "a0c3f43c",
   "metadata": {},
   "outputs": [],
   "source": [
    "grid_search = GridSearchCV(estimator=dTree , param_grid=grid_parameter , n_jobs=-1 )"
   ]
  },
  {
   "cell_type": "code",
   "execution_count": 59,
   "id": "4d37d4bc",
   "metadata": {},
   "outputs": [
    {
     "data": {
      "text/plain": [
       "GridSearchCV(estimator=DecisionTreeClassifier(), n_jobs=-1,\n",
       "             param_grid={'criterion': ['gini', 'entropy'],\n",
       "                         'max_depth': range(2, 32),\n",
       "                         'min_samples_leaf': range(1, 10),\n",
       "                         'min_samples_split': range(2, 10),\n",
       "                         'splitter': ['best', 'random']})"
      ]
     },
     "execution_count": 59,
     "metadata": {},
     "output_type": "execute_result"
    }
   ],
   "source": [
    "grid_search.fit(X_train , y_train)"
   ]
  },
  {
   "cell_type": "code",
   "execution_count": 60,
   "id": "a61cee33",
   "metadata": {},
   "outputs": [
    {
     "data": {
      "text/plain": [
       "{'criterion': 'entropy',\n",
       " 'max_depth': 7,\n",
       " 'min_samples_leaf': 8,\n",
       " 'min_samples_split': 3,\n",
       " 'splitter': 'best'}"
      ]
     },
     "execution_count": 60,
     "metadata": {},
     "output_type": "execute_result"
    }
   ],
   "source": [
    "grid_search.best_params_"
   ]
  },
  {
   "cell_type": "markdown",
   "id": "1fe94cc9",
   "metadata": {},
   "source": [
    "So now we know that which parameters to use for our Decision Tree Model."
   ]
  },
  {
   "cell_type": "code",
   "execution_count": 61,
   "id": "aea34ca3",
   "metadata": {},
   "outputs": [
    {
     "data": {
      "text/plain": [
       "DecisionTreeClassifier(criterion='entropy', max_depth=7, min_samples_leaf=8)"
      ]
     },
     "execution_count": 61,
     "metadata": {},
     "output_type": "execute_result"
    }
   ],
   "source": [
    "d_tree_final = DecisionTreeClassifier(criterion='entropy' , max_depth=7 , min_samples_leaf=8 , min_samples_split=2 , splitter='best')\n",
    "d_tree_final.fit(X_train , y_train)"
   ]
  },
  {
   "cell_type": "code",
   "execution_count": 62,
   "id": "4e8064ce",
   "metadata": {},
   "outputs": [],
   "source": [
    "yPredictDT = d_tree_final.predict(X_test)"
   ]
  },
  {
   "cell_type": "code",
   "execution_count": 63,
   "id": "9ec6e060",
   "metadata": {},
   "outputs": [
    {
     "data": {
      "text/plain": [
       "0.8301106814241899"
      ]
     },
     "execution_count": 63,
     "metadata": {},
     "output_type": "execute_result"
    }
   ],
   "source": [
    "d_tree_final.score(X_test , y_test)"
   ]
  },
  {
   "cell_type": "code",
   "execution_count": 64,
   "id": "66c20483",
   "metadata": {},
   "outputs": [],
   "source": [
    "dTree_confusion_matrix = confusion_matrix(y_test , yPredictDT)"
   ]
  },
  {
   "cell_type": "code",
   "execution_count": 65,
   "id": "059cea7e",
   "metadata": {},
   "outputs": [
    {
     "data": {
      "text/plain": [
       "array([[5196,  503],\n",
       "       [ 771, 1029]], dtype=int64)"
      ]
     },
     "execution_count": 65,
     "metadata": {},
     "output_type": "execute_result"
    }
   ],
   "source": [
    "dTree_confusion_matrix"
   ]
  },
  {
   "cell_type": "code",
   "execution_count": 66,
   "id": "339bdcfd",
   "metadata": {},
   "outputs": [],
   "source": [
    "TP_dt = dTree_confusion_matrix[0][0]\n",
    "FP_dt = dTree_confusion_matrix[0][1]\n",
    "FN_dt = dTree_confusion_matrix[1][0]\n",
    "TN_dt = dTree_confusion_matrix[1][1]"
   ]
  },
  {
   "cell_type": "code",
   "execution_count": 67,
   "id": "d47d5533",
   "metadata": {},
   "outputs": [
    {
     "data": {
      "text/plain": [
       "0.8301106814241899"
      ]
     },
     "execution_count": 67,
     "metadata": {},
     "output_type": "execute_result"
    }
   ],
   "source": [
    "accuracy_dt = (TP_dt + TN_dt)/(TP_dt+TN_dt+FN_dt+FP_dt)\n",
    "accuracy_dt"
   ]
  },
  {
   "cell_type": "code",
   "execution_count": 68,
   "id": "92817898",
   "metadata": {},
   "outputs": [
    {
     "data": {
      "text/plain": [
       "0.7417027841141721"
      ]
     },
     "execution_count": 68,
     "metadata": {},
     "output_type": "execute_result"
    }
   ],
   "source": [
    "auc_dt = roc_auc_score(y_test , yPredictDT)\n",
    "auc_dt"
   ]
  },
  {
   "cell_type": "code",
   "execution_count": 69,
   "id": "7fbaf5f2",
   "metadata": {},
   "outputs": [],
   "source": [
    "fpr_dt , tpr_dt , thresolds_dt = roc_curve(y_test , yPredictDT)"
   ]
  },
  {
   "cell_type": "code",
   "execution_count": 70,
   "id": "bc758c7a",
   "metadata": {},
   "outputs": [
    {
     "data": {
      "image/png": "[encoded data removed]",
      "text/plain": [
       "<Figure size 432x288 with 1 Axes>"
      ]
     },
     "metadata": {
      "needs_background": "light"
     },
     "output_type": "display_data"
    }
   ],
   "source": [
    "plt.plot(fpr_dt , tpr_dt , color='red' , label='ROC')\n",
    "plt.plot([0,1] , [0,1] , color='blue' , linestyle ='--' , label=(\"ROC CURVE (area = %0.2f)\" %auc_dt))\n",
    "plt.xlabel('False Positive Rate')\n",
    "plt.ylabel('True Positive Rate')\n",
    "plt.title('ROC FOR Decision Tree')\n",
    "plt.legend()\n",
    "plt.show()"
   ]
  },
  {
   "cell_type": "markdown",
   "id": "95bd1031",
   "metadata": {},
   "source": [
    "## Gaussian Naive Bayes"
   ]
  },
  {
   "cell_type": "code",
   "execution_count": 71,
   "id": "51b0adc6",
   "metadata": {},
   "outputs": [],
   "source": [
    "from sklearn.naive_bayes import GaussianNB"
   ]
  },
  {
   "cell_type": "code",
   "execution_count": 72,
   "id": "a9d82f4f",
   "metadata": {},
   "outputs": [],
   "source": [
    "naive = GaussianNB()"
   ]
  },
  {
   "cell_type": "code",
   "execution_count": 73,
   "id": "a189e827",
   "metadata": {},
   "outputs": [],
   "source": [
    "naive_c = naive.fit(X_train , y_train)"
   ]
  },
  {
   "cell_type": "code",
   "execution_count": 135,
   "id": "ea15f370",
   "metadata": {},
   "outputs": [
    {
     "name": "stdout",
     "output_type": "stream",
     "text": [
      "Score of Gaussian Naive Baeys in Train Dataset 0.7732728727660709\n",
      "Score of Gaussian Naive Baeys in Test Dataset 0.7834377917055607\n"
     ]
    }
   ],
   "source": [
    "print(\"Score of Gaussian Naive Baeys in Train Dataset {}\".format(naive_c.score(X_train , y_train)))\n",
    "print(\"Score of Gaussian Naive Baeys in Test Dataset {}\".format(naive_c.score(X_test , y_test)))"
   ]
  },
  {
   "cell_type": "code",
   "execution_count": 74,
   "id": "749a0cb9",
   "metadata": {},
   "outputs": [],
   "source": [
    "yNaivePredict = naive_c.predict(X_test)"
   ]
  },
  {
   "cell_type": "code",
   "execution_count": 75,
   "id": "c332d7de",
   "metadata": {},
   "outputs": [],
   "source": [
    "naive_confusion_matrix = confusion_matrix(y_test , yNaivePredict)"
   ]
  },
  {
   "cell_type": "code",
   "execution_count": 76,
   "id": "8c29d24f",
   "metadata": {},
   "outputs": [
    {
     "data": {
      "text/plain": [
       "array([[4560, 1139],\n",
       "       [ 485, 1315]], dtype=int64)"
      ]
     },
     "execution_count": 76,
     "metadata": {},
     "output_type": "execute_result"
    }
   ],
   "source": [
    "naive_confusion_matrix"
   ]
  },
  {
   "cell_type": "code",
   "execution_count": 77,
   "id": "ea32749b",
   "metadata": {},
   "outputs": [],
   "source": [
    "TP_nb = naive_confusion_matrix[0][0]\n",
    "FP_nb = naive_confusion_matrix[0][1]\n",
    "FN_nb = naive_confusion_matrix[1][0]\n",
    "TN_nb = naive_confusion_matrix[1][1]"
   ]
  },
  {
   "cell_type": "code",
   "execution_count": 78,
   "id": "2b970b0e",
   "metadata": {},
   "outputs": [
    {
     "data": {
      "text/plain": [
       "0.7834377917055607"
      ]
     },
     "execution_count": 78,
     "metadata": {},
     "output_type": "execute_result"
    }
   ],
   "source": [
    "accuracy_nb = (TP_nb + TN_nb)/(TP_nb + FP_nb + FN_nb + TN_nb)\n",
    "accuracy_nb"
   ]
  },
  {
   "cell_type": "code",
   "execution_count": 79,
   "id": "ab054054",
   "metadata": {},
   "outputs": [],
   "source": [
    "auc_nb = roc_auc_score(y_test , yNaivePredict)"
   ]
  },
  {
   "cell_type": "code",
   "execution_count": 80,
   "id": "3a9239ee",
   "metadata": {},
   "outputs": [
    {
     "data": {
      "text/plain": [
       "0.7653479655300149"
      ]
     },
     "execution_count": 80,
     "metadata": {},
     "output_type": "execute_result"
    }
   ],
   "source": [
    "auc_nb"
   ]
  },
  {
   "cell_type": "code",
   "execution_count": 81,
   "id": "76169c33",
   "metadata": {},
   "outputs": [],
   "source": [
    "fpr_nb , tpr_nb , thresolds_nb = roc_curve(y_test , yNaivePredict)"
   ]
  },
  {
   "cell_type": "code",
   "execution_count": 82,
   "id": "d71d9ba1",
   "metadata": {},
   "outputs": [
    {
     "data": {
      "text/plain": [
       "<matplotlib.legend.Legend at 0x21e6b7de0d0>"
      ]
     },
     "execution_count": 82,
     "metadata": {},
     "output_type": "execute_result"
    },
    {
     "data": {
      "image/png": "[encoded data removed]",
      "text/plain": [
       "<Figure size 432x288 with 1 Axes>"
      ]
     },
     "metadata": {
      "needs_background": "light"
     },
     "output_type": "display_data"
    }
   ],
   "source": [
    "plt.plot(fpr_nb ,tpr_nb , color = 'red' , label = 'ROC')\n",
    "plt.plot([0,1] , [0,1] , color = 'blue' , linestyle = '--' ,label = 'ROC Curve (area = %.2f)' %auc_nb)\n",
    "plt.xlabel('False Positive Rate')\n",
    "plt.ylabel(\"True Positive Rate\")\n",
    "plt.title(\"ROC FOR GAUSSIAN NAIVE BAYES\")\n",
    "plt.legend()"
   ]
  },
  {
   "cell_type": "markdown",
   "id": "4bef4d33",
   "metadata": {},
   "source": [
    "## KNN"
   ]
  },
  {
   "cell_type": "code",
   "execution_count": 83,
   "id": "461a4639",
   "metadata": {},
   "outputs": [],
   "source": [
    "from sklearn.neighbors import KNeighborsClassifier"
   ]
  },
  {
   "cell_type": "code",
   "execution_count": 84,
   "id": "7baca9c0",
   "metadata": {},
   "outputs": [],
   "source": [
    "knn = KNeighborsClassifier()"
   ]
  },
  {
   "cell_type": "code",
   "execution_count": 85,
   "id": "77f03f21",
   "metadata": {},
   "outputs": [
    {
     "data": {
      "text/plain": [
       "KNeighborsClassifier()"
      ]
     },
     "execution_count": 85,
     "metadata": {},
     "output_type": "execute_result"
    }
   ],
   "source": [
    "knn.fit(X_train , y_train)"
   ]
  },
  {
   "cell_type": "code",
   "execution_count": 86,
   "id": "71835bf4",
   "metadata": {},
   "outputs": [
    {
     "name": "stdout",
     "output_type": "stream",
     "text": [
      "Score of KNN on Train Dataset 0.863919267360185\n",
      "Score of KNN on Test Dataset 0.8202426990265369\n"
     ]
    }
   ],
   "source": [
    "print(\"Score of KNN on Train Dataset {}\".format(knn.score(X_train , y_train)))\n",
    "print(\"Score of KNN on Test Dataset {}\".format(knn.score(X_test , y_test)))"
   ]
  },
  {
   "cell_type": "code",
   "execution_count": 87,
   "id": "92e9e57e",
   "metadata": {},
   "outputs": [],
   "source": [
    "y_predictaKNN = knn.predict(X_test)"
   ]
  },
  {
   "cell_type": "markdown",
   "id": "74cc887c",
   "metadata": {},
   "source": [
    "Here in KNN we have multiple algorithms , which we can use and apply on our dataset. So to select which algorithm is the best , we need to perfrom hyperparameter tunnig."
   ]
  },
  {
   "cell_type": "code",
   "execution_count": 88,
   "id": "a0575dd1",
   "metadata": {},
   "outputs": [
    {
     "data": {
      "text/plain": [
       "dict_keys(['algorithm', 'leaf_size', 'metric', 'metric_params', 'n_jobs', 'n_neighbors', 'p', 'weights'])"
      ]
     },
     "execution_count": 88,
     "metadata": {},
     "output_type": "execute_result"
    }
   ],
   "source": [
    "knn.get_params().keys()"
   ]
  },
  {
   "cell_type": "code",
   "execution_count": 89,
   "id": "9e638005",
   "metadata": {},
   "outputs": [],
   "source": [
    "grid_params_knn = {\n",
    "    'algorithm' : ['ball_tree' , 'kd_tree' , 'brute'],\n",
    "    'n_neighbors' : range(1,32)\n",
    "}"
   ]
  },
  {
   "cell_type": "code",
   "execution_count": 90,
   "id": "fbcac88f",
   "metadata": {},
   "outputs": [],
   "source": [
    "grid_seach_knn = GridSearchCV(estimator= knn , param_grid= grid_params_knn ,n_jobs=-1 )"
   ]
  },
  {
   "cell_type": "code",
   "execution_count": 91,
   "id": "438e6279",
   "metadata": {},
   "outputs": [
    {
     "data": {
      "text/plain": [
       "GridSearchCV(estimator=KNeighborsClassifier(), n_jobs=-1,\n",
       "             param_grid={'algorithm': ['ball_tree', 'kd_tree', 'brute'],\n",
       "                         'n_neighbors': range(1, 32)})"
      ]
     },
     "execution_count": 91,
     "metadata": {},
     "output_type": "execute_result"
    }
   ],
   "source": [
    "grid_seach_knn.fit(X_train , y_train)"
   ]
  },
  {
   "cell_type": "code",
   "execution_count": 92,
   "id": "77dd6462",
   "metadata": {},
   "outputs": [
    {
     "data": {
      "text/plain": [
       "{'algorithm': 'ball_tree', 'n_neighbors': 24}"
      ]
     },
     "execution_count": 92,
     "metadata": {},
     "output_type": "execute_result"
    }
   ],
   "source": [
    "grid_seach_knn.best_params_"
   ]
  },
  {
   "cell_type": "code",
   "execution_count": 93,
   "id": "6b3aa6aa",
   "metadata": {},
   "outputs": [],
   "source": [
    "knn_final = KNeighborsClassifier(algorithm='ball_tree' , n_jobs=-1 , n_neighbors=24)"
   ]
  },
  {
   "cell_type": "code",
   "execution_count": 94,
   "id": "888ca03a",
   "metadata": {},
   "outputs": [
    {
     "data": {
      "text/plain": [
       "KNeighborsClassifier(algorithm='ball_tree', n_jobs=-1, n_neighbors=24)"
      ]
     },
     "execution_count": 94,
     "metadata": {},
     "output_type": "execute_result"
    }
   ],
   "source": [
    "knn_final.fit(X_train , y_train)"
   ]
  },
  {
   "cell_type": "code",
   "execution_count": 95,
   "id": "9f9a7cc9",
   "metadata": {},
   "outputs": [
    {
     "name": "stdout",
     "output_type": "stream",
     "text": [
      "Score of KNN on Train Dataset 0.8336889837289944\n",
      "Score of KNN on Test Dataset 0.8230430724096546\n"
     ]
    }
   ],
   "source": [
    "print(\"Score of KNN on Train Dataset {}\".format(knn_final.score(X_train , y_train)))\n",
    "print(\"Score of KNN on Test Dataset {}\".format(knn_final.score(X_test , y_test)))"
   ]
  },
  {
   "cell_type": "code",
   "execution_count": 96,
   "id": "8fcbf6a5",
   "metadata": {},
   "outputs": [],
   "source": [
    "y_predictKNN = knn_final.predict(X_test)"
   ]
  },
  {
   "cell_type": "code",
   "execution_count": 97,
   "id": "66fe4398",
   "metadata": {},
   "outputs": [],
   "source": [
    "knn_confusion_matrix = confusion_matrix(y_test , y_predictKNN)"
   ]
  },
  {
   "cell_type": "code",
   "execution_count": 98,
   "id": "bf4365fb",
   "metadata": {},
   "outputs": [
    {
     "data": {
      "text/plain": [
       "array([[5182,  517],\n",
       "       [ 810,  990]], dtype=int64)"
      ]
     },
     "execution_count": 98,
     "metadata": {},
     "output_type": "execute_result"
    }
   ],
   "source": [
    "knn_confusion_matrix"
   ]
  },
  {
   "cell_type": "code",
   "execution_count": 99,
   "id": "bb088966",
   "metadata": {},
   "outputs": [],
   "source": [
    "TP_knn = knn_confusion_matrix[0][0]\n",
    "FP_knn = knn_confusion_matrix[0][1]\n",
    "FN_knn = knn_confusion_matrix[1][0]\n",
    "TN_knn = knn_confusion_matrix[1][1]"
   ]
  },
  {
   "cell_type": "code",
   "execution_count": 100,
   "id": "4a73d527",
   "metadata": {},
   "outputs": [
    {
     "data": {
      "text/plain": [
       "0.8230430724096546"
      ]
     },
     "execution_count": 100,
     "metadata": {},
     "output_type": "execute_result"
    }
   ],
   "source": [
    "accuracy_knn = (TP_knn + TN_knn)/(TP_knn + FN_knn + FP_knn + TN_knn)\n",
    "accuracy_knn"
   ]
  },
  {
   "cell_type": "code",
   "execution_count": 101,
   "id": "ffa258e8",
   "metadata": {},
   "outputs": [
    {
     "data": {
      "text/plain": [
       "0.7296411651166871"
      ]
     },
     "execution_count": 101,
     "metadata": {},
     "output_type": "execute_result"
    }
   ],
   "source": [
    "auc_knn = roc_auc_score(y_test , y_predictKNN)\n",
    "auc_knn"
   ]
  },
  {
   "cell_type": "code",
   "execution_count": 102,
   "id": "94a62583",
   "metadata": {},
   "outputs": [],
   "source": [
    "fpr_knn , tpr_knn, thresolds_knn = roc_curve(y_test , y_predictKNN)"
   ]
  },
  {
   "cell_type": "code",
   "execution_count": 103,
   "id": "853ebd86",
   "metadata": {},
   "outputs": [
    {
     "data": {
      "text/plain": [
       "<matplotlib.legend.Legend at 0x21e6b575be0>"
      ]
     },
     "execution_count": 103,
     "metadata": {},
     "output_type": "execute_result"
    },
    {
     "data": {
      "image/png": "[encoded data removed]",
      "text/plain": [
       "<Figure size 432x288 with 1 Axes>"
      ]
     },
     "metadata": {
      "needs_background": "light"
     },
     "output_type": "display_data"
    }
   ],
   "source": [
    "plt.plot(fpr_knn ,tpr_knn , color = 'red' , label = 'ROC')\n",
    "plt.plot([0,1] , [0,1] , color = 'blue' , linestyle = '--' ,label = 'ROC Curve (area = %.2f)' %auc_knn)\n",
    "plt.xlabel('False Positive Rate')\n",
    "plt.ylabel(\"True Positive Rate\")\n",
    "plt.title(\"ROC FOR KNN\")\n",
    "plt.legend()"
   ]
  },
  {
   "cell_type": "markdown",
   "id": "d32fc013",
   "metadata": {},
   "source": [
    "## Random Forest"
   ]
  },
  {
   "cell_type": "code",
   "execution_count": 104,
   "id": "c792c4d5",
   "metadata": {},
   "outputs": [],
   "source": [
    "from sklearn.ensemble import RandomForestClassifier"
   ]
  },
  {
   "cell_type": "code",
   "execution_count": 105,
   "id": "2568547b",
   "metadata": {},
   "outputs": [
    {
     "data": {
      "text/plain": [
       "RandomForestClassifier()"
      ]
     },
     "execution_count": 105,
     "metadata": {},
     "output_type": "execute_result"
    }
   ],
   "source": [
    "rf = RandomForestClassifier(n_estimators=100)\n",
    "rf.fit(X_train , y_train)"
   ]
  },
  {
   "cell_type": "code",
   "execution_count": 107,
   "id": "840438d5",
   "metadata": {},
   "outputs": [
    {
     "name": "stdout",
     "output_type": "stream",
     "text": [
      "Score of RF on Train Dataset 0.9999555437005424\n",
      "Score of RF on Test Dataset 0.8269102547006267\n"
     ]
    }
   ],
   "source": [
    "print(\"Score of RF on Train Dataset {}\".format(rf.score(X_train , y_train)))\n",
    "print(\"Score of RF on Test Dataset {}\".format(rf.score(X_test , y_test)))"
   ]
  },
  {
   "cell_type": "code",
   "execution_count": 108,
   "id": "693898a0",
   "metadata": {},
   "outputs": [
    {
     "data": {
      "text/plain": [
       "dict_keys(['bootstrap', 'ccp_alpha', 'class_weight', 'criterion', 'max_depth', 'max_features', 'max_leaf_nodes', 'max_samples', 'min_impurity_decrease', 'min_impurity_split', 'min_samples_leaf', 'min_samples_split', 'min_weight_fraction_leaf', 'n_estimators', 'n_jobs', 'oob_score', 'random_state', 'verbose', 'warm_start'])"
      ]
     },
     "execution_count": 108,
     "metadata": {},
     "output_type": "execute_result"
    }
   ],
   "source": [
    "rf.get_params().keys()"
   ]
  },
  {
   "cell_type": "markdown",
   "id": "dd025be3",
   "metadata": {},
   "source": [
    "We will perfrom hyperparameter tunning for Random Forest."
   ]
  },
  {
   "cell_type": "code",
   "execution_count": 109,
   "id": "4421ff2d",
   "metadata": {},
   "outputs": [],
   "source": [
    "grid_params_rf = {\n",
    "    \"criterion\" : [\"gini\" , \"entropy\"],\n",
    "    \"max_features\" : [\"auto\" , \"sqrt\" , \"log2\"],\n",
    "    \"class_weight\" : [\"balanced\" , \"balanced_subsample\"],\n",
    "    }"
   ]
  },
  {
   "cell_type": "code",
   "execution_count": 112,
   "id": "2911b51e",
   "metadata": {},
   "outputs": [
    {
     "data": {
      "text/plain": [
       "GridSearchCV(estimator=RandomForestClassifier(), n_jobs=-1,\n",
       "             param_grid={'class_weight': ['balanced', 'balanced_subsample'],\n",
       "                         'criterion': ['gini', 'entropy'],\n",
       "                         'max_features': ['auto', 'sqrt', 'log2']})"
      ]
     },
     "execution_count": 112,
     "metadata": {},
     "output_type": "execute_result"
    }
   ],
   "source": [
    "grid_search_rf = GridSearchCV(rf , grid_params_rf , n_jobs=-1 )\n",
    "grid_search_rf.fit(X_train , y_train)"
   ]
  },
  {
   "cell_type": "code",
   "execution_count": 113,
   "id": "58dcc964",
   "metadata": {},
   "outputs": [
    {
     "data": {
      "text/plain": [
       "{'class_weight': 'balanced', 'criterion': 'entropy', 'max_features': 'auto'}"
      ]
     },
     "execution_count": 113,
     "metadata": {},
     "output_type": "execute_result"
    }
   ],
   "source": [
    "grid_search_rf.best_params_"
   ]
  },
  {
   "cell_type": "code",
   "execution_count": 114,
   "id": "ea730caf",
   "metadata": {},
   "outputs": [],
   "source": [
    "rf_final = RandomForestClassifier(criterion=\"entropy\" , max_features=\"auto\" , class_weight=\"balanced\" , random_state=100)"
   ]
  },
  {
   "cell_type": "code",
   "execution_count": 115,
   "id": "66673eee",
   "metadata": {},
   "outputs": [
    {
     "data": {
      "text/plain": [
       "RandomForestClassifier(class_weight='balanced', criterion='entropy',\n",
       "                       random_state=100)"
      ]
     },
     "execution_count": 115,
     "metadata": {},
     "output_type": "execute_result"
    }
   ],
   "source": [
    "rf_final.fit(X_train , y_train)"
   ]
  },
  {
   "cell_type": "code",
   "execution_count": 116,
   "id": "a9bb4f68",
   "metadata": {},
   "outputs": [
    {
     "name": "stdout",
     "output_type": "stream",
     "text": [
      "Score of FINAL RF on Train Dataset 1.0\n",
      "Score of FINAL RF on Test Dataset 0.8287771702893719\n"
     ]
    }
   ],
   "source": [
    "print(\"Score of FINAL RF on Train Dataset {}\".format(rf_final.score(X_train , y_train)))\n",
    "print(\"Score of FINAL RF on Test Dataset {}\".format(rf_final.score(X_test , y_test)))"
   ]
  },
  {
   "cell_type": "code",
   "execution_count": 117,
   "id": "9b00e20b",
   "metadata": {},
   "outputs": [],
   "source": [
    "y_predictRF = rf_final.predict(X_test)"
   ]
  },
  {
   "cell_type": "code",
   "execution_count": 118,
   "id": "07c60d4e",
   "metadata": {},
   "outputs": [],
   "source": [
    "rf_confusion_matrix = confusion_matrix(y_test , y_predictRF)"
   ]
  },
  {
   "cell_type": "code",
   "execution_count": 119,
   "id": "31eee601",
   "metadata": {},
   "outputs": [
    {
     "data": {
      "text/plain": [
       "array([[5150,  549],\n",
       "       [ 735, 1065]], dtype=int64)"
      ]
     },
     "execution_count": 119,
     "metadata": {},
     "output_type": "execute_result"
    }
   ],
   "source": [
    "rf_confusion_matrix"
   ]
  },
  {
   "cell_type": "code",
   "execution_count": 120,
   "id": "e8b246dc",
   "metadata": {},
   "outputs": [],
   "source": [
    "TP_rf = rf_confusion_matrix[0][0]\n",
    "FP_rf = rf_confusion_matrix[0][1]\n",
    "FN_rf = rf_confusion_matrix[1][0]\n",
    "TN_rf = rf_confusion_matrix[1][1]"
   ]
  },
  {
   "cell_type": "code",
   "execution_count": 121,
   "id": "c7b18108",
   "metadata": {},
   "outputs": [
    {
     "data": {
      "text/plain": [
       "0.8287771702893719"
      ]
     },
     "execution_count": 121,
     "metadata": {},
     "output_type": "execute_result"
    }
   ],
   "source": [
    "accuracy_rf = (TP_rf + TN_rf)/(TP_rf + FN_rf + FP_rf + TN_rf)\n",
    "accuracy_rf"
   ]
  },
  {
   "cell_type": "markdown",
   "id": "8c186179",
   "metadata": {},
   "source": [
    "## AdaBoost Classifier"
   ]
  },
  {
   "cell_type": "code",
   "execution_count": 123,
   "id": "fa096a54",
   "metadata": {},
   "outputs": [],
   "source": [
    "from sklearn.ensemble import AdaBoostClassifier"
   ]
  },
  {
   "cell_type": "code",
   "execution_count": 124,
   "id": "f17fb144",
   "metadata": {},
   "outputs": [],
   "source": [
    "ada = AdaBoostClassifier()"
   ]
  },
  {
   "cell_type": "code",
   "execution_count": 125,
   "id": "f205819b",
   "metadata": {},
   "outputs": [
    {
     "data": {
      "text/plain": [
       "AdaBoostClassifier()"
      ]
     },
     "execution_count": 125,
     "metadata": {},
     "output_type": "execute_result"
    }
   ],
   "source": [
    "ada.fit(X_train , y_train)"
   ]
  },
  {
   "cell_type": "code",
   "execution_count": 126,
   "id": "5fdb2749",
   "metadata": {},
   "outputs": [
    {
     "name": "stdout",
     "output_type": "stream",
     "text": [
      "Score of ADA on Train Dataset 0.8322219258468925\n",
      "Score of ADA on Test Dataset 0.8409121216162155\n"
     ]
    }
   ],
   "source": [
    "print(\"Score of ADA on Train Dataset {}\".format(ada.score(X_train , y_train)))\n",
    "print(\"Score of ADA on Test Dataset {}\".format(ada.score(X_test , y_test)))"
   ]
  },
  {
   "cell_type": "code",
   "execution_count": 127,
   "id": "da45f46c",
   "metadata": {},
   "outputs": [
    {
     "data": {
      "text/plain": [
       "dict_keys(['algorithm', 'base_estimator', 'learning_rate', 'n_estimators', 'random_state'])"
      ]
     },
     "execution_count": 127,
     "metadata": {},
     "output_type": "execute_result"
    }
   ],
   "source": [
    "ada.get_params().keys()"
   ]
  },
  {
   "cell_type": "code",
   "execution_count": 128,
   "id": "3a61077f",
   "metadata": {},
   "outputs": [],
   "source": [
    "grid_params_ada = {\n",
    "    'algorithm' : ['SAMME', 'SAMME.R'],\n",
    "    'n_estimators' : [10 , 50 , 100 , 150 , 200 , 250 , 300],\n",
    "    'learning_rate' : [0.5 , 1.0 , 1.5 , 2.0 , 2.5 , 3.0]\n",
    "}"
   ]
  },
  {
   "cell_type": "code",
   "execution_count": 129,
   "id": "c8d139e1",
   "metadata": {},
   "outputs": [
    {
     "name": "stderr",
     "output_type": "stream",
     "text": [
      "C:\\Users\\AAKASH\\anaconda3.1\\lib\\site-packages\\sklearn\\model_selection\\_search.py:918: UserWarning: One or more of the test scores are non-finite: [0.80657065 0.81412837 0.81955199 0.82288608 0.82550919 0.82666504\n",
      " 0.82582024 0.81346134 0.82421971 0.82657592 0.82724272 0.8268426\n",
      " 0.82724274 0.82777617 0.80741523 0.82933231 0.83155496 0.83075479\n",
      " 0.83164387 0.83168827 0.83155487 0.59855952 0.59855952 0.59855952\n",
      " 0.59855952 0.59855952 0.59855952 0.59855952 0.59855952        nan\n",
      "        nan        nan        nan        nan        nan        nan\n",
      "        nan        nan        nan        nan        nan        nan\n",
      " 0.81603978 0.82702056 0.83128826 0.83119939 0.83213292 0.8321774\n",
      " 0.83173285 0.81577309 0.83048799 0.83177729 0.83235529 0.83115491\n",
      " 0.83115486 0.83062139 0.81074974 0.83039911 0.83115491 0.83017682\n",
      " 0.83066587 0.83164397 0.83048804 0.73006066 0.73668583 0.73006066\n",
      " 0.73668583 0.73668583 0.73668583 0.73668583 0.26704843 0.26704843\n",
      " 0.26704843 0.26704843 0.26704843 0.26704843 0.26704843 0.25246732\n",
      " 0.25246732 0.25246732 0.25246732 0.25246732 0.25246732 0.25246732]\n",
      "  warnings.warn(\n"
     ]
    },
    {
     "data": {
      "text/plain": [
       "GridSearchCV(estimator=AdaBoostClassifier(), n_jobs=-1,\n",
       "             param_grid={'algorithm': ['SAMME', 'SAMME.R'],\n",
       "                         'learning_rate': [0.5, 1.0, 1.5, 2.0, 2.5, 3.0],\n",
       "                         'n_estimators': [10, 50, 100, 150, 200, 250, 300]})"
      ]
     },
     "execution_count": 129,
     "metadata": {},
     "output_type": "execute_result"
    }
   ],
   "source": [
    "grid_search_ada = GridSearchCV(ada , grid_params_ada , n_jobs=-1)\n",
    "grid_search_ada.fit(X_train , y_train)"
   ]
  },
  {
   "cell_type": "code",
   "execution_count": 130,
   "id": "29288bb6",
   "metadata": {},
   "outputs": [
    {
     "data": {
      "text/plain": [
       "{'algorithm': 'SAMME.R', 'learning_rate': 1.0, 'n_estimators': 150}"
      ]
     },
     "execution_count": 130,
     "metadata": {},
     "output_type": "execute_result"
    }
   ],
   "source": [
    "grid_search_ada.best_params_"
   ]
  },
  {
   "cell_type": "code",
   "execution_count": 134,
   "id": "7be9b8ac",
   "metadata": {},
   "outputs": [
    {
     "data": {
      "text/plain": [
       "AdaBoostClassifier(n_estimators=150)"
      ]
     },
     "execution_count": 134,
     "metadata": {},
     "output_type": "execute_result"
    }
   ],
   "source": [
    "ada_final = AdaBoostClassifier(algorithm='SAMME.R' , learning_rate=1.0 , n_estimators=150 )\n",
    "ada_final.fit(X_train , y_train)"
   ]
  },
  {
   "cell_type": "code",
   "execution_count": 132,
   "id": "8e3e39a1",
   "metadata": {},
   "outputs": [
    {
     "name": "stdout",
     "output_type": "stream",
     "text": [
      "Score of ADA FINAL on Train Dataset 0.8346670223170624\n",
      "Score of ADA FINAL on Test Dataset 0.8413121749566609\n"
     ]
    }
   ],
   "source": [
    "print(\"Score of ADA FINAL on Train Dataset {}\".format(ada_final.score(X_train , y_train)))\n",
    "print(\"Score of ADA FINAL on Test Dataset {}\".format(ada_final.score(X_test , y_test)))"
   ]
  },
  {
   "cell_type": "markdown",
   "id": "ea1d6e7e",
   "metadata": {},
   "source": [
    "Now as I have tested the dataset on every model , so now it's time to compare the accuracy of the model."
   ]
  },
  {
   "cell_type": "code",
   "execution_count": 136,
   "id": "d7d13388",
   "metadata": {},
   "outputs": [],
   "source": [
    "model_list = [logi,d_tree_final,naive_c,knn_final,rf_final,ada_final]\n",
    "model_name = ['Logistic Regression' , 'Decission Tree' , 'Naive Bayes' , 'KNN' , 'Random Forest' , 'AdaBoost']\n",
    "Test_Score = []\n",
    "Train_Score = []\n",
    "\n",
    "for i in model_list:\n",
    "    Train_Score.append(i.score(X_train , y_train))\n",
    "    Test_Score.append(i.score(X_test , y_test))\n",
    "\n",
    "Output = pd.DataFrame()\n",
    "Output['Model Name'] = model_name\n",
    "Output['Train Score'] = Train_Score\n",
    "Output['Test Score'] = Test_Score"
   ]
  },
  {
   "cell_type": "code",
   "execution_count": 137,
   "id": "f74a27d9",
   "metadata": {},
   "outputs": [
    {
     "data": {
      "text/html": [
       "<div>\n",
       "<style scoped>\n",
       "    .dataframe tbody tr th:only-of-type {\n",
       "        vertical-align: middle;\n",
       "    }\n",
       "\n",
       "    .dataframe tbody tr th {\n",
       "        vertical-align: top;\n",
       "    }\n",
       "\n",
       "    .dataframe thead th {\n",
       "        text-align: right;\n",
       "    }\n",
       "</style>\n",
       "<table border=\"1\" class=\"dataframe\">\n",
       "  <thead>\n",
       "    <tr style=\"text-align: right;\">\n",
       "      <th></th>\n",
       "      <th>Model Name</th>\n",
       "      <th>Train Score</th>\n",
       "      <th>Test Score</th>\n",
       "    </tr>\n",
       "  </thead>\n",
       "  <tbody>\n",
       "    <tr>\n",
       "      <th>0</th>\n",
       "      <td>Logistic Regression</td>\n",
       "      <td>0.799947</td>\n",
       "      <td>0.808108</td>\n",
       "    </tr>\n",
       "    <tr>\n",
       "      <th>1</th>\n",
       "      <td>Decission Tree</td>\n",
       "      <td>0.832533</td>\n",
       "      <td>0.830111</td>\n",
       "    </tr>\n",
       "    <tr>\n",
       "      <th>2</th>\n",
       "      <td>Naive Bayes</td>\n",
       "      <td>0.773273</td>\n",
       "      <td>0.783438</td>\n",
       "    </tr>\n",
       "    <tr>\n",
       "      <th>3</th>\n",
       "      <td>KNN</td>\n",
       "      <td>0.833689</td>\n",
       "      <td>0.823043</td>\n",
       "    </tr>\n",
       "    <tr>\n",
       "      <th>4</th>\n",
       "      <td>Random Forest</td>\n",
       "      <td>1.000000</td>\n",
       "      <td>0.828777</td>\n",
       "    </tr>\n",
       "    <tr>\n",
       "      <th>5</th>\n",
       "      <td>AdaBoost</td>\n",
       "      <td>0.834667</td>\n",
       "      <td>0.841312</td>\n",
       "    </tr>\n",
       "  </tbody>\n",
       "</table>\n",
       "</div>"
      ],
      "text/plain": [
       "            Model Name  Train Score  Test Score\n",
       "0  Logistic Regression     0.799947    0.808108\n",
       "1       Decission Tree     0.832533    0.830111\n",
       "2          Naive Bayes     0.773273    0.783438\n",
       "3                  KNN     0.833689    0.823043\n",
       "4        Random Forest     1.000000    0.828777\n",
       "5             AdaBoost     0.834667    0.841312"
      ]
     },
     "execution_count": 137,
     "metadata": {},
     "output_type": "execute_result"
    }
   ],
   "source": [
    "Output"
   ]
  },
  {
   "cell_type": "code",
   "execution_count": 146,
   "id": "a31403e6",
   "metadata": {},
   "outputs": [
    {
     "data": {
      "text/plain": [
       "Text(0.5, 1.0, 'Final Scores of the Models')"
      ]
     },
     "execution_count": 146,
     "metadata": {},
     "output_type": "execute_result"
    },
    {
     "data": {
      "image/png": "[encoded data removed]",
      "text/plain": [
       "<Figure size 936x576 with 1 Axes>"
      ]
     },
     "metadata": {
      "needs_background": "light"
     },
     "output_type": "display_data"
    }
   ],
   "source": [
    "plt.figure(figsize = (13,8))\n",
    "sns.barplot(data = Output , x='Model Name' , y = 'Test Score')\n",
    "plt.title(\"Final Scores of the Models\")"
   ]
  },
  {
   "cell_type": "markdown",
   "id": "1f84dbd9",
   "metadata": {},
   "source": [
    "So now we can clearly identify that **AdaBoost Classifier** is giving the best accuracy. So we will go ahead with that algorithm."
   ]
  },
  {
   "cell_type": "code",
   "execution_count": 147,
   "id": "5963d509",
   "metadata": {},
   "outputs": [],
   "source": [
    "#Saving the model in using pickle, so that we can use it forward in our webapp.\n",
    "\n",
    "pk.dump(ada_final , open('final_model.pickle', 'wb'))"
   ]
  },
  {
   "cell_type": "code",
   "execution_count": null,
   "id": "7aaaf30e",
   "metadata": {},
   "outputs": [],
   "source": []
  }
 ],
 "metadata": {
  "kernelspec": {
   "display_name": "Python 3",
   "language": "python",
   "name": "python3"
  },
  "language_info": {
   "codemirror_mode": {
    "name": "ipython",
    "version": 3
   },
   "file_extension": ".py",
   "mimetype": "text/x-python",
   "name": "python",
   "nbconvert_exporter": "python",
   "pygments_lexer": "ipython3",
   "version": "3.8.8"
  }
 },
 "nbformat": 4,
 "nbformat_minor": 5
}
